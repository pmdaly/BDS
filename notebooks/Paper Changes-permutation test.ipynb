{
 "cells": [
  {
   "cell_type": "code",
   "execution_count": 3,
   "metadata": {},
   "outputs": [],
   "source": [
    "%autoreload 2\n",
    "\n",
    "import matplotlib.pyplot as plt\n",
    "import seaborn as sns\n",
    "from paper_changes import *\n",
    "# manual feature selection\n",
    "from collections import defaultdict\n",
    "from tqdm import tqdm\n",
    "from sklearn.svm import SVC\n",
    "from sklearn.decomposition import SparsePCA\n",
    "from scipy.stats import zscore\n",
    "\n",
    "from sklearn.feature_selection import SelectFromModel\n",
    "from sklearn.ensemble import RandomForestClassifier\n",
    "\n",
    "from sklearn.metrics import balanced_accuracy_score\n",
    "from sklearn.metrics import accuracy_score\n",
    "from sklearn.metrics import auc\n",
    "from sklearn.metrics import precision_score\n",
    "from sklearn.metrics import recall_score\n",
    "from sklearn.metrics import roc_auc_score\n",
    "\n",
    "import warnings\n",
    "warnings.filterwarnings(\"ignore\")\n",
    "\n",
    "%matplotlib inline"
   ]
  },
  {
   "cell_type": "code",
   "execution_count": 4,
   "metadata": {},
   "outputs": [],
   "source": [
    "import pickle\n",
    "import pandas as pd\n",
    "\n",
    "def load_data(field='relative', zscore=True):\n",
    "    infile = '/userdata/pdaly/supereeg/results/samp100_2h_54pid_pos-1.18.power.pkl'\n",
    "    data = pickle.load(open(infile, 'rb'))\n",
    "    labels = pd.read_csv('/home/kscangos/Sandbox/full_patient_list_pd_feb.csv', index_col=0)\n",
    "    labels['pid'] = labels.index.map(lambda pid: pid[2:])\n",
    "    df = data[field]\n",
    "    df = df.reset_index().merge(labels[['pid', 'dep']], left_on='index',\n",
    "                           right_on='pid').set_index('index').drop('pid', axis=1)\n",
    "    df.rename(columns={'Dep': 'dep'}, inplace=True)\n",
    "    df.drop(['92','111','119','131','135','27','115','130',\n",
    "             '144','158','162','170','183'], axis=0, inplace=True)\n",
    "    X, y = df.drop('dep', axis=1), df.dep\n",
    "    if zscore:\n",
    "        X = pd.DataFrame(StandardScaler().fit_transform(X), columns=X.columns, index=X.index)\n",
    "    return X, y"
   ]
  },
  {
   "cell_type": "code",
   "execution_count": 5,
   "metadata": {},
   "outputs": [],
   "source": [
    "class Metrics:\n",
    "    '''would dod this for test, but don't want to rewrite it'''\n",
    "    def __init__(self):\n",
    "        self.recalls = list()\n",
    "        self.precisions = list()\n",
    "        self.accuracies = list()\n",
    "        self.balanced_accuracies = list()\n",
    "        self.rocs = list()\n",
    "    \n",
    "    def add_results(self, actual, preds, probs):\n",
    "        self.recalls.append(recall_score(actual, preds))\n",
    "        self.precisions.append(precision_score(actual, preds))\n",
    "        self.accuracies.append(accuracy_score(actual, preds))\n",
    "        self.balanced_accuracies.append(balanced_accuracy_score(actual, preds))\n",
    "        self.rocs.append(roc_auc_score(actual, probs))\n",
    "    \n",
    "    def avg_all(self):\n",
    "        self.avgs = pd.Series({\n",
    "            'recall': np.mean(self.recalls),\n",
    "            'precision': np.mean(self.precisions),\n",
    "            'accuracy': np.mean(self.accuracies),\n",
    "            'balanced_accuracy': np.mean(self.balanced_accuracies),\n",
    "            'roc': np.mean(self.rocs)})\n",
    "        self.recall = self.avgs.recall\n",
    "        self.precision = self.avgs.precision\n",
    "        self.accuracy = self.avgs.accuracy\n",
    "        self.balanced_accuracy = self.avgs.balanced_accuracy\n",
    "        self.roc = self.avgs.roc"
   ]
  },
  {
   "cell_type": "code",
   "execution_count": 6,
   "metadata": {},
   "outputs": [],
   "source": [
    "def crossval(X, y, pipe, get_feats, ite=100, verbose=True, null=False):\n",
    "    feats = defaultdict(list)\n",
    "    preds = list()\n",
    "    probs = list()\n",
    "    model = 'logit'\n",
    "    trm = Metrics()\n",
    "    ys = list()\n",
    "    for _ in tqdm(range(ite)) if verbose else range(ite):\n",
    "        if null:\n",
    "            y = y.sample(frac=1)\n",
    "        ys.extend(y)\n",
    "        for train_idx, test_idx in LeaveOneOut().split(X):\n",
    "            pipe.fit(X.iloc[train_idx], y.iloc[train_idx])\n",
    "            trm.add_results(y.iloc[train_idx],\n",
    "                pipe.predict(X.iloc[train_idx]), \n",
    "                pipe.predict_proba(X.iloc[train_idx])[:, 1])\n",
    "            pred = pipe.predict(X.iloc[test_idx])[0]\n",
    "            proba = pipe.predict_proba(X.iloc[test_idx])[0][1]\n",
    "            preds.append(pred)\n",
    "            probs.append(proba)\n",
    "            fs = get_feats(pipe)\n",
    "            for f in fs.index:\n",
    "                if abs(fs[f]) > 0:\n",
    "                    feats[f].append(fs[f])\n",
    "    bm = pd.DataFrame(list(zip(preds, probs, ys)), \n",
    "                      columns=['pred', 'proba', 'actual'])\n",
    "    trm.avg_all()\n",
    "    return bm, trm, feats\n",
    "\n",
    "\n",
    "def print_res(bm, trm, model='logit'):\n",
    "    rs = recall_score(bm['actual'], bm['pred'])\n",
    "    ps = precision_score(bm['actual'], bm['pred'])\n",
    "    acc = accuracy_score(bm['actual'], bm['pred'])\n",
    "    bacc = balanced_accuracy_score(bm['actual'], bm['pred'])\n",
    "    roc = roc_auc_score(bm['actual'], bm['proba'])\n",
    "    \n",
    "    results = trm.avgs.to_frame().rename(columns={0: 'train'})\n",
    "    results['test'] = 0\n",
    "    results.loc['accuracy', 'test'] = acc\n",
    "    results.loc['balanced_accuracy', 'test'] = bacc\n",
    "    results.loc['precision', 'test'] = ps\n",
    "    results.loc['recall', 'test'] = rs\n",
    "    results.loc['roc', 'test'] = roc\n",
    "    \n",
    "    print(results.round(3))\n",
    "    \n",
    "    \n",
    "def plot_res(feats):\n",
    "    fig, axs = plt.subplots(1, 2, figsize=(14, 4))\n",
    "\n",
    "    fsrs['count'].apply(lambda v: v/4000).plot(kind='bar', ax=axs[0]);\n",
    "    axs[0].set_ylabel('Percent of Models w/ Feature')\n",
    "    fsrs['mean'].plot(kind='bar', yerr=fsrs['std'], ax=axs[1])\n",
    "    axs[1].set_ylabel('Avg Model Weight')\n",
    "\n",
    "    sns.despine()"
   ]
  },
  {
   "cell_type": "markdown",
   "metadata": {},
   "source": [
    "### CV: PCA(10) / Logit"
   ]
  },
  {
   "cell_type": "code",
   "execution_count": 7,
   "metadata": {},
   "outputs": [
    {
     "name": "stderr",
     "output_type": "stream",
     "text": [
      "100%|██████████| 1/1 [00:00<00:00,  3.03it/s]\n"
     ]
    },
    {
     "name": "stdout",
     "output_type": "stream",
     "text": [
      "                   train   test\n",
      "accuracy           0.813  0.780\n",
      "balanced_accuracy  0.811  0.774\n",
      "precision          0.840  0.792\n",
      "recall             0.825  0.826\n",
      "roc                0.874  0.758\n",
      "           mean       std  count\n",
      "pc_1   0.056643  0.021148     41\n",
      "pc_10  0.391591  0.003987      2\n",
      "pc_2   0.122495  0.044753     41\n",
      "pc_3  -0.601441  0.182362     41\n",
      "pc_4   0.175326  0.107674     40\n",
      "pc_5  -0.403649  0.414344      3\n",
      "pc_6  -1.109649  0.196183     40\n",
      "pc_8   0.299305  0.000000      1\n"
     ]
    },
    {
     "data": {
      "image/png": "[encoded data removed]",
      "text/plain": [
       "<Figure size 1008x288 with 2 Axes>"
      ]
     },
     "metadata": {
      "needs_background": "light"
     },
     "output_type": "display_data"
    }
   ],
   "source": [
    "X, y = load_data()\n",
    "\n",
    "pipe = Pipeline([('pca', PCA()),\n",
    "                 ('clf', LogisticRegression(C=0.75, penalty='l1', class_weight='balanced', solver='liblinear',\n",
    "                                                max_iter=100))])\n",
    "             \n",
    "get_feats = lambda pipe: pd.Series(np.squeeze(pipe.steps[-1][1].coef_), \n",
    "                                   index=['pc_' + str(i+1) for i in range(X.shape[1])])\n",
    "\n",
    "bm, trm, feats = crossval(X, y, pipe, get_feats, ite=1)\n",
    "\n",
    "print_res(bm, trm)\n",
    "\n",
    "fsrs = pd.DataFrame.from_dict({v: [np.mean(l), np.std(l), len(l)] for v, l in feats.items()},\n",
    "                              columns=['mean', 'std', 'count'], orient='index').sort_index()\n",
    "print(fsrs)\n",
    "\n",
    "plot_res(feats)"
   ]
  },
  {
   "cell_type": "code",
   "execution_count": 8,
   "metadata": {
    "scrolled": false
   },
   "outputs": [],
   "source": [
    "accuracy = 0.78"
   ]
  },
  {
   "cell_type": "markdown",
   "metadata": {},
   "source": [
    "## Null"
   ]
  },
  {
   "cell_type": "code",
   "execution_count": 9,
   "metadata": {},
   "outputs": [
    {
     "name": "stderr",
     "output_type": "stream",
     "text": [
      "100%|██████████| 1000/1000 [05:03<00:00,  3.30it/s]\n"
     ]
    },
    {
     "name": "stdout",
     "output_type": "stream",
     "text": [
      "                   train   test\n",
      "accuracy           0.705  0.503\n",
      "balanced_accuracy  0.708  0.503\n",
      "precision          0.768  0.564\n",
      "recall             0.682  0.501\n",
      "roc                0.782  0.504\n",
      "           mean       std  count\n",
      "pc_1  -0.002188  0.083201  37686\n",
      "pc_10 -0.007002  0.613819  11327\n",
      "pc_11  0.060768  0.680114   8243\n",
      "pc_12 -0.035151  0.673344   6927\n",
      "pc_13  0.009024  0.604447   4609\n",
      "pc_14 -0.008813  0.761958   3188\n",
      "pc_15 -0.049910  0.825729   2225\n",
      "pc_16 -0.023609  0.848842   1089\n",
      "pc_17 -0.040307  0.692296    118\n",
      "pc_18 -0.030969  0.701943     64\n",
      "pc_19  0.193132  0.522051     25\n",
      "pc_2   0.011223  0.130575  35861\n",
      "pc_3   0.006156  0.195020  34895\n",
      "pc_4   0.022101  0.222501  31082\n",
      "pc_5   0.012751  0.456021  22113\n",
      "pc_6   0.005542  0.494546  20340\n",
      "pc_7  -0.036334  0.561055  17262\n",
      "pc_8  -0.014471  0.575729  14996\n",
      "pc_9  -0.009053  0.570987  13038\n"
     ]
    },
    {
     "data": {
      "image/png": "[encoded data removed]",
      "text/plain": [
       "<Figure size 1008x288 with 2 Axes>"
      ]
     },
     "metadata": {
      "needs_background": "light"
     },
     "output_type": "display_data"
    }
   ],
   "source": [
    "X, y = load_data()\n",
    "\n",
    "pipe = Pipeline([('pca', PCA()),\n",
    "                 ('clf', LogisticRegression(C=0.75, penalty='l1', class_weight='balanced', solver='liblinear',\n",
    "                                                max_iter=100))])\n",
    "\n",
    "bm_null, trm_null, feats_null = crossval(X, y, pipe, get_feats, ite=1000, null=True)\n",
    "\n",
    "print_res(bm_null, trm_null)\n",
    "\n",
    "fsrs_null = pd.DataFrame.from_dict({v: [np.mean(l), np.std(l), len(l)] for v, l in feats_null.items()},\n",
    "                              columns=['mean', 'std', 'count'], orient='index').sort_index()\n",
    "print(fsrs_null)\n",
    "\n",
    "plot_res(feats_null)"
   ]
  },
  {
   "cell_type": "code",
   "execution_count": 12,
   "metadata": {},
   "outputs": [],
   "source": [
    "# t test vs null\n",
    "from rsd.utils import chunker\n",
    "\n",
    "null = {'bac': list(),\n",
    "        'acc': list(),\n",
    "        'rec': list(),\n",
    "        'prec': list(),\n",
    "        'auc': list()}\n",
    "\n",
    "for ch in chunker(bm_null, 41):\n",
    "    null['bac'].append(balanced_accuracy_score(ch['actual'], ch['pred']))\n",
    "    null['acc'].append(accuracy_score(ch['actual'], ch['pred']))\n",
    "    null['rec'].append(recall_score(ch['actual'], ch['pred']))\n",
    "    null['prec'].append(precision_score(ch['actual'], ch['pred']))\n",
    "    null['auc'].append(roc_auc_score(ch['actual'], ch['proba']))\n",
    "    "
   ]
  },
  {
   "cell_type": "code",
   "execution_count": 13,
   "metadata": {},
   "outputs": [
    {
     "data": {
      "text/plain": [
       "1000"
      ]
     },
     "execution_count": 13,
     "metadata": {},
     "output_type": "execute_result"
    }
   ],
   "source": [
    "len(null['acc'])"
   ]
  },
  {
   "cell_type": "code",
   "execution_count": 19,
   "metadata": {},
   "outputs": [
    {
     "data": {
      "text/plain": [
       "0.002"
      ]
     },
     "execution_count": 19,
     "metadata": {},
     "output_type": "execute_result"
    }
   ],
   "source": [
    "sum(n >= accuracy for n in null['acc']) / len(null['acc'])"
   ]
  },
  {
   "cell_type": "code",
   "execution_count": 15,
   "metadata": {},
   "outputs": [
    {
     "data": {
      "text/plain": [
       "0.78"
      ]
     },
     "execution_count": 15,
     "metadata": {},
     "output_type": "execute_result"
    }
   ],
   "source": [
    "accuracy"
   ]
  },
  {
   "cell_type": "code",
   "execution_count": 16,
   "metadata": {},
   "outputs": [
    {
     "data": {
      "text/plain": [
       "count    1000.000000\n",
       "mean        0.502854\n",
       "std         0.101164\n",
       "min         0.097561\n",
       "25%         0.439024\n",
       "50%         0.512195\n",
       "75%         0.560976\n",
       "max         0.780488\n",
       "dtype: float64"
      ]
     },
     "execution_count": 16,
     "metadata": {},
     "output_type": "execute_result"
    }
   ],
   "source": [
    "pd.Series(null['acc']).describe()"
   ]
  },
  {
   "cell_type": "code",
   "execution_count": 17,
   "metadata": {},
   "outputs": [
    {
     "data": {
      "text/plain": [
       "count    1000.000000\n",
       "mean        0.500826\n",
       "std         0.111411\n",
       "min         0.086957\n",
       "25%         0.434783\n",
       "50%         0.521739\n",
       "75%         0.565217\n",
       "max         0.826087\n",
       "dtype: float64"
      ]
     },
     "execution_count": 17,
     "metadata": {},
     "output_type": "execute_result"
    }
   ],
   "source": [
    "pd.Series(null['rec']).describe()"
   ]
  },
  {
   "cell_type": "code",
   "execution_count": null,
   "metadata": {},
   "outputs": [],
   "source": []
  }
 ],
 "metadata": {
  "kernelspec": {
   "display_name": "Python 3",
   "language": "python",
   "name": "python3"
  },
  "language_info": {
   "codemirror_mode": {
    "name": "ipython",
    "version": 3
   },
   "file_extension": ".py",
   "mimetype": "text/x-python",
   "name": "python",
   "nbconvert_exporter": "python",
   "pygments_lexer": "ipython3",
   "version": "3.5.2"
  }
 },
 "nbformat": 4,
 "nbformat_minor": 2
}
