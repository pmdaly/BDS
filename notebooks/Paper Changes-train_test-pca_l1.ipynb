{
 "cells": [
  {
   "cell_type": "code",
   "execution_count": 3,
   "metadata": {},
   "outputs": [],
   "source": [
    "%autoreload 2\n",
    "\n",
    "import matplotlib.pyplot as plt\n",
    "import seaborn as sns\n",
    "from paper_changes import *\n",
    "# manual feature selection\n",
    "from collections import defaultdict\n",
    "from tqdm import tqdm\n",
    "from sklearn.svm import SVC\n",
    "from sklearn.decomposition import SparsePCA\n",
    "from scipy.stats import zscore\n",
    "from sklearn.feature_selection import SelectFromModel\n",
    "from sklearn.ensemble import RandomForestClassifier\n",
    "\n",
    "from sklearn.metrics import balanced_accuracy_score\n",
    "from sklearn.metrics import accuracy_score\n",
    "from sklearn.metrics import auc\n",
    "from sklearn.metrics import precision_score\n",
    "from sklearn.metrics import recall_score\n",
    "from sklearn.metrics import roc_auc_score\n",
    "from scipy.stats import ttest_ind\n",
    "\n",
    "import warnings\n",
    "warnings.filterwarnings(\"ignore\")\n",
    "\n",
    "%matplotlib inline"
   ]
  },
  {
   "cell_type": "code",
   "execution_count": 9,
   "metadata": {},
   "outputs": [],
   "source": [
    "class Metrics:\n",
    "    '''would dod this for test, but don't want to rewrite it'''\n",
    "    def __init__(self):\n",
    "        self.recalls = list()\n",
    "        self.precisions = list()\n",
    "        self.accuracies = list()\n",
    "        self.balanced_accuracies = list()\n",
    "        self.rocs = list()\n",
    "        self.actual = list()\n",
    "        self.probs = list()\n",
    "    \n",
    "    def add_results(self, actual, preds, probs):\n",
    "        self.actual.append(actual)\n",
    "        self.probs.append(probs)\n",
    "        self.recalls.append(recall_score(actual, preds))\n",
    "        self.precisions.append(precision_score(actual, preds))\n",
    "        self.accuracies.append(accuracy_score(actual, preds))\n",
    "        self.balanced_accuracies.append(balanced_accuracy_score(actual, preds))\n",
    "        self.rocs.append(roc_auc_score(actual, probs))\n",
    "    \n",
    "    def avg_all(self):\n",
    "        self.avgs = pd.Series({\n",
    "            'recall': np.mean(self.recalls),\n",
    "            'precision': np.mean(self.precisions),\n",
    "            'accuracy': np.mean(self.accuracies),\n",
    "            'balanced_accuracy': np.mean(self.balanced_accuracies),\n",
    "            'roc': np.mean(self.rocs)})\n",
    "        self.recall = self.avgs.recall\n",
    "        self.precision = self.avgs.precision\n",
    "        self.accuracy = self.avgs.accuracy\n",
    "        self.balanced_accuracy = self.avgs.balanced_accuracy\n",
    "        self.roc = self.avgs.roc"
   ]
  },
  {
   "cell_type": "code",
   "execution_count": 5,
   "metadata": {},
   "outputs": [],
   "source": [
    "def crossval(X, y, pipe, get_feats, ite=100, verbose=True, null=False):\n",
    "    feats = defaultdict(list)\n",
    "    preds = list()\n",
    "    probs = list()\n",
    "    model = 'logit'\n",
    "    trm = Metrics()\n",
    "    ys = list()\n",
    "    for _ in tqdm(range(ite)) if verbose else range(ite):\n",
    "        if null:\n",
    "            y = y.sample(frac=1)\n",
    "        ys.extend(y)\n",
    "        for train_idx, test_idx in LeaveOneOut().split(X):\n",
    "            pipe.fit(X.iloc[train_idx], y.iloc[train_idx])\n",
    "            trm.add_results(y.iloc[train_idx],\n",
    "                pipe.predict(X.iloc[train_idx]), \n",
    "                pipe.predict_proba(X.iloc[train_idx])[:, 1])\n",
    "            pred = pipe.predict(X.iloc[test_idx])[0]\n",
    "            proba = pipe.predict_proba(X.iloc[test_idx])[0][1]\n",
    "            preds.append(pred)\n",
    "            probs.append(proba)\n",
    "            fs = get_feats(pipe)\n",
    "            for f in fs.index:\n",
    "                if abs(fs[f]) > 0:\n",
    "                    feats[f].append(fs[f])\n",
    "    bm = pd.DataFrame(list(zip(preds, probs, ys)), \n",
    "                      columns=['pred', 'proba', 'actual'])\n",
    "    trm.avg_all()\n",
    "    return bm, trm, feats\n",
    "\n",
    "\n",
    "def print_res(bm, trm, model='logit'):\n",
    "    rs = recall_score(bm['actual'], bm['pred'])\n",
    "    ps = precision_score(bm['actual'], bm['pred'])\n",
    "    acc = accuracy_score(bm['actual'], bm['pred'])\n",
    "    bacc = balanced_accuracy_score(bm['actual'], bm['pred'])\n",
    "    roc = roc_auc_score(bm['actual'], bm['proba'])\n",
    "    \n",
    "    results = trm.avgs.to_frame().rename(columns={0: 'train'})\n",
    "    results['test'] = 0\n",
    "    results.loc['accuracy', 'test'] = acc\n",
    "    results.loc['balanced_accuracy', 'test'] = bacc\n",
    "    results.loc['precision', 'test'] = ps\n",
    "    results.loc['recall', 'test'] = rs\n",
    "    results.loc['roc', 'test'] = roc\n",
    "    \n",
    "    print(results.round(3))\n",
    "    #print(model)\n",
    "    #print('------------------------')\n",
    "    #print('Recall       : {:1.3f}'.format(rs))\n",
    "    #print('Precision    : {:1.3f}'.format(ps))\n",
    "    #print('Accuracy     : {:1.3f}'.format(acc))\n",
    "    #print('Bal. Accuracy: {:1.3f}'.format(bacc))\n",
    "    #print('ROC AUC.     : {:1.3f}\\n'.format(roc))\n",
    "    \n",
    "    \n",
    "def plot_res(feats):\n",
    "    fig, axs = plt.subplots(1, 2, figsize=(14, 4))\n",
    "\n",
    "    fsrs['count'].apply(lambda v: v/4000).plot(kind='bar', ax=axs[0]);\n",
    "    axs[0].set_ylabel('Percent of Models w/ Feature')\n",
    "    fsrs['mean'].plot(kind='bar', yerr=fsrs['std'], ax=axs[1])\n",
    "    axs[1].set_ylabel('Avg Model Weight')\n",
    "\n",
    "    sns.despine()\n",
    "    \n",
    "df = pd.read_csv('/home/pdaly/supereeg/data/apr6_100samp_2h_ml/df.csv', index_col=0)\n",
    "\n",
    "X = pd.DataFrame(PCA().fit_transform(df.drop('dep', axis=1).apply(zscore)))\n",
    "y = df['dep']"
   ]
  },
  {
   "cell_type": "code",
   "execution_count": 10,
   "metadata": {},
   "outputs": [
    {
     "name": "stderr",
     "output_type": "stream",
     "text": [
      "100%|██████████| 1/1 [00:00<00:00,  2.30it/s]"
     ]
    },
    {
     "name": "stdout",
     "output_type": "stream",
     "text": [
      "                   train   test\n",
      "recall             0.825  0.826\n",
      "precision          0.839  0.792\n",
      "accuracy           0.812  0.780\n",
      "balanced_accuracy  0.811  0.774\n",
      "roc                0.874  0.758\n",
      "           mean       std  count\n",
      "pc_1   0.056643  0.021147     41\n",
      "pc_10  0.391603  0.003982      2\n",
      "pc_2   0.122500  0.044749     41\n",
      "pc_3  -0.601424  0.182366     41\n",
      "pc_4   0.175334  0.107674     40\n",
      "pc_5  -0.403697  0.414315      3\n",
      "pc_6  -1.109648  0.196189     40\n",
      "pc_8   0.299289  0.000000      1\n"
     ]
    },
    {
     "name": "stderr",
     "output_type": "stream",
     "text": [
      "\n"
     ]
    }
   ],
   "source": [
    "X, y = load_data()\n",
    "\n",
    "pipe = Pipeline([('pca', PCA()),\n",
    "                 ('clf', LogisticRegression(C=0.75, penalty='l1', class_weight='balanced', solver='liblinear',\n",
    "                                                max_iter=100))])\n",
    "             \n",
    "get_feats = lambda pipe: pd.Series(np.squeeze(pipe.steps[-1][1].coef_), \n",
    "                                   index=['pc_' + str(i+1) for i in range(X.shape[1])])\n",
    "\n",
    "bm, trm, feats = crossval(X, y, pipe, get_feats, ite=1)\n",
    "\n",
    "print_res(bm, trm)\n",
    "\n",
    "fsrs = pd.DataFrame.from_dict({v: [np.mean(l), np.std(l), len(l)] for v, l in feats.items()},\n",
    "                              columns=['mean', 'std', 'count'], orient='index').sort_index()\n",
    "print(fsrs)\n",
    "\n",
    "plot_res(feats)"
   ]
  },
  {
   "cell_type": "code",
   "execution_count": 33,
   "metadata": {},
   "outputs": [],
   "source": [
    "pipe.fit(X, y)\n",
    "feats = get_feats(pipe)"
   ]
  },
  {
   "cell_type": "code",
   "execution_count": 44,
   "metadata": {},
   "outputs": [
    {
     "data": {
      "image/png": "[encoded data removed]",
      "text/plain": [
       "<Figure size 576x432 with 1 Axes>"
      ]
     },
     "metadata": {
      "needs_background": "light"
     },
     "output_type": "display_data"
    }
   ],
   "source": [
    "plt.figure(figsize=(8, 6))\n",
    "feats[feats != 0].plot(kind='bar')\n",
    "plt.xlabel('Principal Component')\n",
    "plt.ylabel('Logit Coeficient')\n",
    "plt.title('Model Loadings')\n",
    "sns.despine()"
   ]
  },
  {
   "cell_type": "code",
   "execution_count": 32,
   "metadata": {},
   "outputs": [
    {
     "data": {
      "image/png": "[encoded data removed]",
      "text/plain": [
       "<Figure size 720x576 with 1 Axes>"
      ]
     },
     "metadata": {
      "needs_background": "light"
     },
     "output_type": "display_data"
    }
   ],
   "source": [
    "from sklearn.metrics import roc_curve\n",
    "from scipy import interp\n",
    "\n",
    "plt.figure(figsize=(10, 8))\n",
    "\n",
    "y_test_actual = bm.actual.values.reshape(len(bm), 1)\n",
    "y_test_proba = bm.proba.values.reshape(len(bm), 1)\n",
    "\n",
    "fpr, tpr, _ = roc_curve(y_test_actual,  y_test_proba)\n",
    "auc = roc_auc_score(y_test_actual, y_test_proba)\n",
    "plt.plot(fpr, tpr, color='g', label=\"Test (pooled) AUC=\"+str(round(auc, 3)))\n",
    "\n",
    "\n",
    "actuals = trm.actual\n",
    "probas = trm.probs\n",
    "\n",
    "tprs = []\n",
    "base_fpr = np.linspace(0, 1, 101)\n",
    "aucs = list()\n",
    "\n",
    "for actual, proba in zip(actuals, probas):\n",
    "    fpr, tpr, _ = roc_curve(actual,  proba)\n",
    "    plt.plot(fpr, tpr, 'b', alpha=0.15)\n",
    "    tpr = interp(base_fpr, fpr, tpr)\n",
    "    tpr[0] = 0.0\n",
    "    tprs.append(tpr)\n",
    "    aucs.append(roc_auc_score(actual, proba))\n",
    "                \n",
    "tprs = np.array(tprs)\n",
    "mean_tprs = tprs.mean(axis=0)\n",
    "std = tprs.std(axis=0)\n",
    "\n",
    "tprs_upper = np.minimum(mean_tprs + std, 1)\n",
    "tprs_lower = mean_tprs - std\n",
    "\n",
    "\n",
    "plt.plot(base_fpr, mean_tprs, 'b', label=\"Train AUC=\"+str(round(np.mean(aucs), 3)))\n",
    "plt.fill_between(base_fpr, tprs_lower, tprs_upper, color='grey', alpha=0.3)\n",
    "plt.legend(loc=4)\n",
    "\n",
    "plt.plot([0, 1], [0, 1],'r--')\n",
    "plt.xlim([0, 1])\n",
    "plt.ylim([0, 1])\n",
    "plt.ylabel('True Positive Rate')\n",
    "plt.xlabel('False Positive Rate')\n",
    "plt.title('Train vs Test RoC')\n",
    "\n",
    "sns.despine()\n",
    "\n",
    "plt.savefig('/home/pdaly/images/pca-l1_train-test_roc.pdf', transparent=True)"
   ]
  },
  {
   "cell_type": "code",
   "execution_count": null,
   "metadata": {},
   "outputs": [],
   "source": []
  }
 ],
 "metadata": {
  "kernelspec": {
   "display_name": "Python 3",
   "language": "python",
   "name": "python3"
  },
  "language_info": {
   "codemirror_mode": {
    "name": "ipython",
    "version": 3
   },
   "file_extension": ".py",
   "mimetype": "text/x-python",
   "name": "python",
   "nbconvert_exporter": "python",
   "pygments_lexer": "ipython3",
   "version": "3.6.9"
  }
 },
 "nbformat": 4,
 "nbformat_minor": 2
}
