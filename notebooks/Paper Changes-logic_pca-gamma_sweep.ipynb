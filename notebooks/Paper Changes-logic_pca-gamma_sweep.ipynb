{
 "cells": [
  {
   "cell_type": "code",
   "execution_count": 1,
   "metadata": {},
   "outputs": [],
   "source": [
    "%autoreload 2\n",
    "\n",
    "import matplotlib.pyplot as plt\n",
    "import seaborn as sns\n",
    "import pickle\n",
    "import pandas as pd\n",
    "\n",
    "from paper_changes import *\n",
    "from collections import defaultdict\n",
    "from tqdm import tqdm\n",
    "from scipy.stats import zscore\n",
    "from glob import glob\n",
    "\n",
    "from sklearn.metrics import balanced_accuracy_score\n",
    "from sklearn.metrics import accuracy_score\n",
    "from sklearn.metrics import auc\n",
    "from sklearn.metrics import precision_score\n",
    "from sklearn.metrics import recall_score\n",
    "from sklearn.metrics import roc_auc_score\n",
    "\n",
    "import warnings\n",
    "warnings.filterwarnings(\"ignore\")\n",
    "\n",
    "%matplotlib inline"
   ]
  },
  {
   "cell_type": "code",
   "execution_count": 2,
   "metadata": {},
   "outputs": [],
   "source": [
    "plt.rcParams['pdf.fonttype'] = 42\n",
    "plt.rcParams['ps.fonttype'] = 42"
   ]
  },
  {
   "cell_type": "code",
   "execution_count": 20,
   "metadata": {},
   "outputs": [],
   "source": [
    "def load_data(fn, field='relative', zscore=True):\n",
    "    #infile = '/userdata/pdaly/supereeg/results/samp100_2h_54pid_pos-1.18.power.pkl'\n",
    "    data = pickle.load(open(fn, 'rb'))\n",
    "    labels = pd.read_csv('/home/kscangos/Sandbox/full_patient_list_pd_feb.csv', index_col=0)\n",
    "    labels['pid'] = labels.index.map(lambda pid: pid[2:])\n",
    "    df = data[field]\n",
    "    df = df.reset_index().merge(labels[['pid', 'dep']], left_on='index',\n",
    "                           right_on='pid').set_index('index').drop('pid', axis=1)\n",
    "    df.rename(columns={'Dep': 'dep'}, inplace=True)\n",
    "    df.drop(['92','111','119','131','135','27','115','130',\n",
    "             '144','158','162','170','183'], axis=0, inplace=True)\n",
    "    X, y = df.drop('dep', axis=1), df.dep\n",
    "    if zscore:\n",
    "        X = pd.DataFrame(StandardScaler().fit_transform(X), columns=X.columns, index=X.index)\n",
    "    return X, y"
   ]
  },
  {
   "cell_type": "code",
   "execution_count": 52,
   "metadata": {},
   "outputs": [],
   "source": [
    "class Metrics:\n",
    "    '''would dod this for test, but don't want to rewrite it'''\n",
    "    def __init__(self):\n",
    "        self.recalls = list()\n",
    "        self.precisions = list()\n",
    "        self.accuracies = list()\n",
    "        self.balanced_accuracies = list()\n",
    "        self.rocs = list()\n",
    "    \n",
    "    def add_results(self, actual, preds, probs):\n",
    "        self.recalls.append(recall_score(actual, preds))\n",
    "        self.precisions.append(precision_score(actual, preds))\n",
    "        self.accuracies.append(accuracy_score(actual, preds))\n",
    "        self.balanced_accuracies.append(balanced_accuracy_score(actual, preds))\n",
    "        self.rocs.append(roc_auc_score(actual, probs))\n",
    "    \n",
    "    def avg_all(self):\n",
    "        self.avgs = pd.Series({\n",
    "            'recall': np.mean(self.recalls),\n",
    "            'precision': np.mean(self.precisions),\n",
    "            'accuracy': np.mean(self.accuracies),\n",
    "            'balanced_accuracy': np.mean(self.balanced_accuracies),\n",
    "            'roc': np.mean(self.rocs)})\n",
    "        self.recall = self.avgs.recall\n",
    "        self.precision = self.avgs.precision\n",
    "        self.accuracy = self.avgs.accuracy\n",
    "        self.balanced_accuracy = self.avgs.balanced_accuracy\n",
    "        self.roc = self.avgs.roc\n",
    "\n",
    "def crossval(X, y, pipe, ite=100, verbose=True, null=False):\n",
    "    feats = defaultdict(list)\n",
    "    preds = list()\n",
    "    probs = list()\n",
    "    model = 'logit'\n",
    "    trm = Metrics()\n",
    "    ys = list()\n",
    "    for _ in tqdm(range(ite)) if verbose else range(ite):\n",
    "        if null:\n",
    "            y = y.sample(frac=1)\n",
    "        ys.extend(y)\n",
    "        for train_idx, test_idx in LeaveOneOut().split(X):\n",
    "            pipe.fit(X.iloc[train_idx], y.iloc[train_idx])\n",
    "            trm.add_results(y.iloc[train_idx],\n",
    "                pipe.predict(X.iloc[train_idx]), \n",
    "                pipe.predict_proba(X.iloc[train_idx])[:, 1])\n",
    "            pred = pipe.predict(X.iloc[test_idx])[0]\n",
    "            proba = pipe.predict_proba(X.iloc[test_idx])[0][1]\n",
    "            preds.append(pred)\n",
    "            probs.append(proba)\n",
    "    bm = pd.DataFrame(list(zip(preds, probs, ys)), \n",
    "                      columns=['pred', 'proba', 'actual'])\n",
    "    trm.avg_all()\n",
    "    return bm, trm\n",
    "\n",
    "def print_res(bm, trm, model='logit'):\n",
    "    rs = recall_score(bm['actual'], bm['pred'])\n",
    "    ps = precision_score(bm['actual'], bm['pred'])\n",
    "    acc = accuracy_score(bm['actual'], bm['pred'])\n",
    "    bacc = balanced_accuracy_score(bm['actual'], bm['pred'])\n",
    "    roc = roc_auc_score(bm['actual'], bm['proba'])\n",
    "    \n",
    "    results = trm.avgs.to_frame().rename(columns={0: 'train'})\n",
    "    results['test'] = 0\n",
    "    results.loc['accuracy', 'test'] = acc\n",
    "    results.loc['balanced_accuracy', 'test'] = bacc\n",
    "    results.loc['precision', 'test'] = ps\n",
    "    results.loc['recall', 'test'] = rs\n",
    "    results.loc['roc', 'test'] = roc\n",
    "    \n",
    "    print(results.round(3))"
   ]
  },
  {
   "cell_type": "markdown",
   "metadata": {},
   "source": [
    "# Log Odds"
   ]
  },
  {
   "cell_type": "code",
   "execution_count": 54,
   "metadata": {},
   "outputs": [],
   "source": [
    "fns = [fn for fn in glob('/userdata/pdaly/supereeg/results/samp100_2h_54pid_pos-*.power.pkl')\n",
    "       if all(e not in fn for e in ('line', 'shuffled', 'yeo'))]\n",
    "fns.sort()"
   ]
  },
  {
   "cell_type": "code",
   "execution_count": 56,
   "metadata": {},
   "outputs": [
    {
     "name": "stdout",
     "output_type": "stream",
     "text": [
      "/userdata/pdaly/supereeg/results/samp100_2h_54pid_pos-0.729.power.pkl... shape: 6\n",
      "                   train   test\n",
      "accuracy           0.734  0.707\n",
      "balanced_accuracy  0.730  0.703\n",
      "precision          0.762  0.739\n",
      "recall             0.765  0.739\n",
      "roc                0.824  0.698\n",
      "\n",
      "/userdata/pdaly/supereeg/results/samp100_2h_54pid_pos-0.958.power.pkl... shape: 18\n",
      "                   train   test\n",
      "accuracy           0.806  0.756\n",
      "balanced_accuracy  0.804  0.752\n",
      "precision          0.833  0.783\n",
      "recall             0.820  0.783\n",
      "roc                0.865  0.732\n",
      "\n",
      "/userdata/pdaly/supereeg/results/samp100_2h_54pid_pos-1.18.power.pkl... shape: 36\n",
      "                   train   test\n",
      "accuracy           0.812  0.780\n",
      "balanced_accuracy  0.811  0.774\n",
      "precision          0.839  0.792\n",
      "recall             0.825  0.826\n",
      "roc                0.874  0.758\n",
      "\n",
      "/userdata/pdaly/supereeg/results/samp100_2h_54pid_pos-1.416.power.pkl... shape: 36\n",
      "                   train   test\n",
      "accuracy           0.787  0.756\n",
      "balanced_accuracy  0.783  0.752\n",
      "precision          0.805  0.783\n",
      "recall             0.821  0.783\n",
      "roc                0.867  0.754\n",
      "\n",
      "/userdata/pdaly/supereeg/results/samp100_2h_54pid_pos-1.645.power.pkl... shape: 78\n",
      "                   train   test\n",
      "accuracy           0.831  0.732\n",
      "balanced_accuracy  0.828  0.731\n",
      "precision          0.847  0.773\n",
      "recall             0.853  0.739\n",
      "roc                0.902  0.729\n",
      "\n",
      "/userdata/pdaly/supereeg/results/samp100_2h_54pid_pos-1.875.power.pkl... shape: 186\n",
      "                   train   test\n",
      "accuracy           0.898  0.585\n",
      "balanced_accuracy  0.897  0.588\n",
      "precision          0.908  0.650\n",
      "recall             0.912  0.565\n",
      "roc                0.951  0.700\n",
      "\n",
      "/userdata/pdaly/supereeg/results/samp100_2h_54pid_pos-6.0.power.pkl... shape: 25464\n",
      "                   train   test\n",
      "accuracy             1.0  0.683\n",
      "balanced_accuracy    1.0  0.687\n",
      "precision            1.0  0.750\n",
      "recall               1.0  0.652\n",
      "roc                  1.0  0.676\n",
      "\n"
     ]
    }
   ],
   "source": [
    "for fn in fns:\n",
    "    \n",
    "    X, y = load_data(fn=fn)\n",
    "    \n",
    "    print('{}... shape: {}'.format(fn, X.shape[1]))\n",
    "\n",
    "    pipe = Pipeline([('pca', PCA()),\n",
    "                     ('clf', LogisticRegression(C=0.75, penalty='l1', class_weight='balanced', solver='liblinear',\n",
    "                                                    max_iter=100))])\n",
    "\n",
    "    bm_best, trm_best = crossval(X, y, pipe, ite=1, verbose=False)\n",
    "\n",
    "    print_res(bm_best, trm_best)\n",
    "    \n",
    "    print()"
   ]
  },
  {
   "cell_type": "code",
   "execution_count": 57,
   "metadata": {},
   "outputs": [],
   "source": [
    "accuracies = [0.707, 0.756, 0.780, 0.756, 0.732, 0.585, 0.683]\n",
    "gammas = [0.729, 0.958, 1.18, 1.416, 1.645, 1.875, 6.0]\n",
    "nfeats = [6, 18, 36, 36, 78, 186, 25464]"
   ]
  },
  {
   "cell_type": "code",
   "execution_count": 59,
   "metadata": {},
   "outputs": [],
   "source": [
    "df = pd.DataFrame(list(zip(accuacies, gammas, nfeats)), \n",
    "                  columns=['accuracy', 'gamma', 'nfeats'])"
   ]
  },
  {
   "cell_type": "code",
   "execution_count": 60,
   "metadata": {},
   "outputs": [
    {
     "data": {
      "text/html": [
       "<div>\n",
       "<style scoped>\n",
       "    .dataframe tbody tr th:only-of-type {\n",
       "        vertical-align: middle;\n",
       "    }\n",
       "\n",
       "    .dataframe tbody tr th {\n",
       "        vertical-align: top;\n",
       "    }\n",
       "\n",
       "    .dataframe thead th {\n",
       "        text-align: right;\n",
       "    }\n",
       "</style>\n",
       "<table border=\"1\" class=\"dataframe\">\n",
       "  <thead>\n",
       "    <tr style=\"text-align: right;\">\n",
       "      <th></th>\n",
       "      <th>accuracy</th>\n",
       "      <th>gamma</th>\n",
       "      <th>nfeats</th>\n",
       "    </tr>\n",
       "  </thead>\n",
       "  <tbody>\n",
       "    <tr>\n",
       "      <th>0</th>\n",
       "      <td>0.707</td>\n",
       "      <td>0.729</td>\n",
       "      <td>6</td>\n",
       "    </tr>\n",
       "    <tr>\n",
       "      <th>1</th>\n",
       "      <td>0.756</td>\n",
       "      <td>0.958</td>\n",
       "      <td>18</td>\n",
       "    </tr>\n",
       "    <tr>\n",
       "      <th>2</th>\n",
       "      <td>0.780</td>\n",
       "      <td>1.180</td>\n",
       "      <td>36</td>\n",
       "    </tr>\n",
       "    <tr>\n",
       "      <th>3</th>\n",
       "      <td>0.756</td>\n",
       "      <td>1.416</td>\n",
       "      <td>36</td>\n",
       "    </tr>\n",
       "    <tr>\n",
       "      <th>4</th>\n",
       "      <td>0.732</td>\n",
       "      <td>1.645</td>\n",
       "      <td>78</td>\n",
       "    </tr>\n",
       "    <tr>\n",
       "      <th>5</th>\n",
       "      <td>0.585</td>\n",
       "      <td>1.875</td>\n",
       "      <td>186</td>\n",
       "    </tr>\n",
       "    <tr>\n",
       "      <th>6</th>\n",
       "      <td>0.683</td>\n",
       "      <td>6.000</td>\n",
       "      <td>25464</td>\n",
       "    </tr>\n",
       "  </tbody>\n",
       "</table>\n",
       "</div>"
      ],
      "text/plain": [
       "   accuracy  gamma  nfeats\n",
       "0     0.707  0.729       6\n",
       "1     0.756  0.958      18\n",
       "2     0.780  1.180      36\n",
       "3     0.756  1.416      36\n",
       "4     0.732  1.645      78\n",
       "5     0.585  1.875     186\n",
       "6     0.683  6.000   25464"
      ]
     },
     "execution_count": 60,
     "metadata": {},
     "output_type": "execute_result"
    }
   ],
   "source": [
    "df"
   ]
  },
  {
   "cell_type": "code",
   "execution_count": 80,
   "metadata": {},
   "outputs": [
    {
     "data": {
      "image/png": "[encoded data removed]",
      "text/plain": [
       "<Figure size 432x288 with 1 Axes>"
      ]
     },
     "metadata": {
      "needs_background": "light"
     },
     "output_type": "display_data"
    }
   ],
   "source": [
    "plt.plot(df.gamma, df.accuracy, '--', color='red')\n",
    "plt.ylim([0, 1])\n",
    "plt.xlabel('gamma')\n",
    "plt.ylabel('Accuracy')\n",
    "\n",
    "sns.despine()\n",
    "\n",
    "plt.savefig('../temp/gamma_accuracy.pdf', transparent=True)"
   ]
  },
  {
   "cell_type": "code",
   "execution_count": 81,
   "metadata": {},
   "outputs": [
    {
     "data": {
      "image/png": "[encoded data removed]",
      "text/plain": [
       "<Figure size 432x288 with 1 Axes>"
      ]
     },
     "metadata": {
      "needs_background": "light"
     },
     "output_type": "display_data"
    }
   ],
   "source": [
    "plt.plot(df.drop(6).gamma, df.drop(6).accuracy, '--', color='red')\n",
    "plt.ylim([0, 1])\n",
    "plt.xlabel('gamma')\n",
    "plt.ylabel('Accuracy')\n",
    "\n",
    "sns.despine()\n",
    "\n",
    "plt.savefig('../temp/gamma_accuracy-all.pdf', transparent=True)"
   ]
  },
  {
   "cell_type": "code",
   "execution_count": null,
   "metadata": {},
   "outputs": [],
   "source": []
  }
 ],
 "metadata": {
  "kernelspec": {
   "display_name": "Python 3",
   "language": "python",
   "name": "python3"
  },
  "language_info": {
   "codemirror_mode": {
    "name": "ipython",
    "version": 3
   },
   "file_extension": ".py",
   "mimetype": "text/x-python",
   "name": "python",
   "nbconvert_exporter": "python",
   "pygments_lexer": "ipython3",
   "version": "3.5.2"
  }
 },
 "nbformat": 4,
 "nbformat_minor": 2
}
