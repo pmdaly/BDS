{
 "cells": [
  {
   "cell_type": "code",
   "execution_count": 114,
   "metadata": {
    "scrolled": false
   },
   "outputs": [
    {
     "name": "stdout",
     "output_type": "stream",
     "text": [
      "The autoreload extension is already loaded. To reload it, use:\n",
      "  %reload_ext autoreload\n"
     ]
    }
   ],
   "source": [
    "import os \n",
    "import seaborn as sns\n",
    "import pandas as pd\n",
    "import numpy as np\n",
    "#import hdbscan\n",
    "from sklearn.manifold import TSNE\n",
    "import matplotlib.pyplot as plt\n",
    "from sklearn.metrics.pairwise import cosine_similarity as cos\n",
    "from scipy.special import logit\n",
    "from sklearn.cluster import SpectralClustering\n",
    "from matplotlib.pyplot import figure\n",
    "import matplotlib.style as style \n",
    "import copy\n",
    "from matplotlib.pyplot import figure\n",
    "from matplotlib import cm\n",
    "from scipy.stats import zscore\n",
    "from scipy.cluster.hierarchy import linkage\n",
    "\n",
    "\n",
    "sns.set()\n",
    "sns.set_style(\"white\")\n",
    "\n",
    "%load_ext autoreload\n",
    "%autoreload 2\n",
    "\n",
    "sns.set_style(\n",
    "    'ticks', {\n",
    "        'axes.grid': False,\n",
    "        'axes.spines.right': False,\n",
    "        'axes.spines.top': False,\n",
    "        'xtick.bottom': True,\n",
    "        'ytick.left': True,\n",
    "        'xtick.color': 'k',\n",
    "        'ytick.color': 'k'\n",
    "    })\n",
    "\n",
    "sns.set_style(\"white\")\n",
    "style.use('ggplot')\n",
    "\n",
    "plt.rcParams['pdf.fonttype'] = 42\n",
    "plt.rcParams['ps.fonttype'] = 42 #when saving as a pdf, do something with the background"
   ]
  },
  {
   "cell_type": "code",
   "execution_count": 4,
   "metadata": {},
   "outputs": [
    {
     "data": {
      "text/html": [
       "<script>\n",
       "code_show=true; \n",
       "function code_toggle() {\n",
       " if (code_show){\n",
       " $('div.input').hide();\n",
       " } else {\n",
       " $('div.input').show();\n",
       " }\n",
       " code_show = !code_show\n",
       "} \n",
       "$( document ).ready(code_toggle);\n",
       "</script>\n",
       "<form action=\"javascript:code_toggle()\"><input type=\"submit\" value=\"Click here to toggle on/off the raw code.\"></form>"
      ],
      "text/plain": [
       "<IPython.core.display.HTML object>"
      ]
     },
     "execution_count": 4,
     "metadata": {},
     "output_type": "execute_result"
    }
   ],
   "source": [
    "from IPython.display import HTML\n",
    "\n",
    "HTML('''<script>\n",
    "code_show=true; \n",
    "function code_toggle() {\n",
    " if (code_show){\n",
    " $('div.input').hide();\n",
    " } else {\n",
    " $('div.input').show();\n",
    " }\n",
    " code_show = !code_show\n",
    "} \n",
    "$( document ).ready(code_toggle);\n",
    "</script>\n",
    "<form action=\"javascript:code_toggle()\"><input type=\"submit\" value=\"Click here to toggle on/off the raw code.\"></form>''')"
   ]
  },
  {
   "cell_type": "markdown",
   "metadata": {},
   "source": [
    "## CHANGE DATA PATH"
   ]
  },
  {
   "cell_type": "code",
   "execution_count": 116,
   "metadata": {
    "scrolled": false
   },
   "outputs": [],
   "source": [
    "DATA_PATH = \"/home/pdaly/temp/P_pca_logit-norf_gt-02.csv\"\n",
    "LABELS = \"/home/kscangos/Sandbox/full_patient_list_pd_feb.csv\"\n",
    "P = pd.read_csv(DATA_PATH, index_col = 0).T\n",
    "\n",
    "df = pd.read_csv('/home/pdaly/supereeg/data/apr6_100samp_2h_ml/df.csv', index_col=0)\n",
    "depr_recs = list(set(df[df.dep ==1].index))"
   ]
  },
  {
   "cell_type": "code",
   "execution_count": 117,
   "metadata": {},
   "outputs": [],
   "source": [
    "def sig(x):\n",
    "    return 1/(1+np.exp(-x))\n",
    "\n",
    "def occlude_feature_sensitivity(feature_list, X):\n",
    "    \"\"\"\n",
    "    Return matrix with columns dropped from feature_list\n",
    "    parameter: X pandas.DataFrame\n",
    "    \"\"\"\n",
    "    assert type(X) == pd.DataFrame\n",
    "    X_occ = X.drop(feature_list, axis=1)\n",
    "    prob_occ = sig(X_occ.agg(sum,axis=1))\n",
    "    prob_full = sig(X.agg(sum,axis=1))\n",
    "    return prob_full - prob_occ\n",
    "\n",
    "\n",
    "def plot_corr(samp, title, inds = np.array([]), size=(12,12), vmin=None, vmax=None):\n",
    "    corr = samp.corr()\n",
    "    if len(inds) == 0:\n",
    "        inds = np.arange(corr.shape[0])\n",
    "    elif inds == \"ascending\":\n",
    "        means = np.mean(corr, axis=1)\n",
    "        inds = np.argsort(means)\n",
    "    elif inds == \"descending\":\n",
    "        means = np.mean(corr, axis=1)\n",
    "        inds = np.argsort(means)[::-1]\n",
    "    corr = corr.values[np.ix_(inds, inds)]\n",
    "    plt.figure(figsize=size)\n",
    "    plt.matshow(corr, fignum=1, vmin=vmin, vmax=vmax)\n",
    "    plt.xticks(range(samp.shape[1]), samp.columns[inds], fontsize=14, rotation=45)\n",
    "    plt.yticks(range(samp.shape[1]), samp.columns[inds], fontsize=14)\n",
    "    cb = plt.colorbar()\n",
    "    cb.ax.tick_params(labelsize=12)\n",
    "    plt.grid()\n",
    "    return plt.title(title, fontsize=16, y=1.15)"
   ]
  },
  {
   "cell_type": "code",
   "execution_count": 118,
   "metadata": {},
   "outputs": [],
   "source": [
    "def plot_stacked_probabilities(pat_probs,title, xlabel, ylabel, color_order, save_dir = \"\",top=True, bottom=False, ax=None):\n",
    "    \"\"\"\n",
    "    This method replaces the rather tedious and needlessly wordy cells that plotted \n",
    "    the activity bars. \n",
    "    This subroutine plots the result of occluding each cluster from the classification for each patient.\n",
    "    \n",
    "    Parameters\n",
    "    ----------\n",
    "    \n",
    "        -pat_probs : pd.DataFrame with an index of the patient ids\n",
    "            and the columns being the cluster activity contribution\n",
    "            to probability of MDD classification\n",
    "            \n",
    "        - title : str of what you want to title the figure\n",
    "        \n",
    "        - xlabel : str label for the xaxis\n",
    "        \n",
    "        - ylabel : str label for the y axis\n",
    "        \n",
    "        - color_order : str codes for color coating each bar. First entry will be topmost bar\n",
    "        \n",
    "        - sav_dir : str location you want to save figures to\n",
    "    \"\"\"\n",
    "    pat_neg_probs = pat_probs[pat_probs <0].fillna(0.0)\n",
    "    pat_pos_probs = pat_probs[pat_probs >= 0].fillna(0.0)\n",
    "    if ax is None:\n",
    "        fig, ax = plt.subplots(figsize=[11,8])\n",
    "    offset = 0\n",
    "    if top:\n",
    "        for i in range(len(pat_pos_probs.columns)):\n",
    "\n",
    "            color = color_order[i]\n",
    "            cols = list(range(0,len(pat_pos_probs.columns) - offset))\n",
    "            sns.barplot(x = pat_pos_probs.index.values, y =pat_pos_probs.iloc[:,cols].sum(axis=1),\\\n",
    "                color = color, order = pat_pos_probs.index)\n",
    "            offset += 1\n",
    "\n",
    "   #overlaying negative vals\n",
    "    offset = 0\n",
    "    if bottom:\n",
    "        for i in range(len(pat_neg_probs.columns)):\n",
    "            color = color_order[i]\n",
    "            cols = list(range(0,len(pat_pos_probs.columns) - offset))\n",
    "            sns.barplot(x = pat_neg_probs.index.values, y =pat_neg_probs.iloc[:,cols].sum(axis=1),\\\n",
    "                color = color, order = pat_neg_probs.index)\n",
    "            offset += 1 \n",
    "    #saving figure\n",
    "\n",
    "    ax.set(xlabel=xlabel, ylabel=ylabel, title=title)\n",
    "    ax.set_ylim((-1,1))\n",
    "    if save_dir != \"\":\n",
    "        plt.savefig(save_dir, transparent=True)\n",
    "\n"
   ]
  },
  {
   "cell_type": "code",
   "execution_count": 119,
   "metadata": {},
   "outputs": [],
   "source": [
    "notkeep = np.abs(P).mean(axis=1) < 0.15\n",
    "throw_out = notkeep[notkeep].index\n",
    "P_sig = P.drop(throw_out)\n",
    "# P_sig = P_sig.drop(['cluster'],axis=1)\n",
    "P_sig_MDD = P_sig[depr_recs]\n",
    "\n",
    "cos_sig = 1- cos(P_sig_MDD, P_sig_MDD)"
   ]
  },
  {
   "cell_type": "code",
   "execution_count": 120,
   "metadata": {},
   "outputs": [
    {
     "data": {
      "text/html": [
       "<div>\n",
       "<style scoped>\n",
       "    .dataframe tbody tr th:only-of-type {\n",
       "        vertical-align: middle;\n",
       "    }\n",
       "\n",
       "    .dataframe tbody tr th {\n",
       "        vertical-align: top;\n",
       "    }\n",
       "\n",
       "    .dataframe thead th {\n",
       "        text-align: right;\n",
       "    }\n",
       "</style>\n",
       "<table border=\"1\" class=\"dataframe\">\n",
       "  <thead>\n",
       "    <tr style=\"text-align: right;\">\n",
       "      <th>index</th>\n",
       "      <th>6</th>\n",
       "      <th>9</th>\n",
       "      <th>100</th>\n",
       "      <th>107</th>\n",
       "      <th>108</th>\n",
       "      <th>110</th>\n",
       "      <th>112</th>\n",
       "      <th>113</th>\n",
       "      <th>118</th>\n",
       "      <th>125</th>\n",
       "      <th>...</th>\n",
       "      <th>184</th>\n",
       "      <th>186</th>\n",
       "      <th>188</th>\n",
       "      <th>192</th>\n",
       "      <th>82</th>\n",
       "      <th>84</th>\n",
       "      <th>87</th>\n",
       "      <th>91</th>\n",
       "      <th>96</th>\n",
       "      <th>99</th>\n",
       "    </tr>\n",
       "  </thead>\n",
       "  <tbody>\n",
       "    <tr>\n",
       "      <th>alpha_0</th>\n",
       "      <td>0.381811</td>\n",
       "      <td>0.261717</td>\n",
       "      <td>0.249801</td>\n",
       "      <td>0.064711</td>\n",
       "      <td>0.398494</td>\n",
       "      <td>0.181537</td>\n",
       "      <td>0.545952</td>\n",
       "      <td>-0.146591</td>\n",
       "      <td>-0.112446</td>\n",
       "      <td>-0.409082</td>\n",
       "      <td>...</td>\n",
       "      <td>-0.925584</td>\n",
       "      <td>-0.322246</td>\n",
       "      <td>-0.711294</td>\n",
       "      <td>0.065620</td>\n",
       "      <td>-0.272853</td>\n",
       "      <td>-0.244577</td>\n",
       "      <td>-0.353907</td>\n",
       "      <td>-0.018168</td>\n",
       "      <td>-0.268203</td>\n",
       "      <td>0.154841</td>\n",
       "    </tr>\n",
       "    <tr>\n",
       "      <th>alpha_1</th>\n",
       "      <td>-0.310004</td>\n",
       "      <td>-0.178241</td>\n",
       "      <td>-0.143558</td>\n",
       "      <td>-0.022128</td>\n",
       "      <td>-0.400089</td>\n",
       "      <td>-0.131943</td>\n",
       "      <td>-0.521874</td>\n",
       "      <td>0.143457</td>\n",
       "      <td>0.123164</td>\n",
       "      <td>0.499383</td>\n",
       "      <td>...</td>\n",
       "      <td>0.723548</td>\n",
       "      <td>0.083550</td>\n",
       "      <td>0.202188</td>\n",
       "      <td>-0.135175</td>\n",
       "      <td>0.381185</td>\n",
       "      <td>0.399867</td>\n",
       "      <td>0.516210</td>\n",
       "      <td>-0.056427</td>\n",
       "      <td>0.298540</td>\n",
       "      <td>-0.213511</td>\n",
       "    </tr>\n",
       "    <tr>\n",
       "      <th>alpha_2</th>\n",
       "      <td>0.424930</td>\n",
       "      <td>0.474714</td>\n",
       "      <td>0.281095</td>\n",
       "      <td>0.082435</td>\n",
       "      <td>0.399224</td>\n",
       "      <td>0.146161</td>\n",
       "      <td>0.428660</td>\n",
       "      <td>-0.055179</td>\n",
       "      <td>-0.081414</td>\n",
       "      <td>-0.257801</td>\n",
       "      <td>...</td>\n",
       "      <td>-0.869095</td>\n",
       "      <td>-0.210808</td>\n",
       "      <td>-0.589472</td>\n",
       "      <td>0.105957</td>\n",
       "      <td>-0.126089</td>\n",
       "      <td>-0.227264</td>\n",
       "      <td>-0.390814</td>\n",
       "      <td>-0.021902</td>\n",
       "      <td>-0.276570</td>\n",
       "      <td>-0.096733</td>\n",
       "    </tr>\n",
       "    <tr>\n",
       "      <th>alpha_4</th>\n",
       "      <td>-0.428536</td>\n",
       "      <td>-0.368333</td>\n",
       "      <td>-0.335748</td>\n",
       "      <td>-0.070612</td>\n",
       "      <td>-0.402875</td>\n",
       "      <td>-0.170616</td>\n",
       "      <td>-0.550217</td>\n",
       "      <td>0.054496</td>\n",
       "      <td>0.123535</td>\n",
       "      <td>0.539449</td>\n",
       "      <td>...</td>\n",
       "      <td>0.973196</td>\n",
       "      <td>0.180030</td>\n",
       "      <td>-0.041996</td>\n",
       "      <td>-0.180688</td>\n",
       "      <td>0.275490</td>\n",
       "      <td>0.375818</td>\n",
       "      <td>0.526711</td>\n",
       "      <td>-0.023853</td>\n",
       "      <td>0.326703</td>\n",
       "      <td>0.032823</td>\n",
       "    </tr>\n",
       "    <tr>\n",
       "      <th>alpha_5</th>\n",
       "      <td>-0.286684</td>\n",
       "      <td>-0.125038</td>\n",
       "      <td>-0.196601</td>\n",
       "      <td>-0.063629</td>\n",
       "      <td>-0.273341</td>\n",
       "      <td>-0.068545</td>\n",
       "      <td>-0.389997</td>\n",
       "      <td>0.048617</td>\n",
       "      <td>0.197233</td>\n",
       "      <td>0.288681</td>\n",
       "      <td>...</td>\n",
       "      <td>0.632876</td>\n",
       "      <td>-0.004323</td>\n",
       "      <td>0.181873</td>\n",
       "      <td>-0.100104</td>\n",
       "      <td>0.251093</td>\n",
       "      <td>0.241542</td>\n",
       "      <td>0.407616</td>\n",
       "      <td>-0.005014</td>\n",
       "      <td>0.206174</td>\n",
       "      <td>-0.142569</td>\n",
       "    </tr>\n",
       "    <tr>\n",
       "      <th>beta_0</th>\n",
       "      <td>0.167467</td>\n",
       "      <td>0.303972</td>\n",
       "      <td>0.153647</td>\n",
       "      <td>-0.040383</td>\n",
       "      <td>0.285933</td>\n",
       "      <td>-0.080784</td>\n",
       "      <td>0.450265</td>\n",
       "      <td>-0.094768</td>\n",
       "      <td>-0.256690</td>\n",
       "      <td>-0.063993</td>\n",
       "      <td>...</td>\n",
       "      <td>-0.273874</td>\n",
       "      <td>-0.658249</td>\n",
       "      <td>-0.046839</td>\n",
       "      <td>-0.125848</td>\n",
       "      <td>-0.184922</td>\n",
       "      <td>-0.389693</td>\n",
       "      <td>0.015786</td>\n",
       "      <td>0.016043</td>\n",
       "      <td>0.026920</td>\n",
       "      <td>0.177473</td>\n",
       "    </tr>\n",
       "    <tr>\n",
       "      <th>beta_1</th>\n",
       "      <td>-0.299048</td>\n",
       "      <td>-0.440004</td>\n",
       "      <td>-0.195805</td>\n",
       "      <td>0.142225</td>\n",
       "      <td>-0.445976</td>\n",
       "      <td>0.144531</td>\n",
       "      <td>-0.519615</td>\n",
       "      <td>0.159452</td>\n",
       "      <td>0.280503</td>\n",
       "      <td>0.305320</td>\n",
       "      <td>...</td>\n",
       "      <td>0.060066</td>\n",
       "      <td>0.363135</td>\n",
       "      <td>-0.056006</td>\n",
       "      <td>0.112513</td>\n",
       "      <td>0.306079</td>\n",
       "      <td>0.544083</td>\n",
       "      <td>0.243959</td>\n",
       "      <td>0.016312</td>\n",
       "      <td>0.101801</td>\n",
       "      <td>-0.270868</td>\n",
       "    </tr>\n",
       "    <tr>\n",
       "      <th>delta_0</th>\n",
       "      <td>0.181209</td>\n",
       "      <td>0.401553</td>\n",
       "      <td>0.136584</td>\n",
       "      <td>0.136885</td>\n",
       "      <td>0.520080</td>\n",
       "      <td>-0.148632</td>\n",
       "      <td>0.685698</td>\n",
       "      <td>-0.237137</td>\n",
       "      <td>-0.160207</td>\n",
       "      <td>-0.182585</td>\n",
       "      <td>...</td>\n",
       "      <td>-0.593465</td>\n",
       "      <td>-0.395986</td>\n",
       "      <td>-0.535913</td>\n",
       "      <td>0.094997</td>\n",
       "      <td>-0.167093</td>\n",
       "      <td>-0.417655</td>\n",
       "      <td>-0.242825</td>\n",
       "      <td>0.139816</td>\n",
       "      <td>0.013793</td>\n",
       "      <td>-0.195070</td>\n",
       "    </tr>\n",
       "    <tr>\n",
       "      <th>delta_1</th>\n",
       "      <td>-0.220020</td>\n",
       "      <td>-0.333525</td>\n",
       "      <td>-0.011516</td>\n",
       "      <td>-0.173861</td>\n",
       "      <td>-0.488346</td>\n",
       "      <td>0.264626</td>\n",
       "      <td>-0.479558</td>\n",
       "      <td>0.181755</td>\n",
       "      <td>0.109096</td>\n",
       "      <td>0.391935</td>\n",
       "      <td>...</td>\n",
       "      <td>0.342041</td>\n",
       "      <td>-0.070822</td>\n",
       "      <td>0.225592</td>\n",
       "      <td>-0.152212</td>\n",
       "      <td>0.220870</td>\n",
       "      <td>0.500228</td>\n",
       "      <td>0.381049</td>\n",
       "      <td>-0.146077</td>\n",
       "      <td>0.065242</td>\n",
       "      <td>0.346353</td>\n",
       "    </tr>\n",
       "    <tr>\n",
       "      <th>delta_2</th>\n",
       "      <td>0.208226</td>\n",
       "      <td>0.456004</td>\n",
       "      <td>0.193613</td>\n",
       "      <td>0.202735</td>\n",
       "      <td>0.407403</td>\n",
       "      <td>-0.134550</td>\n",
       "      <td>0.392051</td>\n",
       "      <td>-0.107264</td>\n",
       "      <td>-0.125835</td>\n",
       "      <td>-0.125101</td>\n",
       "      <td>...</td>\n",
       "      <td>-0.437081</td>\n",
       "      <td>-0.256929</td>\n",
       "      <td>-0.345276</td>\n",
       "      <td>0.107946</td>\n",
       "      <td>-0.065589</td>\n",
       "      <td>-0.361576</td>\n",
       "      <td>-0.199946</td>\n",
       "      <td>0.088216</td>\n",
       "      <td>-0.044486</td>\n",
       "      <td>-0.210656</td>\n",
       "    </tr>\n",
       "    <tr>\n",
       "      <th>delta_4</th>\n",
       "      <td>-0.186111</td>\n",
       "      <td>-0.349898</td>\n",
       "      <td>-0.164432</td>\n",
       "      <td>-0.190951</td>\n",
       "      <td>-0.335770</td>\n",
       "      <td>0.176290</td>\n",
       "      <td>-0.353724</td>\n",
       "      <td>0.071169</td>\n",
       "      <td>0.104819</td>\n",
       "      <td>0.280787</td>\n",
       "      <td>...</td>\n",
       "      <td>0.454060</td>\n",
       "      <td>0.174164</td>\n",
       "      <td>0.016283</td>\n",
       "      <td>-0.103136</td>\n",
       "      <td>0.140247</td>\n",
       "      <td>0.370506</td>\n",
       "      <td>0.285891</td>\n",
       "      <td>-0.156356</td>\n",
       "      <td>0.054173</td>\n",
       "      <td>0.140832</td>\n",
       "    </tr>\n",
       "    <tr>\n",
       "      <th>theta_0</th>\n",
       "      <td>-0.161650</td>\n",
       "      <td>0.116668</td>\n",
       "      <td>-0.151368</td>\n",
       "      <td>0.570718</td>\n",
       "      <td>0.222622</td>\n",
       "      <td>-0.335468</td>\n",
       "      <td>0.180466</td>\n",
       "      <td>-0.070819</td>\n",
       "      <td>0.058193</td>\n",
       "      <td>0.038634</td>\n",
       "      <td>...</td>\n",
       "      <td>-0.096860</td>\n",
       "      <td>0.169173</td>\n",
       "      <td>-0.257846</td>\n",
       "      <td>0.305824</td>\n",
       "      <td>0.088337</td>\n",
       "      <td>-0.065442</td>\n",
       "      <td>-0.230030</td>\n",
       "      <td>0.252359</td>\n",
       "      <td>0.182853</td>\n",
       "      <td>-0.064301</td>\n",
       "    </tr>\n",
       "    <tr>\n",
       "      <th>theta_2</th>\n",
       "      <td>-0.238537</td>\n",
       "      <td>0.097409</td>\n",
       "      <td>-0.107916</td>\n",
       "      <td>0.584084</td>\n",
       "      <td>0.211375</td>\n",
       "      <td>-0.322313</td>\n",
       "      <td>0.048071</td>\n",
       "      <td>0.052630</td>\n",
       "      <td>0.093029</td>\n",
       "      <td>-0.046831</td>\n",
       "      <td>...</td>\n",
       "      <td>-0.064812</td>\n",
       "      <td>0.133125</td>\n",
       "      <td>-0.161470</td>\n",
       "      <td>0.306651</td>\n",
       "      <td>0.094218</td>\n",
       "      <td>-0.099925</td>\n",
       "      <td>-0.126792</td>\n",
       "      <td>0.251209</td>\n",
       "      <td>0.159099</td>\n",
       "      <td>-0.276871</td>\n",
       "    </tr>\n",
       "    <tr>\n",
       "      <th>theta_4</th>\n",
       "      <td>-0.054114</td>\n",
       "      <td>0.113142</td>\n",
       "      <td>-0.143671</td>\n",
       "      <td>0.495439</td>\n",
       "      <td>0.164567</td>\n",
       "      <td>-0.411197</td>\n",
       "      <td>-0.069938</td>\n",
       "      <td>0.056107</td>\n",
       "      <td>0.102774</td>\n",
       "      <td>-0.077866</td>\n",
       "      <td>...</td>\n",
       "      <td>-0.189605</td>\n",
       "      <td>0.154229</td>\n",
       "      <td>-0.200984</td>\n",
       "      <td>0.214998</td>\n",
       "      <td>0.046492</td>\n",
       "      <td>-0.123283</td>\n",
       "      <td>-0.147590</td>\n",
       "      <td>0.272107</td>\n",
       "      <td>0.129483</td>\n",
       "      <td>-0.130487</td>\n",
       "    </tr>\n",
       "  </tbody>\n",
       "</table>\n",
       "<p>14 rows × 41 columns</p>\n",
       "</div>"
      ],
      "text/plain": [
       "index         6         9         100       107       108       110       112  \\\n",
       "alpha_0  0.381811  0.261717  0.249801  0.064711  0.398494  0.181537  0.545952   \n",
       "alpha_1 -0.310004 -0.178241 -0.143558 -0.022128 -0.400089 -0.131943 -0.521874   \n",
       "alpha_2  0.424930  0.474714  0.281095  0.082435  0.399224  0.146161  0.428660   \n",
       "alpha_4 -0.428536 -0.368333 -0.335748 -0.070612 -0.402875 -0.170616 -0.550217   \n",
       "alpha_5 -0.286684 -0.125038 -0.196601 -0.063629 -0.273341 -0.068545 -0.389997   \n",
       "beta_0   0.167467  0.303972  0.153647 -0.040383  0.285933 -0.080784  0.450265   \n",
       "beta_1  -0.299048 -0.440004 -0.195805  0.142225 -0.445976  0.144531 -0.519615   \n",
       "delta_0  0.181209  0.401553  0.136584  0.136885  0.520080 -0.148632  0.685698   \n",
       "delta_1 -0.220020 -0.333525 -0.011516 -0.173861 -0.488346  0.264626 -0.479558   \n",
       "delta_2  0.208226  0.456004  0.193613  0.202735  0.407403 -0.134550  0.392051   \n",
       "delta_4 -0.186111 -0.349898 -0.164432 -0.190951 -0.335770  0.176290 -0.353724   \n",
       "theta_0 -0.161650  0.116668 -0.151368  0.570718  0.222622 -0.335468  0.180466   \n",
       "theta_2 -0.238537  0.097409 -0.107916  0.584084  0.211375 -0.322313  0.048071   \n",
       "theta_4 -0.054114  0.113142 -0.143671  0.495439  0.164567 -0.411197 -0.069938   \n",
       "\n",
       "index         113       118       125    ...          184       186       188  \\\n",
       "alpha_0 -0.146591 -0.112446 -0.409082    ...    -0.925584 -0.322246 -0.711294   \n",
       "alpha_1  0.143457  0.123164  0.499383    ...     0.723548  0.083550  0.202188   \n",
       "alpha_2 -0.055179 -0.081414 -0.257801    ...    -0.869095 -0.210808 -0.589472   \n",
       "alpha_4  0.054496  0.123535  0.539449    ...     0.973196  0.180030 -0.041996   \n",
       "alpha_5  0.048617  0.197233  0.288681    ...     0.632876 -0.004323  0.181873   \n",
       "beta_0  -0.094768 -0.256690 -0.063993    ...    -0.273874 -0.658249 -0.046839   \n",
       "beta_1   0.159452  0.280503  0.305320    ...     0.060066  0.363135 -0.056006   \n",
       "delta_0 -0.237137 -0.160207 -0.182585    ...    -0.593465 -0.395986 -0.535913   \n",
       "delta_1  0.181755  0.109096  0.391935    ...     0.342041 -0.070822  0.225592   \n",
       "delta_2 -0.107264 -0.125835 -0.125101    ...    -0.437081 -0.256929 -0.345276   \n",
       "delta_4  0.071169  0.104819  0.280787    ...     0.454060  0.174164  0.016283   \n",
       "theta_0 -0.070819  0.058193  0.038634    ...    -0.096860  0.169173 -0.257846   \n",
       "theta_2  0.052630  0.093029 -0.046831    ...    -0.064812  0.133125 -0.161470   \n",
       "theta_4  0.056107  0.102774 -0.077866    ...    -0.189605  0.154229 -0.200984   \n",
       "\n",
       "index         192       82        84        87        91        96        99   \n",
       "alpha_0  0.065620 -0.272853 -0.244577 -0.353907 -0.018168 -0.268203  0.154841  \n",
       "alpha_1 -0.135175  0.381185  0.399867  0.516210 -0.056427  0.298540 -0.213511  \n",
       "alpha_2  0.105957 -0.126089 -0.227264 -0.390814 -0.021902 -0.276570 -0.096733  \n",
       "alpha_4 -0.180688  0.275490  0.375818  0.526711 -0.023853  0.326703  0.032823  \n",
       "alpha_5 -0.100104  0.251093  0.241542  0.407616 -0.005014  0.206174 -0.142569  \n",
       "beta_0  -0.125848 -0.184922 -0.389693  0.015786  0.016043  0.026920  0.177473  \n",
       "beta_1   0.112513  0.306079  0.544083  0.243959  0.016312  0.101801 -0.270868  \n",
       "delta_0  0.094997 -0.167093 -0.417655 -0.242825  0.139816  0.013793 -0.195070  \n",
       "delta_1 -0.152212  0.220870  0.500228  0.381049 -0.146077  0.065242  0.346353  \n",
       "delta_2  0.107946 -0.065589 -0.361576 -0.199946  0.088216 -0.044486 -0.210656  \n",
       "delta_4 -0.103136  0.140247  0.370506  0.285891 -0.156356  0.054173  0.140832  \n",
       "theta_0  0.305824  0.088337 -0.065442 -0.230030  0.252359  0.182853 -0.064301  \n",
       "theta_2  0.306651  0.094218 -0.099925 -0.126792  0.251209  0.159099 -0.276871  \n",
       "theta_4  0.214998  0.046492 -0.123283 -0.147590  0.272107  0.129483 -0.130487  \n",
       "\n",
       "[14 rows x 41 columns]"
      ]
     },
     "execution_count": 120,
     "metadata": {},
     "output_type": "execute_result"
    }
   ],
   "source": [
    "P_sig"
   ]
  },
  {
   "cell_type": "markdown",
   "metadata": {},
   "source": [
    "# CHANGE THRESHOLD BELOW"
   ]
  },
  {
   "cell_type": "code",
   "execution_count": 121,
   "metadata": {
    "scrolled": true
   },
   "outputs": [],
   "source": [
    "P = pd.read_csv(DATA_PATH, index_col = 0).T\n",
    "clusters = {0: [\"beta_1\", \"alpha_4\", \"alpha_1\", \"alpha_5\", \"delta_1\", \"delta_4\"],\\\n",
    "            1: [\"theta_0\",\"theta_2\",\"theta_4\", \"beta_0\", \"delta_0\", \"delta_2\", \"alpha_0\", \"alpha_2\"],\\\n",
    "        }\n",
    "#clusters = {0: ['beta_2', 'alpha_5', 'alpha_2', 'alpha_6', 'delta_2', 'delta_5'],\\\n",
    "#            1: ['theta_1', 'theta_3', 'theta_5', 'beta_1', 'delta_1', 'delta_3', 'alpha_1', 'alpha_3'],\\\n",
    "#        }\n",
    "cset = set(list(clusters[0])).union(set(list(clusters[1])))\n",
    "og = set(P.index)\n",
    "clust_2 = list(og.difference(cset))\n",
    "clusters[2] = clust_2\n",
    "cluster_dict = {}\n",
    "for key in clusters:\n",
    "    bands = clusters[key]\n",
    "    for b in bands:\n",
    "        cluster_dict[b] = key\n",
    "P['cluster'] = [cluster_dict[ix] for ix in P.index]"
   ]
  },
  {
   "cell_type": "code",
   "execution_count": 122,
   "metadata": {},
   "outputs": [
    {
     "data": {
      "text/html": [
       "<div>\n",
       "<style scoped>\n",
       "    .dataframe tbody tr th:only-of-type {\n",
       "        vertical-align: middle;\n",
       "    }\n",
       "\n",
       "    .dataframe tbody tr th {\n",
       "        vertical-align: top;\n",
       "    }\n",
       "\n",
       "    .dataframe thead th {\n",
       "        text-align: right;\n",
       "    }\n",
       "</style>\n",
       "<table border=\"1\" class=\"dataframe\">\n",
       "  <thead>\n",
       "    <tr style=\"text-align: right;\">\n",
       "      <th></th>\n",
       "      <th>clust_0_diff</th>\n",
       "      <th>clust_1_diff</th>\n",
       "      <th>clust_2_diff</th>\n",
       "    </tr>\n",
       "    <tr>\n",
       "      <th>index</th>\n",
       "      <th></th>\n",
       "      <th></th>\n",
       "      <th></th>\n",
       "    </tr>\n",
       "  </thead>\n",
       "  <tbody>\n",
       "    <tr>\n",
       "      <th>6</th>\n",
       "      <td>-0.407440</td>\n",
       "      <td>0.153369</td>\n",
       "      <td>-0.004091</td>\n",
       "    </tr>\n",
       "    <tr>\n",
       "      <th>9</th>\n",
       "      <td>-0.274947</td>\n",
       "      <td>0.478612</td>\n",
       "      <td>0.033480</td>\n",
       "    </tr>\n",
       "    <tr>\n",
       "      <th>100</th>\n",
       "      <td>-0.252623</td>\n",
       "      <td>0.139627</td>\n",
       "      <td>0.037190</td>\n",
       "    </tr>\n",
       "    <tr>\n",
       "      <th>107</th>\n",
       "      <td>-0.063195</td>\n",
       "      <td>0.480337</td>\n",
       "      <td>-0.092640</td>\n",
       "    </tr>\n",
       "    <tr>\n",
       "      <th>108</th>\n",
       "      <td>-0.312123</td>\n",
       "      <td>0.522073</td>\n",
       "      <td>0.070479</td>\n",
       "    </tr>\n",
       "  </tbody>\n",
       "</table>\n",
       "</div>"
      ],
      "text/plain": [
       "       clust_0_diff  clust_1_diff  clust_2_diff\n",
       "index                                          \n",
       "6         -0.407440      0.153369     -0.004091\n",
       "9         -0.274947      0.478612      0.033480\n",
       "100       -0.252623      0.139627      0.037190\n",
       "107       -0.063195      0.480337     -0.092640\n",
       "108       -0.312123      0.522073      0.070479"
      ]
     },
     "execution_count": 122,
     "metadata": {},
     "output_type": "execute_result"
    }
   ],
   "source": [
    "# With just values > .15\n",
    "Pf = pd.DataFrame(index=P.drop([\"cluster\"], axis=1).columns)\n",
    "for clust in clusters:\n",
    "    samp = P[P['cluster'] == clust].drop([\"cluster\"], axis=1)\n",
    "    Pf['clust_{}_diff'.format(clust)] = occlude_feature_sensitivity(samp.T.columns, P.T.drop(\"cluster\")) \n",
    "Pf.head()"
   ]
  },
  {
   "cell_type": "code",
   "execution_count": 123,
   "metadata": {
    "scrolled": false
   },
   "outputs": [
    {
     "name": "stderr",
     "output_type": "stream",
     "text": [
      "/userdata/pdaly/.envs/mind/lib/python3.5/site-packages/ipykernel_launcher.py:1: SettingWithCopyWarning: \n",
      "A value is trying to be set on a copy of a slice from a DataFrame.\n",
      "Try using .loc[row_indexer,col_indexer] = value instead\n",
      "\n",
      "See the caveats in the documentation: http://pandas.pydata.org/pandas-docs/stable/indexing.html#indexing-view-versus-copy\n",
      "  \"\"\"Entry point for launching an IPython kernel.\n"
     ]
    },
    {
     "data": {
      "text/html": [
       "<div>\n",
       "<style scoped>\n",
       "    .dataframe tbody tr th:only-of-type {\n",
       "        vertical-align: middle;\n",
       "    }\n",
       "\n",
       "    .dataframe tbody tr th {\n",
       "        vertical-align: top;\n",
       "    }\n",
       "\n",
       "    .dataframe thead th {\n",
       "        text-align: right;\n",
       "    }\n",
       "</style>\n",
       "<table border=\"1\" class=\"dataframe\">\n",
       "  <thead>\n",
       "    <tr style=\"text-align: right;\">\n",
       "      <th>index</th>\n",
       "      <th>132</th>\n",
       "      <th>136</th>\n",
       "      <th>9</th>\n",
       "      <th>142</th>\n",
       "      <th>143</th>\n",
       "      <th>150</th>\n",
       "      <th>155</th>\n",
       "      <th>159</th>\n",
       "      <th>166</th>\n",
       "      <th>175</th>\n",
       "      <th>...</th>\n",
       "      <th>84</th>\n",
       "      <th>87</th>\n",
       "      <th>91</th>\n",
       "      <th>96</th>\n",
       "      <th>100</th>\n",
       "      <th>107</th>\n",
       "      <th>108</th>\n",
       "      <th>118</th>\n",
       "      <th>125</th>\n",
       "      <th>cluster</th>\n",
       "    </tr>\n",
       "  </thead>\n",
       "  <tbody>\n",
       "    <tr>\n",
       "      <th>alpha_0</th>\n",
       "      <td>0.065551</td>\n",
       "      <td>0.129354</td>\n",
       "      <td>0.261717</td>\n",
       "      <td>-0.186854</td>\n",
       "      <td>0.584124</td>\n",
       "      <td>0.086797</td>\n",
       "      <td>0.343364</td>\n",
       "      <td>0.267182</td>\n",
       "      <td>-0.141327</td>\n",
       "      <td>0.342795</td>\n",
       "      <td>...</td>\n",
       "      <td>-0.244577</td>\n",
       "      <td>-0.353907</td>\n",
       "      <td>-0.018168</td>\n",
       "      <td>-0.268203</td>\n",
       "      <td>0.249801</td>\n",
       "      <td>0.064711</td>\n",
       "      <td>0.398494</td>\n",
       "      <td>-0.112446</td>\n",
       "      <td>-0.409082</td>\n",
       "      <td>1</td>\n",
       "    </tr>\n",
       "    <tr>\n",
       "      <th>alpha_1</th>\n",
       "      <td>-0.181301</td>\n",
       "      <td>-0.030377</td>\n",
       "      <td>-0.178241</td>\n",
       "      <td>0.335154</td>\n",
       "      <td>-0.540337</td>\n",
       "      <td>-0.186595</td>\n",
       "      <td>-0.392938</td>\n",
       "      <td>-0.150877</td>\n",
       "      <td>0.278786</td>\n",
       "      <td>-0.352147</td>\n",
       "      <td>...</td>\n",
       "      <td>0.399867</td>\n",
       "      <td>0.516210</td>\n",
       "      <td>-0.056427</td>\n",
       "      <td>0.298540</td>\n",
       "      <td>-0.143558</td>\n",
       "      <td>-0.022128</td>\n",
       "      <td>-0.400089</td>\n",
       "      <td>0.123164</td>\n",
       "      <td>0.499383</td>\n",
       "      <td>0</td>\n",
       "    </tr>\n",
       "    <tr>\n",
       "      <th>alpha_2</th>\n",
       "      <td>-0.043092</td>\n",
       "      <td>0.253959</td>\n",
       "      <td>0.474714</td>\n",
       "      <td>-0.214304</td>\n",
       "      <td>0.387571</td>\n",
       "      <td>0.024972</td>\n",
       "      <td>0.345072</td>\n",
       "      <td>0.049615</td>\n",
       "      <td>-0.188322</td>\n",
       "      <td>0.319806</td>\n",
       "      <td>...</td>\n",
       "      <td>-0.227264</td>\n",
       "      <td>-0.390814</td>\n",
       "      <td>-0.021902</td>\n",
       "      <td>-0.276570</td>\n",
       "      <td>0.281095</td>\n",
       "      <td>0.082435</td>\n",
       "      <td>0.399224</td>\n",
       "      <td>-0.081414</td>\n",
       "      <td>-0.257801</td>\n",
       "      <td>1</td>\n",
       "    </tr>\n",
       "    <tr>\n",
       "      <th>alpha_4</th>\n",
       "      <td>0.176967</td>\n",
       "      <td>-0.203300</td>\n",
       "      <td>-0.368333</td>\n",
       "      <td>0.392190</td>\n",
       "      <td>-0.558070</td>\n",
       "      <td>-0.092805</td>\n",
       "      <td>-0.430649</td>\n",
       "      <td>-0.190017</td>\n",
       "      <td>0.313237</td>\n",
       "      <td>-0.291871</td>\n",
       "      <td>...</td>\n",
       "      <td>0.375818</td>\n",
       "      <td>0.526711</td>\n",
       "      <td>-0.023853</td>\n",
       "      <td>0.326703</td>\n",
       "      <td>-0.335748</td>\n",
       "      <td>-0.070612</td>\n",
       "      <td>-0.402875</td>\n",
       "      <td>0.123535</td>\n",
       "      <td>0.539449</td>\n",
       "      <td>0</td>\n",
       "    </tr>\n",
       "    <tr>\n",
       "      <th>alpha_5</th>\n",
       "      <td>0.003113</td>\n",
       "      <td>0.010559</td>\n",
       "      <td>-0.125038</td>\n",
       "      <td>0.193203</td>\n",
       "      <td>-0.478461</td>\n",
       "      <td>-0.163322</td>\n",
       "      <td>-0.311046</td>\n",
       "      <td>-0.081122</td>\n",
       "      <td>0.233293</td>\n",
       "      <td>-0.216177</td>\n",
       "      <td>...</td>\n",
       "      <td>0.241542</td>\n",
       "      <td>0.407616</td>\n",
       "      <td>-0.005014</td>\n",
       "      <td>0.206174</td>\n",
       "      <td>-0.196601</td>\n",
       "      <td>-0.063629</td>\n",
       "      <td>-0.273341</td>\n",
       "      <td>0.197233</td>\n",
       "      <td>0.288681</td>\n",
       "      <td>0</td>\n",
       "    </tr>\n",
       "  </tbody>\n",
       "</table>\n",
       "<p>5 rows × 24 columns</p>\n",
       "</div>"
      ],
      "text/plain": [
       "index         132       136         9       142       143       150       155  \\\n",
       "alpha_0  0.065551  0.129354  0.261717 -0.186854  0.584124  0.086797  0.343364   \n",
       "alpha_1 -0.181301 -0.030377 -0.178241  0.335154 -0.540337 -0.186595 -0.392938   \n",
       "alpha_2 -0.043092  0.253959  0.474714 -0.214304  0.387571  0.024972  0.345072   \n",
       "alpha_4  0.176967 -0.203300 -0.368333  0.392190 -0.558070 -0.092805 -0.430649   \n",
       "alpha_5  0.003113  0.010559 -0.125038  0.193203 -0.478461 -0.163322 -0.311046   \n",
       "\n",
       "index         159       166       175   ...           84        87        91  \\\n",
       "alpha_0  0.267182 -0.141327  0.342795   ...    -0.244577 -0.353907 -0.018168   \n",
       "alpha_1 -0.150877  0.278786 -0.352147   ...     0.399867  0.516210 -0.056427   \n",
       "alpha_2  0.049615 -0.188322  0.319806   ...    -0.227264 -0.390814 -0.021902   \n",
       "alpha_4 -0.190017  0.313237 -0.291871   ...     0.375818  0.526711 -0.023853   \n",
       "alpha_5 -0.081122  0.233293 -0.216177   ...     0.241542  0.407616 -0.005014   \n",
       "\n",
       "index          96       100       107       108       118       125  cluster  \n",
       "alpha_0 -0.268203  0.249801  0.064711  0.398494 -0.112446 -0.409082        1  \n",
       "alpha_1  0.298540 -0.143558 -0.022128 -0.400089  0.123164  0.499383        0  \n",
       "alpha_2 -0.276570  0.281095  0.082435  0.399224 -0.081414 -0.257801        1  \n",
       "alpha_4  0.326703 -0.335748 -0.070612 -0.402875  0.123535  0.539449        0  \n",
       "alpha_5  0.206174 -0.196601 -0.063629 -0.273341  0.197233  0.288681        0  \n",
       "\n",
       "[5 rows x 24 columns]"
      ]
     },
     "execution_count": 123,
     "metadata": {},
     "output_type": "execute_result"
    }
   ],
   "source": [
    "P_sig_MDD[\"cluster\"] =  [cluster_dict[val] for val in P_sig_MDD.index]\n",
    "P_sig_MDD.head()"
   ]
  },
  {
   "cell_type": "code",
   "execution_count": 124,
   "metadata": {},
   "outputs": [],
   "source": [
    "# # shift_thresh = 0\n",
    "# # diff_df = pd.DataFrame(columns=[\"cluster\", \"diff\",\"pat_index\"])\n",
    "clust_dict = {}\n",
    "\n",
    "shift_thresh = 0\n",
    "P = P_sig_MDD\n",
    "diff_df = pd.DataFrame(columns=[\"cluster\", \"diff\",\"pat_index\"])"
   ]
  },
  {
   "cell_type": "code",
   "execution_count": 126,
   "metadata": {
    "scrolled": false
   },
   "outputs": [
    {
     "data": {
      "image/png": "[encoded data removed]",
      "text/plain": [
       "<Figure size 720x720 with 4 Axes>"
      ]
     },
     "metadata": {},
     "output_type": "display_data"
    }
   ],
   "source": [
    "P_sig_MDDr = P_sig_MDD.drop(['cluster'], axis=1)\n",
    "clust_map = sns.clustermap(P_sig_MDDr, vmin=.1, vmax=.7, metric=\"cosine\",cmap=\"nipy_spectral\")\n",
    "#clust_map.savefig(\"/home/kscangos/paper_figs/hierarchical_graph-gt.pdf\", transparent=True)"
   ]
  },
  {
   "cell_type": "code",
   "execution_count": 127,
   "metadata": {
    "scrolled": false
   },
   "outputs": [
    {
     "data": {
      "image/png": "[encoded data removed]",
      "text/plain": [
       "<Figure size 720x720 with 4 Axes>"
      ]
     },
     "metadata": {},
     "output_type": "display_data"
    }
   ],
   "source": [
    "P_sig_MDDr = P_sig_MDD.drop(['cluster'], axis=1)\n",
    "clust_map = sns.clustermap(P_sig_MDDr, vmin=.1, vmax=.7, metric=\"cosine\",cmap=\"nipy_spectral\")\n",
    "#clust_map.savefig(\"/home/kscangos/paper_figs/hierarchical_graph-gt_015.pdf\", transparent=True)"
   ]
  },
  {
   "cell_type": "code",
   "execution_count": 60,
   "metadata": {},
   "outputs": [],
   "source": [
    "bt1_pids = [87, 125, 142, 84, 82, 166, 118, 96]\n",
    "bt2_pids = [91, 192, 107, 108, 9, 175, 143]"
   ]
  },
  {
   "cell_type": "code",
   "execution_count": 61,
   "metadata": {},
   "outputs": [
    {
     "data": {
      "text/plain": [
       "(23, 14)"
      ]
     },
     "execution_count": 61,
     "metadata": {},
     "output_type": "execute_result"
    }
   ],
   "source": [
    "P_sig_MDDr.T.shape"
   ]
  },
  {
   "cell_type": "code",
   "execution_count": 62,
   "metadata": {},
   "outputs": [],
   "source": [
    "#nep1_cols = ['beta_2', 'alpha_5', 'alpha_2', 'alpha_6', 'delta_2', 'delta_5']\n",
    "#nep2_cols = ['theta_1', 'theta_3', 'theta_5', 'beta_1', 'delta_1', 'delta_3', 'alpha_1', 'alpha_3']"
   ]
  },
  {
   "cell_type": "code",
   "execution_count": 63,
   "metadata": {},
   "outputs": [],
   "source": [
    "nep1_cols = ['beta_1', 'alpha_4', 'alpha_1', 'alpha_5', 'delta_1', 'delta_4']\n",
    "nep2_cols = ['theta_0', 'theta_2', 'theta_4', 'beta_0', 'delta_0', 'delta_2', 'alpha_0', 'alpha_2']"
   ]
  },
  {
   "cell_type": "code",
   "execution_count": null,
   "metadata": {},
   "outputs": [],
   "source": []
  },
  {
   "cell_type": "code",
   "execution_count": null,
   "metadata": {},
   "outputs": [],
   "source": []
  },
  {
   "cell_type": "code",
   "execution_count": null,
   "metadata": {},
   "outputs": [],
   "source": []
  },
  {
   "cell_type": "code",
   "execution_count": 64,
   "metadata": {},
   "outputs": [],
   "source": [
    "Pf = Pf.sort_values(['clust_0_diff'])\n",
    "Pf_MDD = Pf[Pf.index.isin(depr_recs)]\n",
    "PF_norm = Pf[~Pf.index.isin(depr_recs)]"
   ]
  },
  {
   "cell_type": "code",
   "execution_count": 99,
   "metadata": {},
   "outputs": [
    {
     "data": {
      "text/html": [
       "<div>\n",
       "<style scoped>\n",
       "    .dataframe tbody tr th:only-of-type {\n",
       "        vertical-align: middle;\n",
       "    }\n",
       "\n",
       "    .dataframe tbody tr th {\n",
       "        vertical-align: top;\n",
       "    }\n",
       "\n",
       "    .dataframe thead th {\n",
       "        text-align: right;\n",
       "    }\n",
       "</style>\n",
       "<table border=\"1\" class=\"dataframe\">\n",
       "  <thead>\n",
       "    <tr style=\"text-align: right;\">\n",
       "      <th></th>\n",
       "      <th>clust_0_diff</th>\n",
       "      <th>clust_1_diff</th>\n",
       "      <th>clust_2_diff</th>\n",
       "    </tr>\n",
       "    <tr>\n",
       "      <th>index</th>\n",
       "      <th></th>\n",
       "      <th></th>\n",
       "      <th></th>\n",
       "    </tr>\n",
       "  </thead>\n",
       "  <tbody>\n",
       "    <tr>\n",
       "      <th>87</th>\n",
       "      <td>0.522804</td>\n",
       "      <td>-0.218088</td>\n",
       "      <td>0.046424</td>\n",
       "    </tr>\n",
       "    <tr>\n",
       "      <th>125</th>\n",
       "      <td>0.514453</td>\n",
       "      <td>-0.124018</td>\n",
       "      <td>0.036448</td>\n",
       "    </tr>\n",
       "    <tr>\n",
       "      <th>142</th>\n",
       "      <td>0.481294</td>\n",
       "      <td>-0.095968</td>\n",
       "      <td>0.000578</td>\n",
       "    </tr>\n",
       "    <tr>\n",
       "      <th>82</th>\n",
       "      <td>0.362692</td>\n",
       "      <td>-0.089443</td>\n",
       "      <td>0.035566</td>\n",
       "    </tr>\n",
       "    <tr>\n",
       "      <th>166</th>\n",
       "      <td>0.316375</td>\n",
       "      <td>-0.030589</td>\n",
       "      <td>0.040424</td>\n",
       "    </tr>\n",
       "    <tr>\n",
       "      <th>118</th>\n",
       "      <td>0.230262</td>\n",
       "      <td>-0.104608</td>\n",
       "      <td>0.013970</td>\n",
       "    </tr>\n",
       "    <tr>\n",
       "      <th>96</th>\n",
       "      <td>0.217610</td>\n",
       "      <td>-0.012076</td>\n",
       "      <td>0.073279</td>\n",
       "    </tr>\n",
       "  </tbody>\n",
       "</table>\n",
       "</div>"
      ],
      "text/plain": [
       "       clust_0_diff  clust_1_diff  clust_2_diff\n",
       "index                                          \n",
       "87         0.522804     -0.218088      0.046424\n",
       "125        0.514453     -0.124018      0.036448\n",
       "142        0.481294     -0.095968      0.000578\n",
       "82         0.362692     -0.089443      0.035566\n",
       "166        0.316375     -0.030589      0.040424\n",
       "118        0.230262     -0.104608      0.013970\n",
       "96         0.217610     -0.012076      0.073279"
      ]
     },
     "execution_count": 99,
     "metadata": {},
     "output_type": "execute_result"
    }
   ],
   "source": [
    "Pf.loc[bt1_pids]"
   ]
  },
  {
   "cell_type": "code",
   "execution_count": null,
   "metadata": {},
   "outputs": [],
   "source": []
  },
  {
   "cell_type": "code",
   "execution_count": null,
   "metadata": {},
   "outputs": [],
   "source": []
  },
  {
   "cell_type": "code",
   "execution_count": 96,
   "metadata": {},
   "outputs": [],
   "source": [
    "import pickle\n",
    "\n",
    "with open('/home/pdaly/temp/pmdd.pkl', 'wb') as f:\n",
    "    pickle.dump({'bt1': Pf.loc[bt1_pids], 'bt2': Pf.loc[bt2_pids]}, f)"
   ]
  },
  {
   "cell_type": "code",
   "execution_count": 88,
   "metadata": {},
   "outputs": [
    {
     "data": {
      "text/plain": [
       "clust_0_diff   -0.187847\n",
       "clust_1_diff    0.386430\n",
       "clust_2_diff    0.050676\n",
       "dtype: float64"
      ]
     },
     "execution_count": 88,
     "metadata": {},
     "output_type": "execute_result"
    }
   ],
   "source": [
    "Pf.loc[bt2_pids].mean()"
   ]
  },
  {
   "cell_type": "code",
   "execution_count": 200,
   "metadata": {
    "scrolled": false
   },
   "outputs": [
    {
     "data": {
      "text/plain": [
       "<Figure size 432x288 with 0 Axes>"
      ]
     },
     "metadata": {},
     "output_type": "display_data"
    },
    {
     "data": {
      "image/png": "[encoded data removed]",
      "text/plain": [
       "<Figure size 792x576 with 1 Axes>"
      ]
     },
     "metadata": {},
     "output_type": "display_data"
    }
   ],
   "source": [
    "title = \"Stacked Probabilities for MDD group with Most Important Features MISCLASS: 100, 150, 179\"\n",
    "xlabel = \"MDD Patient\"\n",
    "ylabel = 'Stacked Risks from different Activity Areas'\n",
    "color = [\"#32CD32\",\"#3498db\",\"#9b59b6\",\"#e74c3c\"]  #\"#34495e\",\"#95a5a6\" \n",
    "sns.set_style(\"white\")\n",
    "sns.despine()\n",
    "plt.tight_layout()\n",
    "plot_stacked_probabilities(Pf_MDD,title, xlabel, ylabel,color, bottom=True)#, save_dir='/home/kscangos/Sandbox/stacked_probs_MDD_sig.pdf')"
   ]
  },
  {
   "cell_type": "code",
   "execution_count": 201,
   "metadata": {},
   "outputs": [
    {
     "data": {
      "text/plain": [
       "<Figure size 432x288 with 0 Axes>"
      ]
     },
     "metadata": {},
     "output_type": "display_data"
    },
    {
     "data": {
      "image/png": "[encoded data removed]",
      "text/plain": [
       "<Figure size 792x576 with 1 Axes>"
      ]
     },
     "metadata": {},
     "output_type": "display_data"
    }
   ],
   "source": [
    "title = \"Stacked Probabilities for non MDD group with Most Important Features\"\n",
    "xlabel = \"MDD Patient\"\n",
    "ylabel = 'Stacked Risks from different Activity Areas'\n",
    "color = [\"#32CD32\",\"#3498db\",\"#9b59b6\",\"#e74c3c\"]  #\"#34495e\",\"#95a5a6\" \n",
    "sns.set_style(\"white\")\n",
    "sns.despine()\n",
    "plt.tight_layout()\n",
    "plot_stacked_probabilities(PF_norm,title, xlabel, ylabel,color, bottom =True)#, save_dir='/home/kscangos/Sandbox/stacked_probs_noMDD_sig.pdf')"
   ]
  },
  {
   "cell_type": "code",
   "execution_count": 202,
   "metadata": {},
   "outputs": [
    {
     "data": {
      "image/png": "[encoded data removed]",
      "text/plain": [
       "<Figure size 864x576 with 1 Axes>"
      ]
     },
     "metadata": {},
     "output_type": "display_data"
    }
   ],
   "source": [
    "# odds ratio\n",
    "fig, ax = plt.subplots(figsize=(12, 8))\n",
    "P.drop('cluster', axis=1).T.sum(axis=1).apply(np.exp).sort_values().plot(kind='bar')\n",
    "sns.despine();\n",
    "plt.tight_layout()\n",
    "#plt.savefig(\"/home/kscangos/Sandbox/oddsratio.pdf\", transparent=True)"
   ]
  },
  {
   "cell_type": "code",
   "execution_count": 204,
   "metadata": {},
   "outputs": [
    {
     "data": {
      "image/png": "[encoded data removed]",
      "text/plain": [
       "<Figure size 864x576 with 1 Axes>"
      ]
     },
     "metadata": {},
     "output_type": "display_data"
    }
   ],
   "source": [
    "# probability\n",
    "fig, ax = plt.subplots(figsize=(12, 8))\n",
    "P.drop('cluster', axis=1).T.sum(axis=1).apply(lambda x: 1 / (1 + np.exp(-x))).sort_values().plot(kind='bar')\n",
    "sns.despine();\n",
    "plt.tight_layout()\n",
    "#plt.savefig(\"/home/kscangos/Sandbox/prob.pdf\", transparent=True)"
   ]
  },
  {
   "cell_type": "code",
   "execution_count": 205,
   "metadata": {},
   "outputs": [
    {
     "data": {
      "text/plain": [
       "index\n",
       "150    0.275314\n",
       "186    0.340300\n",
       "100    0.392725\n",
       "179    0.425286\n",
       "155    0.477733\n",
       "132    0.509112\n",
       "143    0.520552\n",
       "136    0.531727\n",
       "159    0.561306\n",
       "108    0.565448\n",
       "175    0.602904\n",
       "9      0.605907\n",
       "118    0.612006\n",
       "84     0.623077\n",
       "192    0.626526\n",
       "91     0.647545\n",
       "87     0.664925\n",
       "96     0.726219\n",
       "82     0.728587\n",
       "125    0.765115\n",
       "166    0.783380\n",
       "142    0.799027\n",
       "107    0.847828\n",
       "dtype: float64"
      ]
     },
     "execution_count": 205,
     "metadata": {},
     "output_type": "execute_result"
    }
   ],
   "source": [
    "P.drop('cluster', axis=1).T.sum(axis=1).apply(lambda x: 1 / (1 + np.exp(-x))).sort_values()"
   ]
  },
  {
   "cell_type": "code",
   "execution_count": 73,
   "metadata": {},
   "outputs": [
    {
     "data": {
      "image/png": "[encoded data removed]",
      "text/plain": [
       "<Figure size 864x576 with 1 Axes>"
      ]
     },
     "metadata": {
      "needs_background": "light"
     },
     "output_type": "display_data"
    }
   ],
   "source": [
    "fig, ax = plt.subplots(figsize=(12, 8))\n",
    "Pfg = Pf.join(df.dep)\n",
    "Pfg.groupby('dep').mean().plot(kind='bar', ax=ax);\n",
    "sns.despine();"
   ]
  },
  {
   "cell_type": "code",
   "execution_count": 103,
   "metadata": {},
   "outputs": [
    {
     "data": {
      "image/png": "[encoded data removed]",
      "text/plain": [
       "<Figure size 864x576 with 1 Axes>"
      ]
     },
     "metadata": {
      "needs_background": "light"
     },
     "output_type": "display_data"
    }
   ],
   "source": [
    "#btypes = {\n",
    "#    0: [186, 96, 118, 82, 142, 166, 87, 125, 179, 84],\n",
    "#    1: [132, 159, 192, 91, 107, 136, 150, 100, 9, 155, 143, 175, 108]\n",
    "#}\n",
    "btypes = {\n",
    "    0: [87, 125, 142, 82, 166, 118, 96],\n",
    "    1: [136, 159, 91, 192, 155, 9, 107, 108, 175, 143]\n",
    "}\n",
    "\n",
    "fig, ax = plt.subplots(figsize=(12, 8))\n",
    "btype0 = Pfg.loc[btypes[0]].clust_0_diff.mean()\n",
    "btype0_std = Pfg.loc[btypes[0]].clust_0_diff.std()\n",
    "btype1 = Pfg.loc[btypes[1]].clust_1_diff.mean()\n",
    "btype1_std = Pfg.loc[btypes[1]].clust_1_diff.std()\n",
    "\n",
    "plt.bar(['btype_0', 'btype_1'], [btype0, btype1], \n",
    "        yerr=[btype0_std, btype1_std], color=[\"#9b59b6\", \"#34495e\"])\n",
    "\n",
    "sns.despine();\n",
    "plt.tight_layout();\n",
    "\n",
    "#plt.savefig(\"/home/kscangos/Sandbox/btype_nep_contribution.pdf\", transparent=True)"
   ]
  },
  {
   "cell_type": "code",
   "execution_count": 104,
   "metadata": {},
   "outputs": [
    {
     "data": {
      "text/plain": [
       "<BarContainer object of 2 artists>"
      ]
     },
     "execution_count": 104,
     "metadata": {},
     "output_type": "execute_result"
    },
    {
     "data": {
      "image/png": "[encoded data removed]",
      "text/plain": [
       "<Figure size 432x288 with 1 Axes>"
      ]
     },
     "metadata": {
      "needs_background": "light"
     },
     "output_type": "display_data"
    }
   ],
   "source": [
    "plt.bar(['btype_0', 'btype_1'], [btype0*1.2, btype1*1.2], \n",
    "        yerr=[btype0_std, btype1_std], color=[\"#9b59b6\", \"#34495e\"], alpha=0.75)\n",
    "plt.bar(['btype_0', 'btype_1'], [btype0, btype1], \n",
    "        yerr=[btype0_std, btype1_std], color=[\"#e74c3c\",\"#3498db\"], alpha=0.25)"
   ]
  },
  {
   "cell_type": "code",
   "execution_count": 209,
   "metadata": {},
   "outputs": [
    {
     "data": {
      "text/plain": [
       "<Figure size 432x288 with 0 Axes>"
      ]
     },
     "metadata": {},
     "output_type": "display_data"
    },
    {
     "data": {
      "image/png": "[encoded data removed]",
      "text/plain": [
       "<Figure size 792x576 with 1 Axes>"
      ]
     },
     "metadata": {},
     "output_type": "display_data"
    }
   ],
   "source": [
    "title = \"Stacked Probabilities for MDD group with Most Important Features MISCLASS: 100, 150, 179\"\n",
    "xlabel = \"MDD Patient\"\n",
    "ylabel = 'Stacked Risks from different Activity Areas'\n",
    "color = [\"#32CD32\",\"#3498db\",\"#9b59b6\",\"#e74c3c\"]  #\"#34495e\",\"#95a5a6\" \n",
    "sns.set_style(\"white\")\n",
    "sns.despine()\n",
    "plt.tight_layout()\n",
    "plot_stacked_probabilities(Pf_MDD, title, xlabel, ylabel,color, bottom=True)"
   ]
  },
  {
   "cell_type": "code",
   "execution_count": 79,
   "metadata": {},
   "outputs": [],
   "source": [
    "probas = pd.read_csv('~/temp/preds_pca-logit.csv', index_col=0)"
   ]
  },
  {
   "cell_type": "code",
   "execution_count": 80,
   "metadata": {},
   "outputs": [
    {
     "data": {
      "text/html": [
       "<div>\n",
       "<style scoped>\n",
       "    .dataframe tbody tr th:only-of-type {\n",
       "        vertical-align: middle;\n",
       "    }\n",
       "\n",
       "    .dataframe tbody tr th {\n",
       "        vertical-align: top;\n",
       "    }\n",
       "\n",
       "    .dataframe thead th {\n",
       "        text-align: right;\n",
       "    }\n",
       "</style>\n",
       "<table border=\"1\" class=\"dataframe\">\n",
       "  <thead>\n",
       "    <tr style=\"text-align: right;\">\n",
       "      <th></th>\n",
       "      <th>proba</th>\n",
       "      <th>actual</th>\n",
       "      <th>pred</th>\n",
       "      <th>match</th>\n",
       "    </tr>\n",
       "    <tr>\n",
       "      <th>index</th>\n",
       "      <th></th>\n",
       "      <th></th>\n",
       "      <th></th>\n",
       "      <th></th>\n",
       "    </tr>\n",
       "  </thead>\n",
       "  <tbody>\n",
       "    <tr>\n",
       "      <th>150</th>\n",
       "      <td>0.252314</td>\n",
       "      <td>1</td>\n",
       "      <td>0</td>\n",
       "      <td>False</td>\n",
       "    </tr>\n",
       "    <tr>\n",
       "      <th>179</th>\n",
       "      <td>0.282413</td>\n",
       "      <td>1</td>\n",
       "      <td>0</td>\n",
       "      <td>False</td>\n",
       "    </tr>\n",
       "    <tr>\n",
       "      <th>100</th>\n",
       "      <td>0.305462</td>\n",
       "      <td>1</td>\n",
       "      <td>0</td>\n",
       "      <td>False</td>\n",
       "    </tr>\n",
       "    <tr>\n",
       "      <th>84</th>\n",
       "      <td>0.411901</td>\n",
       "      <td>1</td>\n",
       "      <td>0</td>\n",
       "      <td>False</td>\n",
       "    </tr>\n",
       "  </tbody>\n",
       "</table>\n",
       "</div>"
      ],
      "text/plain": [
       "          proba  actual  pred  match\n",
       "index                               \n",
       "150    0.252314       1     0  False\n",
       "179    0.282413       1     0  False\n",
       "100    0.305462       1     0  False\n",
       "84     0.411901       1     0  False"
      ]
     },
     "execution_count": 80,
     "metadata": {},
     "output_type": "execute_result"
    }
   ],
   "source": [
    "# missclassified\n",
    "probas[(probas.match == False) & (probas.actual == 1)]"
   ]
  },
  {
   "cell_type": "code",
   "execution_count": 106,
   "metadata": {
    "scrolled": false
   },
   "outputs": [
    {
     "name": "stderr",
     "output_type": "stream",
     "text": [
      "/userdata/pdaly/.envs/mind/lib/python3.5/site-packages/ipykernel_launcher.py:1: SettingWithCopyWarning: \n",
      "A value is trying to be set on a copy of a slice from a DataFrame.\n",
      "Try using .loc[row_indexer,col_indexer] = value instead\n",
      "\n",
      "See the caveats in the documentation: http://pandas.pydata.org/pandas-docs/stable/indexing.html#indexing-view-versus-copy\n",
      "  \"\"\"Entry point for launching an IPython kernel.\n"
     ]
    },
    {
     "data": {
      "text/plain": [
       "<Figure size 432x288 with 0 Axes>"
      ]
     },
     "metadata": {},
     "output_type": "display_data"
    },
    {
     "data": {
      "image/png": "[encoded data removed]",
      "text/plain": [
       "<Figure size 864x576 with 1 Axes>"
      ]
     },
     "metadata": {},
     "output_type": "display_data"
    }
   ],
   "source": [
    "Pf_MDD['btype'] = Pf_MDD['clust_0_diff'].apply(lambda d:\n",
    "                'bt_1' if d >= 0 else 'bt_2')\n",
    "temp = pd.concat([\n",
    "    Pf_MDD[Pf_MDD['btype'] == 'bt_1'].sort_values('clust_0_diff', ascending=False),\n",
    "    Pf_MDD[Pf_MDD['btype'] == 'bt_2'].sort_values('clust_1_diff', ascending=True)]\n",
    ").drop('btype', axis=1)\n",
    "\n",
    "#title = \"Stacked Probabilities for MDD group with Most Important Features MISCLASS: 100, 150, 179\"\n",
    "title = \"Stacked Probabilities for MDD group with Most Important Features MISCLASS: 84, 100, 150, 179\"\n",
    "xlabel = \"MDD Patient\"\n",
    "ylabel = 'Stacked Risks from different Activity Areas'\n",
    "\n",
    "color = [\"#32CD32\",\"#3498db\",\"#9b59b6\",\"#e74c3c\"]  #\"#34495e\",\"#95a5a6\" \n",
    "sns.set_style(\"white\")\n",
    "sns.despine()\n",
    "\n",
    "fig, ax = plt.subplots(figsize=(12, 8))\n",
    "\n",
    "ps = probas.loc[temp.index, 'proba']\n",
    "#sns.barplot(x=ps.index, y=ps.values, color=\"#3498db\", alpha=0.5, ax=ax)\n",
    "ps.plot(kind='bar', width=0.8, color=\"#3498db\", alpha=0.5, ax=ax)\n",
    "plot_stacked_probabilities(temp, title, xlabel, ylabel,color, bottom=True, ax=ax)\n",
    "\n",
    "plt.tight_layout()\n",
    "sns.despine();\n",
    "\n",
    "#plt.savefig(\"../temp/nep_and_probas_barchart-mdd_aug20.pdf\", transparent=True)"
   ]
  },
  {
   "cell_type": "code",
   "execution_count": 107,
   "metadata": {},
   "outputs": [],
   "source": [
    "#bt1_pids = [87, 125, 142, 84, 82, 166, 118, 96]\n",
    "#bt2_pids = [91, 192, 107, 108, 9, 175, 143]\n",
    "bt1_pids = [87, 125, 142, 82, 166, 118, 96]\n",
    "bt2_pids = [136, 159, 91, 192, 155, 9, 107, 108, 175, 143]"
   ]
  },
  {
   "cell_type": "code",
   "execution_count": 113,
   "metadata": {},
   "outputs": [],
   "source": [
    "bts.to_csv('/home/pdaly/temp/mdd_biotypes_nep_contributions.csv')"
   ]
  },
  {
   "cell_type": "code",
   "execution_count": 108,
   "metadata": {},
   "outputs": [
    {
     "data": {
      "image/png": "[encoded data removed]",
      "text/plain": [
       "<Figure size 432x288 with 1 Axes>"
      ]
     },
     "metadata": {},
     "output_type": "display_data"
    }
   ],
   "source": [
    "bts = pd.DataFrame(pd.concat([temp.loc[bt1_pids, 'clust_0_diff'], \n",
    "                 temp.loc[bt2_pids, 'clust_1_diff']]), columns=['diff'])\n",
    "bts['btype'] = ['bt1'] * 7 + ['bt2'] * 10\n",
    "means = bts.groupby('btype').mean().values.T.tolist()[0]\n",
    "stds = bts.groupby('btype').std().values.T.tolist()[0]\n",
    "plt.bar(['btype_0', 'btype_1'], means, yerr=stds, color=[\"#9b59b6\", \"#34495e\"])\n",
    "\n",
    "sns.despine();\n",
    "plt.tight_layout()\n",
    "\n",
    "#plt.savefig('/home/pdaly/temp/btype_bar.pdf', transparent=True)"
   ]
  },
  {
   "cell_type": "code",
   "execution_count": 109,
   "metadata": {},
   "outputs": [
    {
     "data": {
      "text/html": [
       "<div>\n",
       "<style scoped>\n",
       "    .dataframe tbody tr th:only-of-type {\n",
       "        vertical-align: middle;\n",
       "    }\n",
       "\n",
       "    .dataframe tbody tr th {\n",
       "        vertical-align: top;\n",
       "    }\n",
       "\n",
       "    .dataframe thead th {\n",
       "        text-align: right;\n",
       "    }\n",
       "</style>\n",
       "<table border=\"1\" class=\"dataframe\">\n",
       "  <thead>\n",
       "    <tr style=\"text-align: right;\">\n",
       "      <th></th>\n",
       "      <th>diff</th>\n",
       "      <th>btype</th>\n",
       "    </tr>\n",
       "    <tr>\n",
       "      <th>index</th>\n",
       "      <th></th>\n",
       "      <th></th>\n",
       "    </tr>\n",
       "  </thead>\n",
       "  <tbody>\n",
       "    <tr>\n",
       "      <th>87</th>\n",
       "      <td>0.522804</td>\n",
       "      <td>bt1</td>\n",
       "    </tr>\n",
       "    <tr>\n",
       "      <th>125</th>\n",
       "      <td>0.514453</td>\n",
       "      <td>bt1</td>\n",
       "    </tr>\n",
       "    <tr>\n",
       "      <th>142</th>\n",
       "      <td>0.481294</td>\n",
       "      <td>bt1</td>\n",
       "    </tr>\n",
       "    <tr>\n",
       "      <th>82</th>\n",
       "      <td>0.362692</td>\n",
       "      <td>bt1</td>\n",
       "    </tr>\n",
       "    <tr>\n",
       "      <th>166</th>\n",
       "      <td>0.316375</td>\n",
       "      <td>bt1</td>\n",
       "    </tr>\n",
       "    <tr>\n",
       "      <th>118</th>\n",
       "      <td>0.230262</td>\n",
       "      <td>bt1</td>\n",
       "    </tr>\n",
       "    <tr>\n",
       "      <th>96</th>\n",
       "      <td>0.217610</td>\n",
       "      <td>bt1</td>\n",
       "    </tr>\n",
       "    <tr>\n",
       "      <th>136</th>\n",
       "      <td>0.107160</td>\n",
       "      <td>bt2</td>\n",
       "    </tr>\n",
       "    <tr>\n",
       "      <th>159</th>\n",
       "      <td>0.178905</td>\n",
       "      <td>bt2</td>\n",
       "    </tr>\n",
       "    <tr>\n",
       "      <th>91</th>\n",
       "      <td>0.230008</td>\n",
       "      <td>bt2</td>\n",
       "    </tr>\n",
       "    <tr>\n",
       "      <th>192</th>\n",
       "      <td>0.261819</td>\n",
       "      <td>bt2</td>\n",
       "    </tr>\n",
       "    <tr>\n",
       "      <th>155</th>\n",
       "      <td>0.415316</td>\n",
       "      <td>bt2</td>\n",
       "    </tr>\n",
       "    <tr>\n",
       "      <th>9</th>\n",
       "      <td>0.478612</td>\n",
       "      <td>bt2</td>\n",
       "    </tr>\n",
       "    <tr>\n",
       "      <th>107</th>\n",
       "      <td>0.480337</td>\n",
       "      <td>bt2</td>\n",
       "    </tr>\n",
       "    <tr>\n",
       "      <th>108</th>\n",
       "      <td>0.522073</td>\n",
       "      <td>bt2</td>\n",
       "    </tr>\n",
       "    <tr>\n",
       "      <th>175</th>\n",
       "      <td>0.552681</td>\n",
       "      <td>bt2</td>\n",
       "    </tr>\n",
       "    <tr>\n",
       "      <th>143</th>\n",
       "      <td>0.637386</td>\n",
       "      <td>bt2</td>\n",
       "    </tr>\n",
       "  </tbody>\n",
       "</table>\n",
       "</div>"
      ],
      "text/plain": [
       "           diff btype\n",
       "index                \n",
       "87     0.522804   bt1\n",
       "125    0.514453   bt1\n",
       "142    0.481294   bt1\n",
       "82     0.362692   bt1\n",
       "166    0.316375   bt1\n",
       "118    0.230262   bt1\n",
       "96     0.217610   bt1\n",
       "136    0.107160   bt2\n",
       "159    0.178905   bt2\n",
       "91     0.230008   bt2\n",
       "192    0.261819   bt2\n",
       "155    0.415316   bt2\n",
       "9      0.478612   bt2\n",
       "107    0.480337   bt2\n",
       "108    0.522073   bt2\n",
       "175    0.552681   bt2\n",
       "143    0.637386   bt2"
      ]
     },
     "execution_count": 109,
     "metadata": {},
     "output_type": "execute_result"
    }
   ],
   "source": [
    "bts"
   ]
  },
  {
   "cell_type": "code",
   "execution_count": 261,
   "metadata": {},
   "outputs": [
    {
     "data": {
      "text/html": [
       "<div>\n",
       "<style scoped>\n",
       "    .dataframe tbody tr th:only-of-type {\n",
       "        vertical-align: middle;\n",
       "    }\n",
       "\n",
       "    .dataframe tbody tr th {\n",
       "        vertical-align: top;\n",
       "    }\n",
       "\n",
       "    .dataframe thead th {\n",
       "        text-align: right;\n",
       "    }\n",
       "</style>\n",
       "<table border=\"1\" class=\"dataframe\">\n",
       "  <thead>\n",
       "    <tr style=\"text-align: right;\">\n",
       "      <th></th>\n",
       "      <th>bt1</th>\n",
       "      <th>bt2</th>\n",
       "    </tr>\n",
       "  </thead>\n",
       "  <tbody>\n",
       "    <tr>\n",
       "      <th>means</th>\n",
       "      <td>0.377927</td>\n",
       "      <td>0.386430</td>\n",
       "    </tr>\n",
       "    <tr>\n",
       "      <th>stds</th>\n",
       "      <td>0.130282</td>\n",
       "      <td>0.178954</td>\n",
       "    </tr>\n",
       "  </tbody>\n",
       "</table>\n",
       "</div>"
      ],
      "text/plain": [
       "            bt1       bt2\n",
       "means  0.377927  0.386430\n",
       "stds   0.130282  0.178954"
      ]
     },
     "execution_count": 261,
     "metadata": {},
     "output_type": "execute_result"
    }
   ],
   "source": [
    "pd.DataFrame([means, stds], index=['means', 'stds'], columns=['bt1', 'bt2'])"
   ]
  },
  {
   "cell_type": "code",
   "execution_count": 214,
   "metadata": {},
   "outputs": [
    {
     "name": "stderr",
     "output_type": "stream",
     "text": [
      "/userdata/pdaly/.envs/mind/lib/python3.5/site-packages/ipykernel_launcher.py:1: SettingWithCopyWarning: \n",
      "A value is trying to be set on a copy of a slice from a DataFrame.\n",
      "Try using .loc[row_indexer,col_indexer] = value instead\n",
      "\n",
      "See the caveats in the documentation: http://pandas.pydata.org/pandas-docs/stable/indexing.html#indexing-view-versus-copy\n",
      "  \"\"\"Entry point for launching an IPython kernel.\n"
     ]
    }
   ],
   "source": [
    "PF_norm['btype'] = PF_norm['clust_0_diff'].apply(lambda d:\n",
    "                'bt_1' if d >= 0 else 'bt_2')"
   ]
  },
  {
   "cell_type": "code",
   "execution_count": 223,
   "metadata": {},
   "outputs": [
    {
     "data": {
      "text/html": [
       "<div>\n",
       "<style scoped>\n",
       "    .dataframe tbody tr th:only-of-type {\n",
       "        vertical-align: middle;\n",
       "    }\n",
       "\n",
       "    .dataframe tbody tr th {\n",
       "        vertical-align: top;\n",
       "    }\n",
       "\n",
       "    .dataframe thead th {\n",
       "        text-align: right;\n",
       "    }\n",
       "</style>\n",
       "<table border=\"1\" class=\"dataframe\">\n",
       "  <thead>\n",
       "    <tr style=\"text-align: right;\">\n",
       "      <th></th>\n",
       "      <th>proba</th>\n",
       "      <th>actual</th>\n",
       "      <th>pred</th>\n",
       "      <th>match</th>\n",
       "    </tr>\n",
       "    <tr>\n",
       "      <th>index</th>\n",
       "      <th></th>\n",
       "      <th></th>\n",
       "      <th></th>\n",
       "      <th></th>\n",
       "    </tr>\n",
       "  </thead>\n",
       "  <tbody>\n",
       "    <tr>\n",
       "      <th>112</th>\n",
       "      <td>0.503327</td>\n",
       "      <td>0</td>\n",
       "      <td>1</td>\n",
       "      <td>False</td>\n",
       "    </tr>\n",
       "    <tr>\n",
       "      <th>184</th>\n",
       "      <td>0.511980</td>\n",
       "      <td>0</td>\n",
       "      <td>1</td>\n",
       "      <td>False</td>\n",
       "    </tr>\n",
       "    <tr>\n",
       "      <th>137</th>\n",
       "      <td>0.656114</td>\n",
       "      <td>0</td>\n",
       "      <td>1</td>\n",
       "      <td>False</td>\n",
       "    </tr>\n",
       "    <tr>\n",
       "      <th>133</th>\n",
       "      <td>0.842720</td>\n",
       "      <td>0</td>\n",
       "      <td>1</td>\n",
       "      <td>False</td>\n",
       "    </tr>\n",
       "  </tbody>\n",
       "</table>\n",
       "</div>"
      ],
      "text/plain": [
       "          proba  actual  pred  match\n",
       "index                               \n",
       "112    0.503327       0     1  False\n",
       "184    0.511980       0     1  False\n",
       "137    0.656114       0     1  False\n",
       "133    0.842720       0     1  False"
      ]
     },
     "execution_count": 223,
     "metadata": {},
     "output_type": "execute_result"
    }
   ],
   "source": [
    "# missclassified\n",
    "probas[(probas.match == False) & (probas.actual == 0)]"
   ]
  },
  {
   "cell_type": "code",
   "execution_count": 228,
   "metadata": {},
   "outputs": [
    {
     "name": "stderr",
     "output_type": "stream",
     "text": [
      "/userdata/pdaly/.envs/mind/lib/python3.5/site-packages/ipykernel_launcher.py:1: SettingWithCopyWarning: \n",
      "A value is trying to be set on a copy of a slice from a DataFrame.\n",
      "Try using .loc[row_indexer,col_indexer] = value instead\n",
      "\n",
      "See the caveats in the documentation: http://pandas.pydata.org/pandas-docs/stable/indexing.html#indexing-view-versus-copy\n",
      "  \"\"\"Entry point for launching an IPython kernel.\n"
     ]
    },
    {
     "data": {
      "text/plain": [
       "<Figure size 432x288 with 0 Axes>"
      ]
     },
     "metadata": {},
     "output_type": "display_data"
    },
    {
     "data": {
      "image/png": "[encoded data removed]",
      "text/plain": [
       "<Figure size 864x576 with 1 Axes>"
      ]
     },
     "metadata": {},
     "output_type": "display_data"
    }
   ],
   "source": [
    "PF_norm['btype'] = PF_norm['clust_0_diff'].apply(lambda d:\n",
    "                'bt_1' if d >= 0 else 'bt_2')\n",
    "temp = pd.concat([\n",
    "    PF_norm[PF_norm['btype'] == 'bt_1'].sort_values('clust_0_diff', ascending=False),\n",
    "    PF_norm[PF_norm['btype'] == 'bt_2'].sort_values('clust_1_diff', ascending=True)]\n",
    ").drop('btype', axis=1)\n",
    "\n",
    "#title = \"Probabilities for Non-MDD group with Most Important Features MISCLASS: 133, 137, 156, 184\"\n",
    "title = \"Probabilities for Non-MDD group with Most Important Features MISCLASS: 112, 133, 137, 184\"\n",
    "xlabel = \"MDD Patient\"\n",
    "ylabel = 'Risks from different Activity Areas'\n",
    "\n",
    "color = [\"#32CD32\",\"#3498db\",\"#9b59b6\",\"#e74c3c\"]  #\"#34495e\",\"#95a5a6\" \n",
    "sns.set_style(\"white\")\n",
    "sns.despine()\n",
    "\n",
    "fig, ax = plt.subplots(figsize=(12, 8))\n",
    "\n",
    "ps = -(1-(probas.loc[temp.index, 'proba']))\n",
    "#sns.barplot(x=ps.index, y=ps.values, color=\"#3498db\", alpha=0.5, ax=ax)\n",
    "ps.plot(kind='bar', width=0.8, color=\"#3498db\", alpha=0.5, ax=ax)\n",
    "plot_stacked_probabilities(temp, title, xlabel, ylabel,color, bottom=True, ax=ax)\n",
    "\n",
    "plt.tight_layout()\n",
    "sns.despine();\n",
    "\n",
    "plt.savefig(\"../temp/nep_and_probas_barchart-no_mdd_aug20.pdf\", transparent=True)"
   ]
  },
  {
   "cell_type": "code",
   "execution_count": null,
   "metadata": {},
   "outputs": [],
   "source": []
  },
  {
   "cell_type": "code",
   "execution_count": null,
   "metadata": {},
   "outputs": [],
   "source": []
  },
  {
   "cell_type": "code",
   "execution_count": null,
   "metadata": {},
   "outputs": [],
   "source": []
  }
 ],
 "metadata": {
  "kernelspec": {
   "display_name": "Python 3",
   "language": "python",
   "name": "python3"
  },
  "language_info": {
   "codemirror_mode": {
    "name": "ipython",
    "version": 3
   },
   "file_extension": ".py",
   "mimetype": "text/x-python",
   "name": "python",
   "nbconvert_exporter": "python",
   "pygments_lexer": "ipython3",
   "version": "3.5.2"
  }
 },
 "nbformat": 4,
 "nbformat_minor": 2
}
