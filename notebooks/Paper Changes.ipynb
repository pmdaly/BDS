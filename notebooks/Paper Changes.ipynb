{
 "cells": [
  {
   "cell_type": "code",
   "execution_count": 586,
   "metadata": {},
   "outputs": [],
   "source": [
    "%autoreload 2\n",
    "\n",
    "import matplotlib.pyplot as plt\n",
    "import seaborn as sns\n",
    "from paper_changes import *\n",
    "# manual feature selection\n",
    "from collections import defaultdict\n",
    "from tqdm import tqdm\n",
    "from sklearn.svm import SVC\n",
    "from sklearn.decomposition import SparsePCA\n",
    "\n",
    "import warnings\n",
    "warnings.filterwarnings(\"ignore\")\n",
    "\n",
    "%matplotlib inline"
   ]
  },
  {
   "cell_type": "code",
   "execution_count": 565,
   "metadata": {},
   "outputs": [],
   "source": [
    "X, y = load_data()"
   ]
  },
  {
   "cell_type": "raw",
   "metadata": {},
   "source": [
    "fig, ax = plt.subplots(figsize=(10, 8))\n",
    "\n",
    "sns.heatmap(X.corr(), vmin=-1, vmax=1, ax=ax)\n",
    "\n",
    "ax.set_title('Feature Correlation Heatmap')"
   ]
  },
  {
   "cell_type": "markdown",
   "metadata": {},
   "source": [
    "## Logistic Regression"
   ]
  },
  {
   "cell_type": "code",
   "execution_count": 106,
   "metadata": {},
   "outputs": [],
   "source": [
    "df = pd.read_csv('/home/pdaly/supereeg/data/apr6_100samp_2h_ml/df.csv', index_col=0)\n",
    "\n",
    "X = pd.DataFrame(PCA().fit_transform(df.drop('dep', axis=1).apply(zscore)))\n",
    "y = df['dep']"
   ]
  },
  {
   "cell_type": "code",
   "execution_count": 93,
   "metadata": {},
   "outputs": [],
   "source": [
    "results = pd.DataFrame(logit.gs_clf.cv_results_)"
   ]
  },
  {
   "cell_type": "code",
   "execution_count": 94,
   "metadata": {},
   "outputs": [
    {
     "data": {
      "text/html": [
       "<div>\n",
       "<style scoped>\n",
       "    .dataframe tbody tr th:only-of-type {\n",
       "        vertical-align: middle;\n",
       "    }\n",
       "\n",
       "    .dataframe tbody tr th {\n",
       "        vertical-align: top;\n",
       "    }\n",
       "\n",
       "    .dataframe thead th {\n",
       "        text-align: right;\n",
       "    }\n",
       "</style>\n",
       "<table border=\"1\" class=\"dataframe\">\n",
       "  <thead>\n",
       "    <tr style=\"text-align: right;\">\n",
       "      <th></th>\n",
       "      <th>mean_fit_time</th>\n",
       "      <th>mean_score_time</th>\n",
       "      <th>mean_test_score</th>\n",
       "      <th>mean_train_score</th>\n",
       "      <th>param_est__C</th>\n",
       "      <th>param_est__class_weight</th>\n",
       "      <th>param_est__max_iter</th>\n",
       "      <th>param_est__penalty</th>\n",
       "      <th>param_est__solver</th>\n",
       "      <th>params</th>\n",
       "      <th>...</th>\n",
       "      <th>split7_test_score</th>\n",
       "      <th>split7_train_score</th>\n",
       "      <th>split8_test_score</th>\n",
       "      <th>split8_train_score</th>\n",
       "      <th>split9_test_score</th>\n",
       "      <th>split9_train_score</th>\n",
       "      <th>std_fit_time</th>\n",
       "      <th>std_score_time</th>\n",
       "      <th>std_test_score</th>\n",
       "      <th>std_train_score</th>\n",
       "    </tr>\n",
       "  </thead>\n",
       "  <tbody>\n",
       "    <tr>\n",
       "      <th>5</th>\n",
       "      <td>0.003755</td>\n",
       "      <td>0.000933</td>\n",
       "      <td>0.780488</td>\n",
       "      <td>0.805452</td>\n",
       "      <td>1</td>\n",
       "      <td>balanced</td>\n",
       "      <td>100</td>\n",
       "      <td>l1</td>\n",
       "      <td>saga</td>\n",
       "      <td>{'est__C': 1.0, 'est__class_weight': 'balanced...</td>\n",
       "      <td>...</td>\n",
       "      <td>1.0</td>\n",
       "      <td>0.824808</td>\n",
       "      <td>1.0</td>\n",
       "      <td>0.770202</td>\n",
       "      <td>1.0</td>\n",
       "      <td>0.770202</td>\n",
       "      <td>0.000192</td>\n",
       "      <td>0.000021</td>\n",
       "      <td>0.413916</td>\n",
       "      <td>0.032124</td>\n",
       "    </tr>\n",
       "    <tr>\n",
       "      <th>6</th>\n",
       "      <td>0.004150</td>\n",
       "      <td>0.001013</td>\n",
       "      <td>0.780488</td>\n",
       "      <td>0.803220</td>\n",
       "      <td>1.5</td>\n",
       "      <td>balanced</td>\n",
       "      <td>100</td>\n",
       "      <td>l1</td>\n",
       "      <td>saga</td>\n",
       "      <td>{'est__C': 1.5, 'est__class_weight': 'balanced...</td>\n",
       "      <td>...</td>\n",
       "      <td>1.0</td>\n",
       "      <td>0.824808</td>\n",
       "      <td>1.0</td>\n",
       "      <td>0.770202</td>\n",
       "      <td>1.0</td>\n",
       "      <td>0.770202</td>\n",
       "      <td>0.000974</td>\n",
       "      <td>0.000268</td>\n",
       "      <td>0.413916</td>\n",
       "      <td>0.025788</td>\n",
       "    </tr>\n",
       "    <tr>\n",
       "      <th>4</th>\n",
       "      <td>0.003748</td>\n",
       "      <td>0.000943</td>\n",
       "      <td>0.756098</td>\n",
       "      <td>0.796050</td>\n",
       "      <td>0.5</td>\n",
       "      <td>balanced</td>\n",
       "      <td>100</td>\n",
       "      <td>l1</td>\n",
       "      <td>saga</td>\n",
       "      <td>{'est__C': 0.5, 'est__class_weight': 'balanced...</td>\n",
       "      <td>...</td>\n",
       "      <td>1.0</td>\n",
       "      <td>0.795396</td>\n",
       "      <td>1.0</td>\n",
       "      <td>0.770202</td>\n",
       "      <td>1.0</td>\n",
       "      <td>0.797980</td>\n",
       "      <td>0.000063</td>\n",
       "      <td>0.000023</td>\n",
       "      <td>0.429435</td>\n",
       "      <td>0.026255</td>\n",
       "    </tr>\n",
       "    <tr>\n",
       "      <th>7</th>\n",
       "      <td>0.003752</td>\n",
       "      <td>0.000932</td>\n",
       "      <td>0.756098</td>\n",
       "      <td>0.801865</td>\n",
       "      <td>2</td>\n",
       "      <td>balanced</td>\n",
       "      <td>100</td>\n",
       "      <td>l1</td>\n",
       "      <td>saga</td>\n",
       "      <td>{'est__C': 2.0, 'est__class_weight': 'balanced...</td>\n",
       "      <td>...</td>\n",
       "      <td>1.0</td>\n",
       "      <td>0.824808</td>\n",
       "      <td>1.0</td>\n",
       "      <td>0.770202</td>\n",
       "      <td>1.0</td>\n",
       "      <td>0.770202</td>\n",
       "      <td>0.000058</td>\n",
       "      <td>0.000019</td>\n",
       "      <td>0.429435</td>\n",
       "      <td>0.025518</td>\n",
       "    </tr>\n",
       "    <tr>\n",
       "      <th>0</th>\n",
       "      <td>0.002618</td>\n",
       "      <td>0.000916</td>\n",
       "      <td>0.658537</td>\n",
       "      <td>0.713345</td>\n",
       "      <td>0.1</td>\n",
       "      <td>balanced</td>\n",
       "      <td>100</td>\n",
       "      <td>l1</td>\n",
       "      <td>saga</td>\n",
       "      <td>{'est__C': 0.1, 'est__class_weight': 'balanced...</td>\n",
       "      <td>...</td>\n",
       "      <td>0.0</td>\n",
       "      <td>0.751918</td>\n",
       "      <td>1.0</td>\n",
       "      <td>0.696970</td>\n",
       "      <td>1.0</td>\n",
       "      <td>0.724747</td>\n",
       "      <td>0.000209</td>\n",
       "      <td>0.000048</td>\n",
       "      <td>0.474201</td>\n",
       "      <td>0.031479</td>\n",
       "    </tr>\n",
       "    <tr>\n",
       "      <th>3</th>\n",
       "      <td>0.003698</td>\n",
       "      <td>0.000959</td>\n",
       "      <td>0.658537</td>\n",
       "      <td>0.735711</td>\n",
       "      <td>0.25</td>\n",
       "      <td>balanced</td>\n",
       "      <td>100</td>\n",
       "      <td>l1</td>\n",
       "      <td>saga</td>\n",
       "      <td>{'est__C': 0.25, 'est__class_weight': 'balance...</td>\n",
       "      <td>...</td>\n",
       "      <td>1.0</td>\n",
       "      <td>0.722506</td>\n",
       "      <td>1.0</td>\n",
       "      <td>0.724747</td>\n",
       "      <td>1.0</td>\n",
       "      <td>0.775253</td>\n",
       "      <td>0.000817</td>\n",
       "      <td>0.000230</td>\n",
       "      <td>0.474201</td>\n",
       "      <td>0.025346</td>\n",
       "    </tr>\n",
       "    <tr>\n",
       "      <th>1</th>\n",
       "      <td>0.002861</td>\n",
       "      <td>0.000959</td>\n",
       "      <td>0.634146</td>\n",
       "      <td>0.736508</td>\n",
       "      <td>0.15</td>\n",
       "      <td>balanced</td>\n",
       "      <td>100</td>\n",
       "      <td>l1</td>\n",
       "      <td>saga</td>\n",
       "      <td>{'est__C': 0.15, 'est__class_weight': 'balance...</td>\n",
       "      <td>...</td>\n",
       "      <td>0.0</td>\n",
       "      <td>0.751918</td>\n",
       "      <td>1.0</td>\n",
       "      <td>0.724747</td>\n",
       "      <td>1.0</td>\n",
       "      <td>0.803030</td>\n",
       "      <td>0.000272</td>\n",
       "      <td>0.000531</td>\n",
       "      <td>0.481669</td>\n",
       "      <td>0.033687</td>\n",
       "    </tr>\n",
       "    <tr>\n",
       "      <th>2</th>\n",
       "      <td>0.003453</td>\n",
       "      <td>0.000920</td>\n",
       "      <td>0.634146</td>\n",
       "      <td>0.742619</td>\n",
       "      <td>0.2</td>\n",
       "      <td>balanced</td>\n",
       "      <td>100</td>\n",
       "      <td>l1</td>\n",
       "      <td>saga</td>\n",
       "      <td>{'est__C': 0.2, 'est__class_weight': 'balanced...</td>\n",
       "      <td>...</td>\n",
       "      <td>0.0</td>\n",
       "      <td>0.744246</td>\n",
       "      <td>1.0</td>\n",
       "      <td>0.724747</td>\n",
       "      <td>1.0</td>\n",
       "      <td>0.803030</td>\n",
       "      <td>0.000550</td>\n",
       "      <td>0.000209</td>\n",
       "      <td>0.481669</td>\n",
       "      <td>0.031009</td>\n",
       "    </tr>\n",
       "  </tbody>\n",
       "</table>\n",
       "<p>8 rows × 97 columns</p>\n",
       "</div>"
      ],
      "text/plain": [
       "   mean_fit_time  mean_score_time  mean_test_score  mean_train_score  \\\n",
       "5       0.003755         0.000933         0.780488          0.805452   \n",
       "6       0.004150         0.001013         0.780488          0.803220   \n",
       "4       0.003748         0.000943         0.756098          0.796050   \n",
       "7       0.003752         0.000932         0.756098          0.801865   \n",
       "0       0.002618         0.000916         0.658537          0.713345   \n",
       "3       0.003698         0.000959         0.658537          0.735711   \n",
       "1       0.002861         0.000959         0.634146          0.736508   \n",
       "2       0.003453         0.000920         0.634146          0.742619   \n",
       "\n",
       "  param_est__C param_est__class_weight param_est__max_iter param_est__penalty  \\\n",
       "5            1                balanced                 100                 l1   \n",
       "6          1.5                balanced                 100                 l1   \n",
       "4          0.5                balanced                 100                 l1   \n",
       "7            2                balanced                 100                 l1   \n",
       "0          0.1                balanced                 100                 l1   \n",
       "3         0.25                balanced                 100                 l1   \n",
       "1         0.15                balanced                 100                 l1   \n",
       "2          0.2                balanced                 100                 l1   \n",
       "\n",
       "  param_est__solver                                             params  \\\n",
       "5              saga  {'est__C': 1.0, 'est__class_weight': 'balanced...   \n",
       "6              saga  {'est__C': 1.5, 'est__class_weight': 'balanced...   \n",
       "4              saga  {'est__C': 0.5, 'est__class_weight': 'balanced...   \n",
       "7              saga  {'est__C': 2.0, 'est__class_weight': 'balanced...   \n",
       "0              saga  {'est__C': 0.1, 'est__class_weight': 'balanced...   \n",
       "3              saga  {'est__C': 0.25, 'est__class_weight': 'balance...   \n",
       "1              saga  {'est__C': 0.15, 'est__class_weight': 'balance...   \n",
       "2              saga  {'est__C': 0.2, 'est__class_weight': 'balanced...   \n",
       "\n",
       "        ...         split7_test_score  split7_train_score  split8_test_score  \\\n",
       "5       ...                       1.0            0.824808                1.0   \n",
       "6       ...                       1.0            0.824808                1.0   \n",
       "4       ...                       1.0            0.795396                1.0   \n",
       "7       ...                       1.0            0.824808                1.0   \n",
       "0       ...                       0.0            0.751918                1.0   \n",
       "3       ...                       1.0            0.722506                1.0   \n",
       "1       ...                       0.0            0.751918                1.0   \n",
       "2       ...                       0.0            0.744246                1.0   \n",
       "\n",
       "   split8_train_score  split9_test_score  split9_train_score  std_fit_time  \\\n",
       "5            0.770202                1.0            0.770202      0.000192   \n",
       "6            0.770202                1.0            0.770202      0.000974   \n",
       "4            0.770202                1.0            0.797980      0.000063   \n",
       "7            0.770202                1.0            0.770202      0.000058   \n",
       "0            0.696970                1.0            0.724747      0.000209   \n",
       "3            0.724747                1.0            0.775253      0.000817   \n",
       "1            0.724747                1.0            0.803030      0.000272   \n",
       "2            0.724747                1.0            0.803030      0.000550   \n",
       "\n",
       "   std_score_time  std_test_score  std_train_score  \n",
       "5        0.000021        0.413916         0.032124  \n",
       "6        0.000268        0.413916         0.025788  \n",
       "4        0.000023        0.429435         0.026255  \n",
       "7        0.000019        0.429435         0.025518  \n",
       "0        0.000048        0.474201         0.031479  \n",
       "3        0.000230        0.474201         0.025346  \n",
       "1        0.000531        0.481669         0.033687  \n",
       "2        0.000209        0.481669         0.031009  \n",
       "\n",
       "[8 rows x 97 columns]"
      ]
     },
     "execution_count": 94,
     "metadata": {},
     "output_type": "execute_result"
    }
   ],
   "source": [
    "results.sort_values('mean_test_score', ascending=False)"
   ]
  },
  {
   "cell_type": "code",
   "execution_count": 103,
   "metadata": {},
   "outputs": [],
   "source": [
    "from sklearn.feature_selection import SelectFromModel\n",
    "from sklearn.ensemble import RandomForestClassifier\n",
    "\n",
    "from sklearn.metrics import balanced_accuracy_score\n",
    "from sklearn.metrics import accuracy_score\n",
    "from sklearn.metrics import auc\n",
    "from sklearn.metrics import precision_score\n",
    "from sklearn.metrics import recall_score\n",
    "from sklearn.metrics import roc_auc_score"
   ]
  },
  {
   "cell_type": "markdown",
   "metadata": {},
   "source": [
    "## Quick Model Check\n",
    "1. PCA -> CV with RF/Logit: 0.824\n",
    "2. PCA -> CV with Logit: 0.774\n",
    "3. CV with PCA(n=10)/Logit: 0.774\n",
    "4. PCA(n=10) -> CV with Logit: 0.774"
   ]
  },
  {
   "cell_type": "code",
   "execution_count": 390,
   "metadata": {},
   "outputs": [],
   "source": [
    "get_feats_norf = lambda pipe: pd.Series(np.squeeze(pipe.steps[0][1].coef_), index=X.columns)"
   ]
  },
  {
   "cell_type": "code",
   "execution_count": 520,
   "metadata": {},
   "outputs": [],
   "source": [
    "def crossval(X, y, pipe, get_feats, ite=100, verbose=True):\n",
    "    feats = defaultdict(list)\n",
    "    preds = list()\n",
    "    probs = list()\n",
    "    model = 'logit'\n",
    "    for _ in tqdm(range(ite)) if verbose else range(ite):\n",
    "        for train_idx, test_idx in LeaveOneOut().split(X):\n",
    "\n",
    "            pipe.fit(X.iloc[train_idx], y.iloc[train_idx])\n",
    "            pred = pipe.predict(X.iloc[test_idx])[0]\n",
    "            proba = pipe.predict_proba(X.iloc[test_idx])[0][1]\n",
    "            preds.append(pred)\n",
    "            probs.append(proba)\n",
    "            fs = get_feats(pipe)\n",
    "            for f in fs.index:\n",
    "                if abs(fs[f]) > 0:\n",
    "                    feats[f].append(fs[f])\n",
    "    bm = pd.DataFrame(list(zip(preds, probs, y.values.tolist())), columns=['pred', 'proba', 'actual'])\n",
    "    return bm, feats\n",
    "\n",
    "\n",
    "def print_res(bm, model='logit'):\n",
    "    rs = recall_score(bm['actual'], bm['pred'])\n",
    "    ps = precision_score(bm['actual'], bm['pred'])\n",
    "    acc = accuracy_score(bm['actual'], bm['pred'])\n",
    "    bacc = balanced_accuracy_score(bm['actual'], bm['pred'])\n",
    "    roc = roc_auc_score(bm['actual'], bm['proba'])\n",
    "\n",
    "    print(model)\n",
    "    print('------------------------')\n",
    "    print('Recall       : {:1.3f}'.format(rs))\n",
    "    print('Precision    : {:1.3f}'.format(ps))\n",
    "    print('Accuracy     : {:1.3f}'.format(acc))\n",
    "    print('Bal. Accuracy: {:1.3f}'.format(bacc))\n",
    "    print('ROC AUC.     : {:1.3f}\\n'.format(roc))\n",
    "    \n",
    "    \n",
    "def plot_res(feats):\n",
    "    fig, axs = plt.subplots(1, 2, figsize=(14, 4))\n",
    "\n",
    "    fsrs['count'].apply(lambda v: v/4000).plot(kind='bar', ax=axs[0]);\n",
    "    axs[0].set_ylabel('Percent of Models w/ Feature')\n",
    "    fsrs['mean'].plot(kind='bar', yerr=fsrs['std'], ax=axs[1])\n",
    "    axs[1].set_ylabel('Avg Model Weight')\n",
    "\n",
    "    sns.despine()"
   ]
  },
  {
   "cell_type": "markdown",
   "metadata": {},
   "source": [
    "### PCA -> CV: RF(10)/Logit"
   ]
  },
  {
   "cell_type": "code",
   "execution_count": 421,
   "metadata": {},
   "outputs": [
    {
     "name": "stderr",
     "output_type": "stream",
     "text": [
      "100%|██████████| 10/10 [01:00<00:00,  6.02s/it]\n"
     ]
    },
    {
     "name": "stdout",
     "output_type": "stream",
     "text": [
      "logit\n",
      "------------------------\n",
      "Recall       : 0.870\n",
      "Precision    : 0.833\n",
      "Accuracy     : 0.829\n",
      "Bal. Accuracy: 0.824\n",
      "ROC AUC.     : 0.790\n",
      "\n",
      "           mean       std  count\n",
      "pc_1   0.068690  0.006587      3\n",
      "pc_10 -0.149404  0.076604     18\n",
      "pc_2   0.151900  0.027143    410\n",
      "pc_3  -0.606592  0.049431    410\n",
      "pc_4   0.234432  0.047769    409\n",
      "pc_6  -1.398771  0.113600    410\n"
     ]
    },
    {
     "data": {
      "image/png": "[encoded data removed]",
      "text/plain": [
       "<Figure size 1008x288 with 2 Axes>"
      ]
     },
     "metadata": {
      "needs_background": "light"
     },
     "output_type": "display_data"
    }
   ],
   "source": [
    "X, y = load_data()\n",
    "X = pd.DataFrame(PCA().fit_transform(X), columns=['pc_' + str(i+1) for i in range(X.shape[1])])\n",
    "\n",
    "pipe = Pipeline([('rf_select', SelectFromModel(RandomForestClassifier(n_estimators=200), max_features=10)),\n",
    "                 ('clf', LogisticRegression(C=1, penalty='l1', class_weight='balanced', solver='liblinear',\n",
    "                                                max_iter=100, tol=1e-6))])\n",
    "                 \n",
    "get_feats = lambda pipe: pd.Series(np.squeeze(pipe.steps[-1][1].coef_), \n",
    "                                   index=X.columns[pipe.steps[-2][1].get_support()])\n",
    "\n",
    "bm, feats = crossval(X, y, pipe, get_feats, ite=10)\n",
    "\n",
    "print_res(bm)\n",
    "\n",
    "fsrs = pd.DataFrame.from_dict({v: [np.mean(l), np.std(l), len(l)] for v, l in feats.items()},\n",
    "                              columns=['mean', 'std', 'count'], orient='index').sort_index()\n",
    "print(fsrs)\n",
    "\n",
    "plot_res(feats)"
   ]
  },
  {
   "cell_type": "markdown",
   "metadata": {},
   "source": [
    "### CV: PCA/RF(10)/Logit"
   ]
  },
  {
   "cell_type": "code",
   "execution_count": 498,
   "metadata": {},
   "outputs": [
    {
     "name": "stderr",
     "output_type": "stream",
     "text": [
      "100%|██████████| 10/10 [00:30<00:00,  3.02s/it]\n"
     ]
    },
    {
     "name": "stdout",
     "output_type": "stream",
     "text": [
      "logit\n",
      "------------------------\n",
      "Recall       : 0.826\n",
      "Precision    : 0.792\n",
      "Accuracy     : 0.780\n",
      "Bal. Accuracy: 0.774\n",
      "ROC AUC.     : 0.795\n",
      "\n",
      "           mean       std  count\n",
      "pc_1   0.059351  0.000000      1\n",
      "pc_10  0.703504  0.060290      8\n",
      "pc_2   0.136246  0.055753    288\n",
      "pc_3  -0.661105  0.211739    410\n",
      "pc_4   0.183061  0.117832    312\n",
      "pc_5  -0.984400  0.419434     12\n",
      "pc_6  -1.355880  0.195778    349\n",
      "pc_9  -0.144133  0.054275     11\n"
     ]
    },
    {
     "data": {
      "image/png": "[encoded data removed]",
      "text/plain": [
       "<Figure size 1008x288 with 2 Axes>"
      ]
     },
     "metadata": {
      "needs_background": "light"
     },
     "output_type": "display_data"
    }
   ],
   "source": [
    "X, y = load_data()\n",
    "\n",
    "pipe = Pipeline([('pca', PCA()),\n",
    "                 ('rf_select', SelectFromModel(RandomForestClassifier(n_estimators=100), max_features=5)),\n",
    "                 ('clf', LogisticRegression(C=1, penalty='l1', class_weight='balanced', solver='liblinear',\n",
    "                                                max_iter=100, tol=1e-6))])\n",
    "             \n",
    "get_feats = lambda pipe: pd.Series(np.squeeze(pipe.steps[-1][1].coef_), \n",
    "                                   index=np.array(['pc_' + str(i+1) for i in range(X.shape[1])])[pipe.steps[-2][1].get_support()])\n",
    "\n",
    "bm, feats = crossval(X, y, pipe, get_feats, ite=10)\n",
    "\n",
    "print_res(bm)\n",
    "\n",
    "fsrs = pd.DataFrame.from_dict({v: [np.mean(l), np.std(l), len(l)] for v, l in feats.items()},\n",
    "                              columns=['mean', 'std', 'count'], orient='index').sort_index()\n",
    "print(fsrs)\n",
    "\n",
    "plot_res(feats)"
   ]
  },
  {
   "cell_type": "markdown",
   "metadata": {},
   "source": [
    "### PCA(10) -> CV: Logit"
   ]
  },
  {
   "cell_type": "code",
   "execution_count": 425,
   "metadata": {},
   "outputs": [
    {
     "name": "stderr",
     "output_type": "stream",
     "text": [
      "100%|██████████| 2/2 [00:00<00:00,  7.67it/s]\n"
     ]
    },
    {
     "name": "stdout",
     "output_type": "stream",
     "text": [
      "logit\n",
      "------------------------\n",
      "Recall       : 0.826\n",
      "Precision    : 0.792\n",
      "Accuracy     : 0.780\n",
      "Bal. Accuracy: 0.774\n",
      "ROC AUC.     : 0.761\n",
      "\n",
      "          mean       std  count\n",
      "pc_1  0.045866  0.014447     82\n",
      "pc_2  0.111356  0.024737     82\n",
      "pc_3 -0.574921  0.052454     82\n",
      "pc_4  0.154549  0.044202     82\n",
      "pc_6 -0.728814  0.090846     82\n"
     ]
    },
    {
     "data": {
      "image/png": "[encoded data removed]",
      "text/plain": [
       "<Figure size 1008x288 with 2 Axes>"
      ]
     },
     "metadata": {
      "needs_background": "light"
     },
     "output_type": "display_data"
    }
   ],
   "source": [
    "X, y = load_data()\n",
    "X = pd.DataFrame(PCA().fit_transform(X), columns=['pc_' + str(i+1) for i in range(X.shape[1])])\n",
    "\n",
    "pipe = Pipeline([('clf', LogisticRegression(C=0.5, penalty='l1', class_weight='balanced', solver='liblinear',\n",
    "                                            max_iter=100, tol=1e-6))])\n",
    "             \n",
    "get_feats = lambda pipe: pd.Series(np.squeeze(pipe.steps[0][1].coef_), index=X.columns)\n",
    "\n",
    "bm, feats = crossval(X, y, pipe, get_feats, ite=2)\n",
    "\n",
    "print_res(bm)\n",
    "\n",
    "fsrs = pd.DataFrame.from_dict({v: [np.mean(l), np.std(l), len(l)] for v, l in feats.items()},\n",
    "                              columns=['mean', 'std', 'count'], orient='index').sort_index()\n",
    "print(fsrs)\n",
    "\n",
    "plot_res(feats)"
   ]
  },
  {
   "cell_type": "markdown",
   "metadata": {},
   "source": [
    "### CV: PCA(10) / Logit"
   ]
  },
  {
   "cell_type": "code",
   "execution_count": 502,
   "metadata": {},
   "outputs": [
    {
     "name": "stderr",
     "output_type": "stream",
     "text": [
      "100%|██████████| 10/10 [00:01<00:00,  6.24it/s]\n"
     ]
    },
    {
     "name": "stdout",
     "output_type": "stream",
     "text": [
      "logit\n",
      "------------------------\n",
      "Recall       : 0.783\n",
      "Precision    : 0.783\n",
      "Accuracy     : 0.756\n",
      "Bal. Accuracy: 0.752\n",
      "ROC AUC.     : 0.725\n",
      "\n",
      "               mean           std  count\n",
      "pc_1   6.265955e-02  2.123421e-02    410\n",
      "pc_10 -9.880119e-02  3.005833e-01    410\n",
      "pc_11  6.819922e-02  6.453466e-02    410\n",
      "pc_12 -5.034198e-02  1.005223e-01    410\n",
      "pc_13  1.109888e-01  8.347907e-02    410\n",
      "pc_14 -1.009160e-01  1.702078e-01    410\n",
      "pc_15 -3.985767e-02  1.252703e-01    410\n",
      "pc_16 -2.552904e-02  6.029560e-02    410\n",
      "pc_17  1.450059e-01  1.402663e-01    410\n",
      "pc_18 -1.260625e-01  2.119609e-01    410\n",
      "pc_19 -1.957092e-02  9.253386e-02    410\n",
      "pc_2   1.791503e-01  3.839967e-02    410\n",
      "pc_20 -5.736771e-02  9.035363e-02    410\n",
      "pc_21 -2.398919e-02  3.643447e-02    410\n",
      "pc_22 -6.234060e-03  3.865341e-02    410\n",
      "pc_23 -2.862349e-02  8.820663e-02    410\n",
      "pc_24 -1.547386e-01  6.500458e-02    410\n",
      "pc_25 -3.888656e-02  7.810110e-02    410\n",
      "pc_26 -2.697247e-02  2.052546e-02    410\n",
      "pc_27  8.875945e-04  2.429914e-02    410\n",
      "pc_28  7.081823e-03  2.199305e-02    410\n",
      "pc_29 -2.238478e-03  1.178501e-02    410\n",
      "pc_3  -5.360755e-01  1.685728e-01    410\n",
      "pc_30 -2.202634e-03  5.518821e-03    410\n",
      "pc_31 -1.274935e-16  1.668767e-15    410\n",
      "pc_32  2.634547e-16  4.234722e-16    410\n",
      "pc_33 -2.351715e-16  4.534974e-16    410\n",
      "pc_34 -5.681029e-17  5.971822e-16    410\n",
      "pc_35  2.203942e-16  5.991967e-16    410\n",
      "pc_36  1.763566e-16  5.358847e-16    410\n",
      "pc_4   2.560224e-01  1.445402e-01    410\n",
      "pc_5  -9.220671e-03  1.775554e-01    410\n",
      "pc_6  -8.465830e-01  1.301316e-01    410\n",
      "pc_7   2.524490e-02  9.709209e-02    410\n",
      "pc_8  -9.760208e-02  1.316315e-01    410\n",
      "pc_9  -1.076858e-01  1.428653e-01    410\n"
     ]
    },
    {
     "data": {
      "image/png": "[encoded data removed]",
      "text/plain": [
       "<Figure size 1008x288 with 2 Axes>"
      ]
     },
     "metadata": {
      "needs_background": "light"
     },
     "output_type": "display_data"
    }
   ],
   "source": [
    "X, y = load_data()\n",
    "\n",
    "pipe = Pipeline([('pca', PCA()),\n",
    "                 ('clf', LogisticRegression(C=0.5, penalty='l2', class_weight='balanced', solver='liblinear',\n",
    "                                                max_iter=100, tol=1e-6))])\n",
    "             \n",
    "get_feats = lambda pipe: pd.Series(np.squeeze(pipe.steps[-1][1].coef_), \n",
    "                                   index=['pc_' + str(i+1) for i in range(X.shape[1])])\n",
    "\n",
    "bm, feats = crossval(X, y, pipe, get_feats, ite=10)\n",
    "\n",
    "print_res(bm)\n",
    "\n",
    "fsrs = pd.DataFrame.from_dict({v: [np.mean(l), np.std(l), len(l)] for v, l in feats.items()},\n",
    "                              columns=['mean', 'std', 'count'], orient='index').sort_index()\n",
    "print(fsrs)\n",
    "\n",
    "plot_res(feats)"
   ]
  },
  {
   "cell_type": "markdown",
   "metadata": {},
   "source": [
    "### CV: PCA(10)/ElasticNet"
   ]
  },
  {
   "cell_type": "code",
   "execution_count": 589,
   "metadata": {
    "scrolled": false
   },
   "outputs": [
    {
     "name": "stdout",
     "output_type": "stream",
     "text": [
      "\n",
      "ElasticNet - C: 0.25, Ratio: 0\n",
      "------------------------\n",
      "Recall       : 0.826\n",
      "Precision    : 0.792\n",
      "Accuracy     : 0.780\n",
      "Bal. Accuracy: 0.774\n",
      "ROC AUC.     : 0.742\n",
      "\n",
      "\n",
      "ElasticNet - C: 0.5, Ratio: 0\n",
      "------------------------\n",
      "Recall       : 0.826\n",
      "Precision    : 0.792\n",
      "Accuracy     : 0.780\n",
      "Bal. Accuracy: 0.774\n",
      "ROC AUC.     : 0.739\n",
      "\n",
      "\n",
      "ElasticNet - C: 1, Ratio: 0\n",
      "------------------------\n",
      "Recall       : 0.826\n",
      "Precision    : 0.792\n",
      "Accuracy     : 0.780\n",
      "Bal. Accuracy: 0.774\n",
      "ROC AUC.     : 0.739\n",
      "\n",
      "\n",
      "ElasticNet - C: 1.5, Ratio: 0\n",
      "------------------------\n",
      "Recall       : 0.783\n",
      "Precision    : 0.783\n",
      "Accuracy     : 0.756\n",
      "Bal. Accuracy: 0.752\n",
      "ROC AUC.     : 0.737\n",
      "\n",
      "\n",
      "ElasticNet - C: 0.25, Ratio: 0.25\n",
      "------------------------\n",
      "Recall       : 0.783\n",
      "Precision    : 0.783\n",
      "Accuracy     : 0.756\n",
      "Bal. Accuracy: 0.752\n",
      "ROC AUC.     : 0.744\n",
      "\n",
      "\n",
      "ElasticNet - C: 0.5, Ratio: 0.25\n",
      "------------------------\n",
      "Recall       : 0.826\n",
      "Precision    : 0.792\n",
      "Accuracy     : 0.780\n",
      "Bal. Accuracy: 0.774\n",
      "ROC AUC.     : 0.744\n",
      "\n",
      "\n",
      "ElasticNet - C: 1, Ratio: 0.25\n",
      "------------------------\n",
      "Recall       : 0.826\n",
      "Precision    : 0.792\n",
      "Accuracy     : 0.780\n",
      "Bal. Accuracy: 0.774\n",
      "ROC AUC.     : 0.742\n",
      "\n",
      "\n",
      "ElasticNet - C: 1.5, Ratio: 0.25\n",
      "------------------------\n",
      "Recall       : 0.783\n",
      "Precision    : 0.783\n",
      "Accuracy     : 0.756\n",
      "Bal. Accuracy: 0.752\n",
      "ROC AUC.     : 0.739\n",
      "\n",
      "\n",
      "ElasticNet - C: 0.25, Ratio: 0.5\n",
      "------------------------\n",
      "Recall       : 0.783\n",
      "Precision    : 0.783\n",
      "Accuracy     : 0.756\n",
      "Bal. Accuracy: 0.752\n",
      "ROC AUC.     : 0.734\n",
      "\n",
      "\n",
      "ElasticNet - C: 0.5, Ratio: 0.5\n",
      "------------------------\n",
      "Recall       : 0.826\n",
      "Precision    : 0.792\n",
      "Accuracy     : 0.780\n",
      "Bal. Accuracy: 0.774\n",
      "ROC AUC.     : 0.754\n",
      "\n",
      "\n",
      "ElasticNet - C: 1, Ratio: 0.5\n",
      "------------------------\n",
      "Recall       : 0.826\n",
      "Precision    : 0.792\n",
      "Accuracy     : 0.780\n",
      "Bal. Accuracy: 0.774\n",
      "ROC AUC.     : 0.746\n",
      "\n",
      "\n",
      "ElasticNet - C: 1.5, Ratio: 0.5\n",
      "------------------------\n",
      "Recall       : 0.826\n",
      "Precision    : 0.792\n",
      "Accuracy     : 0.780\n",
      "Bal. Accuracy: 0.774\n",
      "ROC AUC.     : 0.739\n",
      "\n",
      "\n",
      "ElasticNet - C: 0.25, Ratio: 0.75\n",
      "------------------------\n",
      "Recall       : 0.739\n",
      "Precision    : 0.739\n",
      "Accuracy     : 0.707\n",
      "Bal. Accuracy: 0.703\n",
      "ROC AUC.     : 0.705\n",
      "\n",
      "\n",
      "ElasticNet - C: 0.5, Ratio: 0.75\n",
      "------------------------\n",
      "Recall       : 0.826\n",
      "Precision    : 0.792\n",
      "Accuracy     : 0.780\n",
      "Bal. Accuracy: 0.774\n",
      "ROC AUC.     : 0.751\n",
      "\n",
      "\n",
      "ElasticNet - C: 1, Ratio: 0.75\n",
      "------------------------\n",
      "Recall       : 0.826\n",
      "Precision    : 0.792\n",
      "Accuracy     : 0.780\n",
      "Bal. Accuracy: 0.774\n",
      "ROC AUC.     : 0.751\n",
      "\n",
      "\n",
      "ElasticNet - C: 1.5, Ratio: 0.75\n",
      "------------------------\n",
      "Recall       : 0.826\n",
      "Precision    : 0.792\n",
      "Accuracy     : 0.780\n",
      "Bal. Accuracy: 0.774\n",
      "ROC AUC.     : 0.742\n",
      "\n",
      "\n",
      "ElasticNet - C: 0.25, Ratio: 1\n",
      "------------------------\n",
      "Recall       : 0.696\n",
      "Precision    : 0.696\n",
      "Accuracy     : 0.659\n",
      "Bal. Accuracy: 0.653\n",
      "ROC AUC.     : 0.696\n",
      "\n",
      "\n",
      "ElasticNet - C: 0.5, Ratio: 1\n",
      "------------------------\n",
      "Recall       : 0.783\n",
      "Precision    : 0.783\n",
      "Accuracy     : 0.756\n",
      "Bal. Accuracy: 0.752\n",
      "ROC AUC.     : 0.744\n",
      "\n",
      "\n",
      "ElasticNet - C: 1, Ratio: 1\n",
      "------------------------\n",
      "Recall       : 0.826\n",
      "Precision    : 0.792\n",
      "Accuracy     : 0.780\n",
      "Bal. Accuracy: 0.774\n",
      "ROC AUC.     : 0.751\n",
      "\n",
      "\n",
      "ElasticNet - C: 1.5, Ratio: 1\n",
      "------------------------\n",
      "Recall       : 0.826\n",
      "Precision    : 0.792\n",
      "Accuracy     : 0.780\n",
      "Bal. Accuracy: 0.774\n",
      "ROC AUC.     : 0.744\n",
      "\n"
     ]
    }
   ],
   "source": [
    "X, y = load_data()\n",
    "\n",
    "for ratio in [0, 0.25, 0.5, 0.75, 1]:\n",
    "    for C in [0.25, 0.5, 1, 1.5]:\n",
    "#C =1\n",
    "#ratio = 0.25\n",
    "\n",
    "        pipe = Pipeline([('pca', PCA(10)),\n",
    "                         ('clf', LogisticRegression(C=C, penalty='elasticnet', l1_ratio=ratio, \n",
    "                                                    class_weight='balanced', solver='saga',\n",
    "                                                    max_iter=100, tol=1e-6))])\n",
    "\n",
    "        get_feats = lambda pipe: pd.Series(np.squeeze(pipe.steps[1][1].coef_), \n",
    "                                           index=['pc_' + str(i+1) for i in range(10)])\n",
    "\n",
    "        bm, feats = crossval(X, y, pipe, get_feats, ite=10, verbose=False)\n",
    "\n",
    "        model = '\\nElasticNet - C: {}, Ratio: {}'.format(C, ratio)\n",
    "\n",
    "        print_res(bm, model)\n",
    "\n",
    "\n",
    "#fsrs = pd.DataFrame.from_dict({v: [np.mean(l), np.std(l), len(l)] for v, l in feats.items()},\n",
    "#                              columns=['mean', 'std', 'count'], orient='index').sort_index()\n",
    "#print(fsrs)\n",
    "\n",
    "#plot_res(feats)"
   ]
  },
  {
   "cell_type": "markdown",
   "metadata": {},
   "source": [
    "### CV: Logit"
   ]
  },
  {
   "cell_type": "code",
   "execution_count": 548,
   "metadata": {},
   "outputs": [
    {
     "name": "stderr",
     "output_type": "stream",
     "text": [
      "100%|██████████| 10/10 [00:01<00:00,  8.63it/s]\n"
     ]
    },
    {
     "name": "stdout",
     "output_type": "stream",
     "text": [
      "logit\n",
      "------------------------\n",
      "Recall       : 0.696\n",
      "Precision    : 0.727\n",
      "Accuracy     : 0.683\n",
      "Bal. Accuracy: 0.681\n",
      "ROC AUC.     : 0.734\n",
      "\n",
      "             mean       std  count\n",
      "theta_0 -0.249192  0.141254    380\n",
      "theta_2 -0.494704  0.134416    400\n",
      "theta_3 -0.024723  0.000005     10\n",
      "theta_5 -0.074228  0.078248    230\n"
     ]
    },
    {
     "data": {
      "image/png": "[encoded data removed]",
      "text/plain": [
       "<Figure size 1008x288 with 2 Axes>"
      ]
     },
     "metadata": {
      "needs_background": "light"
     },
     "output_type": "display_data"
    }
   ],
   "source": [
    "X, y = load_data()\n",
    "\n",
    "pipe = Pipeline([('clf', LogisticRegression(C=0.25, penalty='l1', class_weight='balanced', solver='liblinear',\n",
    "                                                max_iter=100, tol=1e-6))])\n",
    "             \n",
    "get_feats = lambda pipe: pd.Series(np.squeeze(pipe.steps[0][1].coef_), \n",
    "                                   index=X.columns)\n",
    "\n",
    "bm, feats = crossval(X, y, pipe, get_feats, ite=100)\n",
    "\n",
    "print_res(bm)\n",
    "\n",
    "fsrs = pd.DataFrame.from_dict({v: [np.mean(l), np.std(l), len(l)] for v, l in feats.items()},\n",
    "                              columns=['mean', 'std', 'count'], orient='index').sort_index()\n",
    "print(fsrs)\n",
    "\n",
    "plot_res(feats)"
   ]
  },
  {
   "cell_type": "markdown",
   "metadata": {},
   "source": [
    "### Logit L2"
   ]
  },
  {
   "cell_type": "code",
   "execution_count": null,
   "metadata": {},
   "outputs": [
    {
     "name": "stderr",
     "output_type": "stream",
     "text": [
      "100%|██████████| 100/100 [00:11<00:00,  8.38it/s]\n"
     ]
    },
    {
     "name": "stdout",
     "output_type": "stream",
     "text": [
      "logit\n",
      "------------------------\n",
      "Recall       : 0.826\n",
      "Precision    : 0.792\n",
      "Accuracy     : 0.780\n",
      "Bal. Accuracy: 0.774\n",
      "ROC AUC.     : 0.732\n",
      "\n",
      "              mean       std  count\n",
      "alpha_0  -0.148193  0.021187   4100\n",
      "alpha_1   0.197100  0.018497   4100\n",
      "alpha_2  -0.092271  0.025423   4100\n",
      "alpha_3  -0.019598  0.018401   4100\n",
      "alpha_4   0.127261  0.021584   4100\n",
      "alpha_5   0.183548  0.023983   4100\n",
      "beta_0   -0.025723  0.026295   4100\n",
      "beta_1    0.229325  0.021878   4100\n",
      "beta_2    0.072391  0.018779   4100\n",
      "beta_3   -0.037935  0.027277   4100\n",
      "beta_4    0.127827  0.016566   4100\n",
      "beta_5    0.145350  0.017065   4100\n",
      "delta_0   0.239275  0.019536   4100\n",
      "delta_1  -0.148510  0.017240   4100\n",
      "delta_2   0.137320  0.017066   4100\n",
      "delta_3   0.185124  0.018203   4100\n",
      "delta_4  -0.057282  0.016002   4100\n",
      "delta_5   0.007874  0.020046   4100\n",
      "gammaH_0 -0.107574  0.010934   4100\n",
      "gammaH_1 -0.041783  0.011724   4100\n",
      "gammaH_2 -0.117511  0.022900   4100\n",
      "gammaH_3 -0.037051  0.015283   4100\n",
      "gammaH_4 -0.041336  0.016918   4100\n",
      "gammaH_5 -0.035327  0.011272   4100\n",
      "gammaL_0 -0.121256  0.019802   4100\n",
      "gammaL_1  0.005846  0.024967   4100\n",
      "gammaL_2  0.046880  0.022304   4100\n",
      "gammaL_3 -0.163773  0.022188   4100\n",
      "gammaL_4 -0.046116  0.025818   4100\n",
      "gammaL_5 -0.021065  0.020281   4100\n",
      "theta_0  -0.295812  0.023153   4100\n",
      "theta_1  -0.020778  0.025110   4100\n",
      "theta_2  -0.272511  0.018210   4100\n",
      "theta_3  -0.316903  0.019952   4100\n",
      "theta_4  -0.113700  0.027000   4100\n",
      "theta_5  -0.307121  0.027146   4100\n"
     ]
    }
   ],
   "source": [
    "X, y = load_data()\n",
    "\n",
    "pipe = Pipeline([('clf', LogisticRegression(C=0.25, penalty='l2', class_weight='balanced', solver='liblinear',\n",
    "                                                max_iter=100, tol=1e-6))])\n",
    "             \n",
    "get_feats = lambda pipe: pd.Series(np.squeeze(pipe.steps[0][1].coef_), \n",
    "                                   index=X.columns)\n",
    "\n",
    "bm, feats = crossval(X, y, pipe, get_feats, ite=100)\n",
    "\n",
    "print_res(bm)\n",
    "\n",
    "fsrs = pd.DataFrame.from_dict({v: [np.mean(l), np.std(l), len(l)] for v, l in feats.items()},\n",
    "                              columns=['mean', 'std', 'count'], orient='index').sort_index()\n",
    "print(fsrs)\n",
    "\n",
    "plot_res(feats)"
   ]
  },
  {
   "cell_type": "markdown",
   "metadata": {},
   "source": [
    "### ElasticNet w/ anova"
   ]
  },
  {
   "cell_type": "code",
   "execution_count": 551,
   "metadata": {},
   "outputs": [
    {
     "name": "stderr",
     "output_type": "stream",
     "text": [
      "100%|██████████| 10/10 [00:01<00:00,  5.38it/s]\n"
     ]
    },
    {
     "name": "stdout",
     "output_type": "stream",
     "text": [
      "logit\n",
      "------------------------\n",
      "Recall       : 0.696\n",
      "Precision    : 0.727\n",
      "Accuracy     : 0.683\n",
      "Bal. Accuracy: 0.681\n",
      "ROC AUC.     : 0.705\n",
      "\n",
      "             mean       std  count\n",
      "delta_0  0.125348  0.102010     50\n",
      "delta_2 -0.000815  0.000301      9\n",
      "delta_5 -0.089423  0.065705    380\n",
      "theta_0 -0.441012  0.111445    410\n",
      "theta_1  0.233639  0.088127    402\n",
      "theta_2 -0.678336  0.116755    410\n",
      "theta_3 -0.157162  0.100015    398\n",
      "theta_5 -0.373279  0.074940    400\n"
     ]
    },
    {
     "data": {
      "image/png": "[encoded data removed]",
      "text/plain": [
       "<Figure size 1008x288 with 2 Axes>"
      ]
     },
     "metadata": {
      "needs_background": "light"
     },
     "output_type": "display_data"
    }
   ],
   "source": [
    "from sklearn.feature_selection import f_classif, SelectKBest\n",
    "\n",
    "X, y = load_data()\n",
    "\n",
    "pipe = Pipeline([('f_select', SelectKBest(f_classif, k=10)),\n",
    "                 ('clf', LogisticRegression(C=1, l1_ratio=0.5, \n",
    "                                            penalty='elasticnet', class_weight='balanced', solver='saga',\n",
    "                                            max_iter=100, tol=1e-6))])\n",
    "             \n",
    "get_feats = lambda pipe: pd.Series(np.squeeze(pipe.steps[1][1].coef_), \n",
    "                                   index=X.columns[pipe.steps[0][1].get_support()])\n",
    "\n",
    "bm, feats = crossval(X, y, pipe, get_feats, ite=10)\n",
    "\n",
    "print_res(bm)\n",
    "\n",
    "fsrs = pd.DataFrame.from_dict({v: [np.mean(l), np.std(l), len(l)] for v, l in feats.items()},\n",
    "                              columns=['mean', 'std', 'count'], orient='index').sort_index()\n",
    "print(fsrs)\n",
    "\n",
    "plot_res(feats)"
   ]
  },
  {
   "cell_type": "markdown",
   "metadata": {},
   "source": [
    "### ElasticNet"
   ]
  },
  {
   "cell_type": "code",
   "execution_count": 552,
   "metadata": {
    "scrolled": false
   },
   "outputs": [
    {
     "name": "stdout",
     "output_type": "stream",
     "text": [
      "\n",
      "ElasticNet - C: 1, Ratio: 0.25\n",
      "------------------------\n",
      "Recall       : 0.783\n",
      "Precision    : 0.783\n",
      "Accuracy     : 0.756\n",
      "Bal. Accuracy: 0.752\n",
      "ROC AUC.     : 0.717\n",
      "\n",
      "              mean       std  count\n",
      "alpha_0  -0.285253  0.049839    410\n",
      "alpha_1   0.299824  0.040563    410\n",
      "alpha_2  -0.117013  0.040927    400\n",
      "alpha_3  -0.025834  0.015124     52\n",
      "alpha_4   0.112111  0.051053    410\n",
      "alpha_5   0.270908  0.060412    410\n",
      "beta_0   -0.048127  0.044133     60\n",
      "beta_1    0.408571  0.055031    410\n",
      "beta_2    0.036938  0.033676    300\n",
      "beta_3   -0.032097  0.040594    199\n",
      "beta_4    0.137513  0.040496    410\n",
      "beta_5    0.191822  0.042513    410\n",
      "delta_0   0.413391  0.050155    410\n",
      "delta_1  -0.282746  0.041985    410\n",
      "delta_2   0.127214  0.037554    400\n",
      "delta_3   0.276626  0.049868    410\n",
      "delta_4  -0.035660  0.031753    301\n",
      "delta_5  -0.009009  0.016501     30\n",
      "gammaH_0 -0.159768  0.030868    410\n",
      "gammaH_1 -0.015900  0.022645     51\n",
      "gammaH_2 -0.196977  0.035044    400\n",
      "gammaH_3 -0.051296  0.035415     32\n",
      "gammaH_4 -0.025542  0.034060    219\n",
      "gammaH_5 -0.056769  0.001180     10\n",
      "gammaL_0 -0.152442  0.047981    410\n",
      "gammaL_1  0.042748  0.093540     30\n",
      "gammaL_2  0.019476  0.017743    275\n",
      "gammaL_3 -0.287098  0.051380    410\n",
      "gammaL_4 -0.031137  0.062926    162\n",
      "gammaL_5 -0.054389  0.027825     50\n",
      "theta_0  -0.377243  0.053489    410\n",
      "theta_1   0.084681  0.035456    380\n",
      "theta_2  -0.333828  0.039261    410\n",
      "theta_3  -0.450274  0.048112    410\n",
      "theta_4  -0.035962  0.072790     71\n",
      "theta_5  -0.437457  0.073300    410\n"
     ]
    },
    {
     "data": {
      "image/png": "[encoded data removed]",
      "text/plain": [
       "<Figure size 1008x288 with 2 Axes>"
      ]
     },
     "metadata": {
      "needs_background": "light"
     },
     "output_type": "display_data"
    }
   ],
   "source": [
    "X, y = load_data()\n",
    "\n",
    "#for ratio in [0, 0.25, 0.5, 0.75, 1]:\n",
    "#    for C in [0.25, 0.5, 1, 1.5]:\n",
    "C =1\n",
    "ratio = 0.25\n",
    "\n",
    "pipe = Pipeline([('clf', LogisticRegression(C=C, penalty='elasticnet', l1_ratio=ratio, \n",
    "                                            class_weight='balanced', solver='saga',\n",
    "                                            max_iter=100, tol=1e-6))])\n",
    "\n",
    "get_feats = lambda pipe: pd.Series(np.squeeze(pipe.steps[0][1].coef_), \n",
    "                                   index=X.columns)\n",
    "\n",
    "bm, feats = crossval(X, y, pipe, get_feats, ite=10, verbose=False)\n",
    "\n",
    "model = '\\nElasticNet - C: {}, Ratio: {}'.format(C, ratio)\n",
    "\n",
    "print_res(bm, model)\n",
    "\n",
    "\n",
    "fsrs = pd.DataFrame.from_dict({v: [np.mean(l), np.std(l), len(l)] for v, l in feats.items()},\n",
    "                              columns=['mean', 'std', 'count'], orient='index').sort_index()\n",
    "print(fsrs)\n",
    "\n",
    "plot_res(feats)"
   ]
  },
  {
   "cell_type": "markdown",
   "metadata": {},
   "source": [
    "### CV: RF"
   ]
  },
  {
   "cell_type": "code",
   "execution_count": 465,
   "metadata": {},
   "outputs": [
    {
     "name": "stderr",
     "output_type": "stream",
     "text": [
      "100%|██████████| 10/10 [00:30<00:00,  3.03s/it]\n"
     ]
    },
    {
     "name": "stdout",
     "output_type": "stream",
     "text": [
      "logit\n",
      "------------------------\n",
      "Recall       : 0.696\n",
      "Precision    : 0.640\n",
      "Accuracy     : 0.610\n",
      "Bal. Accuracy: 0.598\n",
      "ROC AUC.     : 0.663\n",
      "\n",
      "              mean       std  count\n",
      "alpha_0   0.018944  0.005664    410\n",
      "alpha_1   0.015116  0.004536    410\n",
      "alpha_2   0.017071  0.005625    410\n",
      "alpha_3   0.019140  0.005886    410\n",
      "alpha_4   0.022939  0.007030    410\n",
      "alpha_5   0.018079  0.005249    410\n",
      "beta_0    0.016063  0.005109    410\n",
      "beta_1    0.021854  0.006392    410\n",
      "beta_2    0.015067  0.004622    410\n",
      "beta_3    0.016674  0.004901    410\n",
      "beta_4    0.026336  0.007139    410\n",
      "beta_5    0.021080  0.006667    410\n",
      "delta_0   0.023205  0.006903    410\n",
      "delta_1   0.018852  0.005920    410\n",
      "delta_2   0.020873  0.006557    410\n",
      "delta_3   0.026846  0.007412    410\n",
      "delta_4   0.019212  0.005777    410\n",
      "delta_5   0.021562  0.007057    410\n",
      "gammaH_0  0.023589  0.007207    410\n",
      "gammaH_1  0.018449  0.005321    410\n",
      "gammaH_2  0.019411  0.005921    410\n",
      "gammaH_3  0.019695  0.005634    410\n",
      "gammaH_4  0.020536  0.005783    410\n",
      "gammaH_5  0.025688  0.007246    410\n",
      "gammaL_0  0.014193  0.004234    410\n",
      "gammaL_1  0.020640  0.005481    410\n",
      "gammaL_2  0.015953  0.004612    410\n",
      "gammaL_3  0.022937  0.006099    410\n",
      "gammaL_4  0.018888  0.005012    410\n",
      "gammaL_5  0.022173  0.005877    410\n",
      "theta_0   0.071672  0.014852    410\n",
      "theta_1   0.041946  0.010836    410\n",
      "theta_2   0.087639  0.016575    410\n",
      "theta_3   0.057799  0.013171    410\n",
      "theta_4   0.058397  0.012914    410\n",
      "theta_5   0.081482  0.017059    410\n"
     ]
    },
    {
     "data": {
      "image/png": "[encoded data removed]",
      "text/plain": [
       "<Figure size 1008x288 with 2 Axes>"
      ]
     },
     "metadata": {
      "needs_background": "light"
     },
     "output_type": "display_data"
    }
   ],
   "source": [
    "X, y = load_data()\n",
    "\n",
    "pipe = Pipeline([('clf', RandomForestClassifier(n_estimators=100, max_features=5))])\n",
    "             \n",
    "get_feats = lambda pipe: pd.Series(np.squeeze(pipe.steps[0][1].feature_importances_), \n",
    "                                   index=X.columns)\n",
    "\n",
    "bm, feats = crossval(X, y, pipe, get_feats, ite=10)\n",
    "\n",
    "print_res(bm)\n",
    "\n",
    "fsrs = pd.DataFrame.from_dict({v: [np.mean(l), np.std(l), len(l)] for v, l in feats.items()},\n",
    "                              columns=['mean', 'std', 'count'], orient='index').sort_index()\n",
    "print(fsrs)\n",
    "\n",
    "plot_res(feats)"
   ]
  },
  {
   "cell_type": "markdown",
   "metadata": {},
   "source": [
    "### CV: SVM (rbf)"
   ]
  },
  {
   "cell_type": "code",
   "execution_count": 494,
   "metadata": {},
   "outputs": [
    {
     "name": "stderr",
     "output_type": "stream",
     "text": [
      "100%|██████████| 100/100 [00:13<00:00,  7.24it/s]"
     ]
    },
    {
     "name": "stdout",
     "output_type": "stream",
     "text": [
      "logit\n",
      "------------------------\n",
      "Recall       : 0.739\n",
      "Precision    : 0.630\n",
      "Accuracy     : 0.610\n",
      "Bal. Accuracy: 0.592\n",
      "ROC AUC.     : 0.415\n",
      "\n",
      "   mean  std  count\n",
      "a   1.0  0.0   4100\n",
      "b   2.0  0.0   4100\n"
     ]
    },
    {
     "name": "stderr",
     "output_type": "stream",
     "text": [
      "\n"
     ]
    }
   ],
   "source": [
    "X, y = load_data()\n",
    "\n",
    "pipe = Pipeline([('clf', SVC(C=1, kernel='rbf', class_weight='balanced', probability=True))])\n",
    "             \n",
    "get_feats = lambda pipe: pd.Series({'a': 1, 'b': 2})\n",
    "\n",
    "bm, feats = crossval(X, y, pipe, get_feats, ite=100)\n",
    "\n",
    "print_res(bm)\n",
    "\n",
    "fsrs = pd.DataFrame.from_dict({v: [np.mean(l), np.std(l), len(l)] for v, l in feats.items()},\n",
    "                              columns=['mean', 'std', 'count'], orient='index').sort_index()\n",
    "print(fsrs)\n",
    "\n",
    "#plot_res(feats)"
   ]
  },
  {
   "cell_type": "markdown",
   "metadata": {},
   "source": [
    "### CV: SVM (linear)"
   ]
  },
  {
   "cell_type": "code",
   "execution_count": 563,
   "metadata": {},
   "outputs": [
    {
     "name": "stderr",
     "output_type": "stream",
     "text": [
      "100%|██████████| 10/10 [00:02<00:00,  4.99it/s]\n",
      "  0%|          | 0/10 [00:00<?, ?it/s]"
     ]
    },
    {
     "name": "stdout",
     "output_type": "stream",
     "text": [
      "Linear SVM (0.25)\n",
      "------------------------\n",
      "Recall       : 0.696\n",
      "Precision    : 0.727\n",
      "Accuracy     : 0.683\n",
      "Bal. Accuracy: 0.681\n",
      "ROC AUC.     : 0.655\n",
      "\n"
     ]
    },
    {
     "name": "stderr",
     "output_type": "stream",
     "text": [
      "100%|██████████| 10/10 [00:02<00:00,  4.73it/s]\n",
      "  0%|          | 0/10 [00:00<?, ?it/s]"
     ]
    },
    {
     "name": "stdout",
     "output_type": "stream",
     "text": [
      "Linear SVM (0.5)\n",
      "------------------------\n",
      "Recall       : 0.739\n",
      "Precision    : 0.739\n",
      "Accuracy     : 0.707\n",
      "Bal. Accuracy: 0.703\n",
      "ROC AUC.     : 0.681\n",
      "\n"
     ]
    },
    {
     "name": "stderr",
     "output_type": "stream",
     "text": [
      "100%|██████████| 10/10 [00:02<00:00,  4.43it/s]\n",
      "  0%|          | 0/10 [00:00<?, ?it/s]"
     ]
    },
    {
     "name": "stdout",
     "output_type": "stream",
     "text": [
      "Linear SVM (0.75)\n",
      "------------------------\n",
      "Recall       : 0.739\n",
      "Precision    : 0.739\n",
      "Accuracy     : 0.707\n",
      "Bal. Accuracy: 0.703\n",
      "ROC AUC.     : 0.688\n",
      "\n"
     ]
    },
    {
     "name": "stderr",
     "output_type": "stream",
     "text": [
      "100%|██████████| 10/10 [00:02<00:00,  3.85it/s]\n",
      "  0%|          | 0/10 [00:00<?, ?it/s]"
     ]
    },
    {
     "name": "stdout",
     "output_type": "stream",
     "text": [
      "Linear SVM (1.0)\n",
      "------------------------\n",
      "Recall       : 0.739\n",
      "Precision    : 0.739\n",
      "Accuracy     : 0.707\n",
      "Bal. Accuracy: 0.703\n",
      "ROC AUC.     : 0.699\n",
      "\n"
     ]
    },
    {
     "name": "stderr",
     "output_type": "stream",
     "text": [
      "100%|██████████| 10/10 [00:02<00:00,  3.41it/s]"
     ]
    },
    {
     "name": "stdout",
     "output_type": "stream",
     "text": [
      "Linear SVM (1.5)\n",
      "------------------------\n",
      "Recall       : 0.696\n",
      "Precision    : 0.727\n",
      "Accuracy     : 0.683\n",
      "Bal. Accuracy: 0.681\n",
      "ROC AUC.     : 0.606\n",
      "\n"
     ]
    },
    {
     "name": "stderr",
     "output_type": "stream",
     "text": [
      "\n"
     ]
    }
   ],
   "source": [
    "X, y = load_data()\n",
    "\n",
    "for C in [0.25, 0.5, 0.75, 1.0, 1.5]:\n",
    "    \n",
    "    pipe = Pipeline([('clf', SVC(C=C, kernel='linear', class_weight='balanced', probability=True))])\n",
    "\n",
    "    get_feats = lambda pipe: pd.Series({'a': 1, 'b': 2})\n",
    "\n",
    "    bm, feats = crossval(X, y, pipe, get_feats, ite=10)\n",
    "\n",
    "    print_res(bm, model='Linear SVM ({})'.format(C))\n",
    "\n",
    "#fsrs = pd.DataFrame.from_dict({v: [np.mean(l), np.std(l), len(l)] for v, l in feats.items()},\n",
    "#                              columns=['mean', 'std', 'count'], orient='index').sort_index()\n",
    "#print(fsrs)\n",
    "\n",
    "#plot_res(feats)"
   ]
  },
  {
   "cell_type": "code",
   "execution_count": null,
   "metadata": {},
   "outputs": [],
   "source": []
  },
  {
   "cell_type": "code",
   "execution_count": 394,
   "metadata": {},
   "outputs": [
    {
     "data": {
      "image/png": "[encoded data removed]",
      "text/plain": [
       "<Figure size 1008x288 with 2 Axes>"
      ]
     },
     "metadata": {
      "needs_background": "light"
     },
     "output_type": "display_data"
    }
   ],
   "source": [
    "fig, axs = plt.subplots(1, 2, figsize=(14, 4))\n",
    "\n",
    "fsrs['count'].apply(lambda v: v/4000).plot(kind='bar', ax=axs[0]);\n",
    "axs[0].set_ylabel('Percent of Models w/ Feature')\n",
    "fsrs['mean'].plot(kind='bar', yerr=fsrs['std'], ax=axs[1])\n",
    "axs[1].set_ylabel('Avg Model Weight')\n",
    "\n",
    "sns.despine()"
   ]
  },
  {
   "cell_type": "code",
   "execution_count": null,
   "metadata": {},
   "outputs": [],
   "source": []
  },
  {
   "cell_type": "code",
   "execution_count": null,
   "metadata": {},
   "outputs": [],
   "source": []
  },
  {
   "cell_type": "code",
   "execution_count": 112,
   "metadata": {},
   "outputs": [
    {
     "name": "stdout",
     "output_type": "stream",
     "text": [
      "logit\n",
      "------------------------\n",
      "Recall       : 0.870\n",
      "Precision    : 0.833\n",
      "Accuracy     : 0.829\n",
      "Bal. Accuracy: 0.824\n",
      "ROC AUC.     : 0.790\n",
      "\n"
     ]
    }
   ],
   "source": [
    "X, y = load_data()\n",
    "X = pd.DataFrame(PCA().fit_transform(X))\n",
    "\n",
    "preds = list()\n",
    "probs = list()\n",
    "model = 'logit'\n",
    "\n",
    "for train_idx, test_idx in LeaveOneOut().split(X):\n",
    "\n",
    "    pipe = Pipeline([('rf_select', SelectFromModel(RandomForestClassifier(n_estimators=200), max_features=10)), \n",
    "                     ('clf', LogisticRegression(C=1, penalty='l1', class_weight='balanced', solver='liblinear',\n",
    "                                                    max_iter=5000, tol=1e-6))])\n",
    "    pipe.fit(X.iloc[train_idx], y.iloc[train_idx])\n",
    "    pred = pipe.predict(X.iloc[test_idx])[0]\n",
    "    proba = pipe.predict_proba(X.iloc[test_idx])[0][1]\n",
    "    preds.append(pred)\n",
    "    probs.append(proba)\n",
    "\n",
    "bm = pd.DataFrame(list(zip(preds, probs, y.values.tolist())), columns=['pred', 'proba', 'actual'])\n",
    "\n",
    "rs = recall_score(bm['actual'], bm['pred'])\n",
    "ps = precision_score(bm['actual'], bm['pred'])\n",
    "acc = accuracy_score(bm['actual'], bm['pred'])\n",
    "bacc = balanced_accuracy_score(bm['actual'], bm['pred'])\n",
    "roc = roc_auc_score(bm['actual'], bm['proba'])\n",
    "\n",
    "print(model)\n",
    "print('------------------------')\n",
    "print('Recall       : {:1.3f}'.format(rs))\n",
    "print('Precision    : {:1.3f}'.format(ps))\n",
    "print('Accuracy     : {:1.3f}'.format(acc))\n",
    "print('Bal. Accuracy: {:1.3f}'.format(bacc))\n",
    "print('ROC AUC.     : {:1.3f}\\n'.format(roc))"
   ]
  },
  {
   "cell_type": "code",
   "execution_count": 158,
   "metadata": {},
   "outputs": [
    {
     "name": "stdout",
     "output_type": "stream",
     "text": [
      "logit\n",
      "------------------------\n",
      "Recall       : 0.826\n",
      "Precision    : 0.792\n",
      "Accuracy     : 0.780\n",
      "Bal. Accuracy: 0.774\n",
      "ROC AUC.     : 0.761\n",
      "\n"
     ]
    },
    {
     "data": {
      "text/plain": [
       "array([[ 0.04291451,  0.13707589, -0.51387542,  0.19409212,  0.        ,\n",
       "        -0.76522394,  0.        ,  0.        ,  0.        ,  0.        ,\n",
       "         0.        ,  0.        ,  0.        ,  0.        ,  0.        ,\n",
       "         0.        ,  0.        ,  0.        ,  0.        ,  0.        ,\n",
       "         0.        ,  0.        ,  0.        ,  0.        ,  0.        ,\n",
       "         0.        ,  0.        ,  0.        ,  0.        ,  0.        ,\n",
       "         0.        ,  0.        ,  0.        ,  0.        ,  0.        ,\n",
       "         0.        ]])"
      ]
     },
     "execution_count": 158,
     "metadata": {},
     "output_type": "execute_result"
    }
   ],
   "source": [
    "X, y = load_data()\n",
    "X = pd.DataFrame(PCA().fit_transform(X))\n",
    "\n",
    "preds = list()\n",
    "probs = list()\n",
    "model = 'logit'\n",
    "for train_idx, test_idx in LeaveOneOut().split(X):\n",
    "\n",
    "    pipe = Pipeline([('clf', LogisticRegression(C=0.50, penalty='l1', class_weight='balanced', solver='liblinear',\n",
    "                                                    max_iter=5000, tol=1e-6))])\n",
    "    pipe.fit(X.iloc[train_idx], y.iloc[train_idx])\n",
    "    pred = pipe.predict(X.iloc[test_idx])[0]\n",
    "    proba = pipe.predict_proba(X.iloc[test_idx])[0][1]\n",
    "    preds.append(pred)\n",
    "    probs.append(proba)\n",
    "\n",
    "bm = pd.DataFrame(list(zip(preds, probs, y.values.tolist())), columns=['pred', 'proba', 'actual'])\n",
    "\n",
    "rs = recall_score(bm['actual'], bm['pred'])\n",
    "ps = precision_score(bm['actual'], bm['pred'])\n",
    "acc = accuracy_score(bm['actual'], bm['pred'])\n",
    "bacc = balanced_accuracy_score(bm['actual'], bm['pred'])\n",
    "roc = roc_auc_score(bm['actual'], bm['proba'])\n",
    "\n",
    "print(model)\n",
    "print('------------------------')\n",
    "print('Recall       : {:1.3f}'.format(rs))\n",
    "print('Precision    : {:1.3f}'.format(ps))\n",
    "print('Accuracy     : {:1.3f}'.format(acc))\n",
    "print('Bal. Accuracy: {:1.3f}'.format(bacc))\n",
    "print('ROC AUC.     : {:1.3f}\\n'.format(roc))\n",
    "\n",
    "pipe.steps[0][1].coef_"
   ]
  },
  {
   "cell_type": "code",
   "execution_count": 164,
   "metadata": {},
   "outputs": [
    {
     "name": "stdout",
     "output_type": "stream",
     "text": [
      "logit\n",
      "------------------------\n",
      "Recall       : 0.826\n",
      "Precision    : 0.792\n",
      "Accuracy     : 0.780\n",
      "Bal. Accuracy: 0.774\n",
      "ROC AUC.     : 0.758\n",
      "\n"
     ]
    }
   ],
   "source": [
    "X, y = load_data()\n",
    "\n",
    "preds = list()\n",
    "probs = list()\n",
    "model = 'logit'\n",
    "\n",
    "for train_idx, test_idx in LeaveOneOut().split(X):\n",
    "\n",
    "    pipe = Pipeline([('pca', PCA(n_components=10)), \n",
    "                     ('clf', LogisticRegression(C=0.5, penalty='l1', class_weight='balanced', solver='liblinear',\n",
    "                                                    max_iter=5000, tol=1e-6))])\n",
    "    pipe.fit(X.iloc[train_idx], y.iloc[train_idx])\n",
    "    pred = pipe.predict(X.iloc[test_idx])[0]\n",
    "    proba = pipe.predict_proba(X.iloc[test_idx])[0][1]\n",
    "    preds.append(pred)\n",
    "    probs.append(proba)\n",
    "\n",
    "bm = pd.DataFrame(list(zip(preds, probs, y.values.tolist())), columns=['pred', 'proba', 'actual'])\n",
    "\n",
    "rs = recall_score(bm['actual'], bm['pred'])\n",
    "ps = precision_score(bm['actual'], bm['pred'])\n",
    "acc = accuracy_score(bm['actual'], bm['pred'])\n",
    "bacc = balanced_accuracy_score(bm['actual'], bm['pred'])\n",
    "roc = roc_auc_score(bm['actual'], bm['proba'])\n",
    "\n",
    "print(model)\n",
    "print('------------------------')\n",
    "print('Recall       : {:1.3f}'.format(rs))\n",
    "print('Precision    : {:1.3f}'.format(ps))\n",
    "print('Accuracy     : {:1.3f}'.format(acc))\n",
    "print('Bal. Accuracy: {:1.3f}'.format(bacc))\n",
    "print('ROC AUC.     : {:1.3f}\\n'.format(roc))"
   ]
  },
  {
   "cell_type": "code",
   "execution_count": 170,
   "metadata": {},
   "outputs": [
    {
     "name": "stdout",
     "output_type": "stream",
     "text": [
      "logit\n",
      "------------------------\n",
      "Recall       : 0.826\n",
      "Precision    : 0.792\n",
      "Accuracy     : 0.780\n",
      "Bal. Accuracy: 0.774\n",
      "ROC AUC.     : 0.761\n",
      "\n"
     ]
    }
   ],
   "source": [
    "X, y = load_data()\n",
    "X = pd.DataFrame(PCA(n_components=10).fit_transform(X))\n",
    "\n",
    "preds = list()\n",
    "probs = list()\n",
    "model = 'logit'\n",
    "for train_idx, test_idx in LeaveOneOut().split(X):\n",
    "\n",
    "    pipe = Pipeline([('clf', LogisticRegression(C=0.5, penalty='l1', class_weight='balanced', solver='liblinear',\n",
    "                                                    max_iter=5000, tol=1e-6))])\n",
    "    pipe.fit(X.iloc[train_idx], y.iloc[train_idx])\n",
    "    pred = pipe.predict(X.iloc[test_idx])[0]\n",
    "    proba = pipe.predict_proba(X.iloc[test_idx])[0][1]\n",
    "    preds.append(pred)\n",
    "    probs.append(proba)\n",
    "\n",
    "bm = pd.DataFrame(list(zip(preds, probs, y.values.tolist())), columns=['pred', 'proba', 'actual'])\n",
    "\n",
    "rs = recall_score(bm['actual'], bm['pred'])\n",
    "ps = precision_score(bm['actual'], bm['pred'])\n",
    "acc = accuracy_score(bm['actual'], bm['pred'])\n",
    "bacc = balanced_accuracy_score(bm['actual'], bm['pred'])\n",
    "roc = roc_auc_score(bm['actual'], bm['proba'])\n",
    "\n",
    "print(model)\n",
    "print('------------------------')\n",
    "print('Recall       : {:1.3f}'.format(rs))\n",
    "print('Precision    : {:1.3f}'.format(ps))\n",
    "print('Accuracy     : {:1.3f}'.format(acc))\n",
    "print('Bal. Accuracy: {:1.3f}'.format(bacc))\n",
    "print('ROC AUC.     : {:1.3f}\\n'.format(roc))"
   ]
  },
  {
   "cell_type": "code",
   "execution_count": null,
   "metadata": {},
   "outputs": [],
   "source": []
  },
  {
   "cell_type": "markdown",
   "metadata": {},
   "source": [
    "1. pca10, np.nan: 0.752\n",
    "2. pca10, no nan: 0.824\n",
    "2. pca, np.nan: 0.824\n",
    "3. pca, no nan: 0.824"
   ]
  },
  {
   "cell_type": "code",
   "execution_count": 199,
   "metadata": {},
   "outputs": [
    {
     "name": "stdout",
     "output_type": "stream",
     "text": [
      "logit\n",
      "------------------------\n",
      "Recall       : 0.870\n",
      "Precision    : 0.800\n",
      "Accuracy     : 0.805\n",
      "Bal. Accuracy: 0.796\n",
      "ROC AUC.     : 0.771\n",
      "\n"
     ]
    }
   ],
   "source": [
    "X, y = load_data()\n",
    "X = pd.DataFrame(PCA().fit_transform(X))\n",
    "\n",
    "preds = list()\n",
    "probs = list()\n",
    "model = 'logit'\n",
    "for train_idx, test_idx in LeaveOneOut().split(X):\n",
    "\n",
    "    pipe = Pipeline([('rf_select', SelectFromModel(RandomForestClassifier(n_estimators=200), max_features=5)), \n",
    "                     ('clf', LogisticRegression(C=1, penalty='l1', class_weight='balanced', solver='liblinear',\n",
    "                                                    max_iter=5000, tol=1e-6))])\n",
    "    pipe.fit(X.iloc[train_idx], y.iloc[train_idx])\n",
    "    pred = pipe.predict(X.iloc[test_idx])[0]\n",
    "    proba = pipe.predict_proba(X.iloc[test_idx])[0][1]\n",
    "    preds.append(pred)\n",
    "    probs.append(proba)\n",
    "\n",
    "bm = pd.DataFrame(list(zip(preds, probs, y.values.tolist())), columns=['pred', 'proba', 'actual'])\n",
    "\n",
    "rs = recall_score(bm['actual'], bm['pred'])\n",
    "ps = precision_score(bm['actual'], bm['pred'])\n",
    "acc = accuracy_score(bm['actual'], bm['pred'])\n",
    "bacc = balanced_accuracy_score(bm['actual'], bm['pred'])\n",
    "roc = roc_auc_score(bm['actual'], bm['proba'])\n",
    "\n",
    "print(model)\n",
    "print('------------------------')\n",
    "print('Recall       : {:1.3f}'.format(rs))\n",
    "print('Precision    : {:1.3f}'.format(ps))\n",
    "print('Accuracy     : {:1.3f}'.format(acc))\n",
    "print('Bal. Accuracy: {:1.3f}'.format(bacc))\n",
    "print('ROC AUC.     : {:1.3f}\\n'.format(roc))"
   ]
  },
  {
   "cell_type": "code",
   "execution_count": null,
   "metadata": {},
   "outputs": [],
   "source": []
  },
  {
   "cell_type": "code",
   "execution_count": 233,
   "metadata": {},
   "outputs": [],
   "source": [
    "LeaveOneOut.split?"
   ]
  },
  {
   "cell_type": "code",
   "execution_count": 239,
   "metadata": {},
   "outputs": [
    {
     "name": "stdout",
     "output_type": "stream",
     "text": [
      "logit\n",
      "------------------------\n",
      "Recall       : 0.826\n",
      "Precision    : 0.760\n",
      "Accuracy     : 0.756\n",
      "Bal. Accuracy: 0.746\n",
      "ROC AUC.     : 0.725\n",
      "\n"
     ]
    },
    {
     "data": {
      "text/plain": [
       "array([[ 0.24460432, -0.49228463,  0.        , -0.75391973,  0.        ,\n",
       "         0.        ,  0.        ,  0.        ,  0.        ,  0.        ]])"
      ]
     },
     "execution_count": 239,
     "metadata": {},
     "output_type": "execute_result"
    }
   ],
   "source": [
    "X, y = load_data(zscore=False)\n",
    "\n",
    "preds = list()\n",
    "probs = list()\n",
    "model = 'logit'\n",
    "indices = list()\n",
    "\n",
    "for train_idx, test_idx in LeaveOneOut().split(X):\n",
    "    indices.append(test_idx)\n",
    "\n",
    "    pipe = Pipeline([('zscore', StandardScaler()),\n",
    "                     ('pca', PCA()),\n",
    "                     ('rf_select', SelectFromModel(RandomForestClassifier(n_estimators=200), max_features=10)),\n",
    "                     ('clf', LogisticRegression(C=0.5, penalty='l1', class_weight='balanced', solver='liblinear',\n",
    "                                                    max_iter=5000, tol=1e-6))])\n",
    "    pipe.fit(X.iloc[train_idx], y.iloc[train_idx])\n",
    "    pred = pipe.predict(X.iloc[test_idx])[0]\n",
    "    proba = pipe.predict_proba(X.iloc[test_idx])[0][1]\n",
    "    preds.append(pred)\n",
    "    probs.append(proba)\n",
    "\n",
    "bm = pd.DataFrame(list(zip(preds, probs, y.values.tolist())), columns=['pred', 'proba', 'actual'])\n",
    "\n",
    "rs = recall_score(bm['actual'], bm['pred'])\n",
    "ps = precision_score(bm['actual'], bm['pred'])\n",
    "acc = accuracy_score(bm['actual'], bm['pred'])\n",
    "bacc = balanced_accuracy_score(bm['actual'], bm['pred'])\n",
    "roc = roc_auc_score(bm['actual'], bm['proba'])\n",
    "\n",
    "print(model)\n",
    "print('------------------------')\n",
    "print('Recall       : {:1.3f}'.format(rs))\n",
    "print('Precision    : {:1.3f}'.format(ps))\n",
    "print('Accuracy     : {:1.3f}'.format(acc))\n",
    "print('Bal. Accuracy: {:1.3f}'.format(bacc))\n",
    "print('ROC AUC.     : {:1.3f}\\n'.format(roc))\n",
    "\n",
    "pipe.steps[3][1].coef_"
   ]
  },
  {
   "cell_type": "code",
   "execution_count": null,
   "metadata": {},
   "outputs": [],
   "source": []
  },
  {
   "cell_type": "code",
   "execution_count": 92,
   "metadata": {},
   "outputs": [
    {
     "name": "stdout",
     "output_type": "stream",
     "text": [
      "   est__C  mean_train_score  mean_test_score\n",
      "0    0.10          0.713345         0.658537\n",
      "1    0.15          0.736508         0.634146\n",
      "2    0.20          0.742619         0.634146\n",
      "3    0.25          0.735711         0.658537\n",
      "4    0.50          0.796050         0.756098\n",
      "5    1.00          0.805452         0.780488\n",
      "6    1.50          0.803220         0.780488\n",
      "7    2.00          0.801865         0.756098\n",
      "\n",
      "pca\n",
      "----------\n",
      "PCA(copy=True, iterated_power='auto', n_components=None, random_state=None,\n",
      "    svd_solver='auto', tol=0.0, whiten=False)\n",
      "\n",
      "est\n",
      "----------\n",
      "LogisticRegression(C=1.0, class_weight='balanced', dual=False,\n",
      "                   fit_intercept=True, intercept_scaling=1, l1_ratio=None,\n",
      "                   max_iter=100, multi_class='auto', n_jobs=None, penalty='l1',\n",
      "                   random_state=None, solver='saga', tol=0.0001, verbose=0,\n",
      "                   warm_start=False)\n",
      "\n"
     ]
    },
    {
     "data": {
      "image/png": "[encoded data removed]",
      "text/plain": [
       "<Figure size 864x432 with 1 Axes>"
      ]
     },
     "metadata": {
      "needs_background": "light"
     },
     "output_type": "display_data"
    }
   ],
   "source": [
    "metrics = 'balanced_accuracy'\n",
    "params = {'C':[0.1, 0.15, 0.2, 0.25, 0.5, 1.0, 1.5, 2.0],\n",
    "          'class_weight': ['balanced'],\n",
    "          'penalty': ['l1'],\n",
    "          'solver': ['saga'],\n",
    "          'max_iter': [100]}\n",
    "\n",
    "logit = Logit(params, metrics, pca=True)\n",
    "logit.fit(X, y)\n",
    "logit.quick_results()\n",
    "\n",
    "fig, ax = plt.subplots(figsize=(12, 6))\n",
    "\n",
    "feats = logit.feat_importances()\n",
    "\n",
    "feats.plot(kind='bar', ax=ax)\n",
    "\n",
    "sns.despine();"
   ]
  },
  {
   "cell_type": "code",
   "execution_count": 59,
   "metadata": {},
   "outputs": [
    {
     "name": "stdout",
     "output_type": "stream",
     "text": [
      "      C  mean_train_score  mean_test_score\n",
      "0  0.10          0.707255         0.682927\n",
      "1  0.15          0.738724         0.634146\n",
      "2  0.20          0.744101         0.634146\n",
      "3  0.25          0.738664         0.658537\n",
      "4  0.50          0.796285         0.756098\n",
      "5  1.00          0.811298         0.780488\n",
      "6  1.50          0.806914         0.780488\n",
      "7  2.00          0.804615         0.756098\n",
      "\n",
      "est\n",
      "----------\n",
      "LogisticRegression(C=1.0, class_weight='balanced', dual=False,\n",
      "                   fit_intercept=True, intercept_scaling=1, l1_ratio=None,\n",
      "                   max_iter=100, multi_class='auto', n_jobs=None, penalty='l1',\n",
      "                   random_state=None, solver='saga', tol=0.0001, verbose=0,\n",
      "                   warm_start=False)\n",
      "\n"
     ]
    },
    {
     "data": {
      "image/png": "[encoded data removed]",
      "text/plain": [
       "<Figure size 864x432 with 1 Axes>"
      ]
     },
     "metadata": {
      "needs_background": "light"
     },
     "output_type": "display_data"
    }
   ],
   "source": [
    "metrics = 'balanced_accuracy'\n",
    "params = {'C':[0.1, 0.15, 0.2, 0.25, 0.5, 1.0, 1.5, 2.0],\n",
    "          'class_weight': ['balanced'],\n",
    "          'penalty': ['l1'],\n",
    "          'solver': ['saga'],\n",
    "          'max_iter': [100]}\n",
    "\n",
    "logit = Logit(params, metrics, pca=False)\n",
    "logit.fit(Xpca, y)\n",
    "logit.quick_results()\n",
    "\n",
    "fig, ax = plt.subplots(figsize=(12, 6))\n",
    "\n",
    "feats = logit.feat_importances()\n",
    "\n",
    "feats.plot(kind='bar', ax=ax)\n",
    "\n",
    "sns.despine();"
   ]
  },
  {
   "cell_type": "code",
   "execution_count": 57,
   "metadata": {},
   "outputs": [
    {
     "name": "stdout",
     "output_type": "stream",
     "text": [
      "   mean_train_score  mean_test_score\n",
      "0          0.720859         0.682927\n",
      "\n",
      "est\n",
      "----------\n",
      "LogisticRegression(C=0.15, class_weight='balanced', dual=False,\n",
      "                   fit_intercept=True, intercept_scaling=1, l1_ratio=None,\n",
      "                   max_iter=100, multi_class='auto', n_jobs=None, penalty='l1',\n",
      "                   random_state=None, solver='saga', tol=0.0001, verbose=0,\n",
      "                   warm_start=False)\n",
      "\n"
     ]
    },
    {
     "data": {
      "image/png": "[encoded data removed]",
      "text/plain": [
       "<Figure size 864x432 with 1 Axes>"
      ]
     },
     "metadata": {
      "needs_background": "light"
     },
     "output_type": "display_data"
    }
   ],
   "source": [
    "metrics = 'balanced_accuracy'\n",
    "params = {'C': [0.15],\n",
    "          'class_weight': ['balanced'],\n",
    "          'penalty': ['l1'],\n",
    "          'solver': ['saga'],\n",
    "          'max_iter': [100]}\n",
    "\n",
    "logit = Logit(params, metrics, pca=False)\n",
    "logit.fit(X, y)\n",
    "logit.quick_results()\n",
    "\n",
    "fig, ax = plt.subplots(figsize=(12, 6))\n",
    "\n",
    "feats = logit.feat_importances()\n",
    "\n",
    "feats.plot(kind='bar', ax=ax)\n",
    "\n",
    "sns.despine();"
   ]
  },
  {
   "cell_type": "code",
   "execution_count": 76,
   "metadata": {},
   "outputs": [
    {
     "name": "stdout",
     "output_type": "stream",
     "text": [
      "   mean_train_score  mean_test_score\n",
      "0          0.743174         0.634146\n",
      "\n",
      "pca\n",
      "----------\n",
      "PCA(copy=True, iterated_power='auto', n_components=None, random_state=None,\n",
      "  svd_solver='auto', tol=0.0, whiten=False)\n",
      "\n",
      "est\n",
      "----------\n",
      "LogisticRegression(C=0.2, class_weight='balanced', dual=False,\n",
      "          fit_intercept=True, intercept_scaling=1, max_iter=100,\n",
      "          multi_class='warn', n_jobs=None, penalty='l1', random_state=None,\n",
      "          solver='saga', tol=0.0001, verbose=0, warm_start=False)\n",
      "\n"
     ]
    },
    {
     "data": {
      "image/png": "[encoded data removed]",
      "text/plain": [
       "<Figure size 864x432 with 1 Axes>"
      ]
     },
     "metadata": {
      "needs_background": "light"
     },
     "output_type": "display_data"
    }
   ],
   "source": [
    "metrics = 'balanced_accuracy'\n",
    "params = {'C': [0.2],# np.arange(0.5, 1.01, 0.1),\n",
    "          'class_weight': ['balanced'],\n",
    "          'penalty': ['l1'],\n",
    "          'solver': ['saga'],\n",
    "          'max_iter': [100]}\n",
    "\n",
    "logit = Logit(params, metrics, pca=True)\n",
    "logit.fit(X, y)\n",
    "logit.quick_results()\n",
    "\n",
    "fig, ax = plt.subplots(figsize=(12, 6))\n",
    "\n",
    "feats = logit.feat_importances()\n",
    "\n",
    "feats.plot(kind='bar', ax=ax)\n",
    "\n",
    "sns.despine();"
   ]
  },
  {
   "cell_type": "code",
   "execution_count": 77,
   "metadata": {},
   "outputs": [
    {
     "name": "stdout",
     "output_type": "stream",
     "text": [
      "   mean_train_score  mean_test_score\n",
      "0          0.736429         0.658537\n",
      "\n",
      "pca\n",
      "----------\n",
      "PCA(copy=True, iterated_power='auto', n_components=None, random_state=None,\n",
      "  svd_solver='auto', tol=0.0, whiten=False)\n",
      "\n",
      "est\n",
      "----------\n",
      "LogisticRegression(C=0.25, class_weight='balanced', dual=False,\n",
      "          fit_intercept=True, intercept_scaling=1, max_iter=100,\n",
      "          multi_class='warn', n_jobs=None, penalty='l1', random_state=None,\n",
      "          solver='saga', tol=0.0001, verbose=0, warm_start=False)\n",
      "\n"
     ]
    },
    {
     "data": {
      "image/png": "[encoded data removed]",
      "text/plain": [
       "<Figure size 864x432 with 1 Axes>"
      ]
     },
     "metadata": {
      "needs_background": "light"
     },
     "output_type": "display_data"
    }
   ],
   "source": [
    "metrics = 'balanced_accuracy'\n",
    "params = {'C': [0.25],# np.arange(0.5, 1.01, 0.1),\n",
    "          'class_weight': ['balanced'],\n",
    "          'penalty': ['l1'],\n",
    "          'solver': ['saga'],\n",
    "          'max_iter': [100]}\n",
    "\n",
    "logit = Logit(params, metrics, pca=True)\n",
    "logit.fit(X, y)\n",
    "logit.quick_results()\n",
    "\n",
    "fig, ax = plt.subplots(figsize=(12, 6))\n",
    "\n",
    "feats = logit.feat_importances()\n",
    "\n",
    "feats.plot(kind='bar', ax=ax)\n",
    "\n",
    "sns.despine();"
   ]
  },
  {
   "cell_type": "code",
   "execution_count": 78,
   "metadata": {},
   "outputs": [
    {
     "name": "stdout",
     "output_type": "stream",
     "text": [
      "   mean_train_score  mean_test_score\n",
      "0          0.799409         0.756098\n",
      "\n",
      "pca\n",
      "----------\n",
      "PCA(copy=True, iterated_power='auto', n_components=None, random_state=None,\n",
      "  svd_solver='auto', tol=0.0, whiten=False)\n",
      "\n",
      "est\n",
      "----------\n",
      "LogisticRegression(C=0.5, class_weight='balanced', dual=False,\n",
      "          fit_intercept=True, intercept_scaling=1, max_iter=100,\n",
      "          multi_class='warn', n_jobs=None, penalty='l1', random_state=None,\n",
      "          solver='saga', tol=0.0001, verbose=0, warm_start=False)\n",
      "\n"
     ]
    },
    {
     "data": {
      "image/png": "[encoded data removed]",
      "text/plain": [
       "<Figure size 864x432 with 1 Axes>"
      ]
     },
     "metadata": {
      "needs_background": "light"
     },
     "output_type": "display_data"
    }
   ],
   "source": [
    "metrics = 'balanced_accuracy'\n",
    "params = {'C': [0.5],# np.arange(0.5, 1.01, 0.1),\n",
    "          'class_weight': ['balanced'],\n",
    "          'penalty': ['l1'],\n",
    "          'solver': ['saga'],\n",
    "          'max_iter': [100]}\n",
    "\n",
    "logit = Logit(params, metrics, pca=True)\n",
    "logit.fit(X, y)\n",
    "logit.quick_results()\n",
    "\n",
    "fig, ax = plt.subplots(figsize=(12, 6))\n",
    "\n",
    "feats = logit.feat_importances()\n",
    "\n",
    "feats.plot(kind='bar', ax=ax)\n",
    "\n",
    "sns.despine();"
   ]
  },
  {
   "cell_type": "code",
   "execution_count": 79,
   "metadata": {},
   "outputs": [
    {
     "name": "stdout",
     "output_type": "stream",
     "text": [
      "   mean_train_score  mean_test_score\n",
      "0          0.819241         0.780488\n",
      "\n",
      "pca\n",
      "----------\n",
      "PCA(copy=True, iterated_power='auto', n_components=None, random_state=None,\n",
      "  svd_solver='auto', tol=0.0, whiten=False)\n",
      "\n",
      "est\n",
      "----------\n",
      "LogisticRegression(C=1, class_weight='balanced', dual=False,\n",
      "          fit_intercept=True, intercept_scaling=1, max_iter=100,\n",
      "          multi_class='warn', n_jobs=None, penalty='l1', random_state=None,\n",
      "          solver='saga', tol=0.0001, verbose=0, warm_start=False)\n",
      "\n"
     ]
    },
    {
     "data": {
      "image/png": "[encoded data removed]",
      "text/plain": [
       "<Figure size 864x432 with 1 Axes>"
      ]
     },
     "metadata": {
      "needs_background": "light"
     },
     "output_type": "display_data"
    }
   ],
   "source": [
    "metrics = 'balanced_accuracy'\n",
    "params = {'C': [1],# np.arange(0.5, 1.01, 0.1),\n",
    "          'class_weight': ['balanced'],\n",
    "          'penalty': ['l1'],\n",
    "          'solver': ['saga'],\n",
    "          'max_iter': [100]}\n",
    "\n",
    "logit = Logit(params, metrics, pca=True)\n",
    "logit.fit(X, y)\n",
    "logit.quick_results()\n",
    "\n",
    "fig, ax = plt.subplots(figsize=(12, 6))\n",
    "\n",
    "feats = logit.feat_importances()\n",
    "\n",
    "feats.plot(kind='bar', ax=ax)\n",
    "\n",
    "sns.despine();"
   ]
  },
  {
   "cell_type": "code",
   "execution_count": 80,
   "metadata": {},
   "outputs": [
    {
     "name": "stdout",
     "output_type": "stream",
     "text": [
      "   mean_train_score  mean_test_score\n",
      "0          0.813051         0.756098\n",
      "\n",
      "pca\n",
      "----------\n",
      "PCA(copy=True, iterated_power='auto', n_components=None, random_state=None,\n",
      "  svd_solver='auto', tol=0.0, whiten=False)\n",
      "\n",
      "est\n",
      "----------\n",
      "LogisticRegression(C=1.5, class_weight='balanced', dual=False,\n",
      "          fit_intercept=True, intercept_scaling=1, max_iter=100,\n",
      "          multi_class='warn', n_jobs=None, penalty='l1', random_state=None,\n",
      "          solver='saga', tol=0.0001, verbose=0, warm_start=False)\n",
      "\n"
     ]
    },
    {
     "data": {
      "image/png": "[encoded data removed]",
      "text/plain": [
       "<Figure size 864x432 with 1 Axes>"
      ]
     },
     "metadata": {
      "needs_background": "light"
     },
     "output_type": "display_data"
    }
   ],
   "source": [
    "metrics = 'balanced_accuracy'\n",
    "params = {'C': [1.5],# np.arange(0.5, 1.01, 0.1),\n",
    "          'class_weight': ['balanced'],\n",
    "          'penalty': ['l1'],\n",
    "          'solver': ['saga'],\n",
    "          'max_iter': [100]}\n",
    "\n",
    "logit = Logit(params, metrics, pca=True)\n",
    "logit.fit(X, y)\n",
    "logit.quick_results()\n",
    "\n",
    "fig, ax = plt.subplots(figsize=(12, 6))\n",
    "\n",
    "feats = logit.feat_importances()\n",
    "\n",
    "feats.plot(kind='bar', ax=ax)\n",
    "\n",
    "sns.despine();"
   ]
  },
  {
   "cell_type": "code",
   "execution_count": 81,
   "metadata": {},
   "outputs": [
    {
     "name": "stdout",
     "output_type": "stream",
     "text": [
      "   mean_train_score  mean_test_score\n",
      "0          0.813254         0.756098\n",
      "\n",
      "pca\n",
      "----------\n",
      "PCA(copy=True, iterated_power='auto', n_components=None, random_state=None,\n",
      "  svd_solver='auto', tol=0.0, whiten=False)\n",
      "\n",
      "est\n",
      "----------\n",
      "LogisticRegression(C=2, class_weight='balanced', dual=False,\n",
      "          fit_intercept=True, intercept_scaling=1, max_iter=100,\n",
      "          multi_class='warn', n_jobs=None, penalty='l1', random_state=None,\n",
      "          solver='saga', tol=0.0001, verbose=0, warm_start=False)\n",
      "\n"
     ]
    },
    {
     "data": {
      "image/png": "[encoded data removed]",
      "text/plain": [
       "<Figure size 864x432 with 1 Axes>"
      ]
     },
     "metadata": {
      "needs_background": "light"
     },
     "output_type": "display_data"
    }
   ],
   "source": [
    "metrics = 'balanced_accuracy'\n",
    "params = {'C': [2],# np.arange(0.5, 1.01, 0.1),\n",
    "          'class_weight': ['balanced'],\n",
    "          'penalty': ['l1'],\n",
    "          'solver': ['saga'],\n",
    "          'max_iter': [100]}\n",
    "\n",
    "logit = Logit(params, metrics, pca=True)\n",
    "logit.fit(X, y)\n",
    "logit.quick_results()\n",
    "\n",
    "fig, ax = plt.subplots(figsize=(12, 6))\n",
    "\n",
    "feats = logit.feat_importances()\n",
    "\n",
    "feats.plot(kind='bar', ax=ax)\n",
    "\n",
    "sns.despine();"
   ]
  },
  {
   "cell_type": "code",
   "execution_count": 82,
   "metadata": {},
   "outputs": [],
   "source": [
    "res = pd.DataFrame(\n",
    "    {'C': [0.15, 0.2, 0.25, 0.5, 1.0, 1.5, 2.0],\n",
    "     'n_feats': [3, 4, 4, 5, 5, 5, 9],\n",
    "     'bac': [0.634146, 0.634146, 0.658537, 0.756098, 0.780488, 0.756098, 0.756098]}\n",
    ")"
   ]
  },
  {
   "cell_type": "code",
   "execution_count": 102,
   "metadata": {},
   "outputs": [
    {
     "data": {
      "image/png": "[encoded data removed]",
      "text/plain": [
       "<Figure size 864x576 with 1 Axes>"
      ]
     },
     "metadata": {
      "needs_background": "light"
     },
     "output_type": "display_data"
    }
   ],
   "source": [
    "fig, ax = plt.subplots(figsize=(12, 8))\n",
    "\n",
    "res.pivot(index='n_feats', columns='C', values='bac').plot(kind='bar', ax=ax);\n",
    "\n",
    "ax.set_xlabel('Number of Features')\n",
    "ax.set_ylabel('Accuracy (balanced)')\n",
    "ax.set_title('Logistic Regression with $L_1$')\n",
    "\n",
    "sns.despine()"
   ]
  },
  {
   "cell_type": "markdown",
   "metadata": {},
   "source": [
    "## ElasticNet"
   ]
  },
  {
   "cell_type": "code",
   "execution_count": 19,
   "metadata": {
    "scrolled": false
   },
   "outputs": [
    {
     "name": "stdout",
     "output_type": "stream",
     "text": [
      "    alpha  l1_ratio  mean_train_score  mean_test_score\n",
      "0     0.1      0.00          0.763150         0.682927\n",
      "1     0.1      0.25          0.723228         0.707317\n",
      "2     0.1      0.50          0.716646         0.682927\n",
      "3     0.1      0.75          0.719700         0.658537\n",
      "4     0.1      1.00          0.706342         0.658537\n",
      "5     0.3      0.00          0.732968         0.731707\n",
      "6     0.3      0.25          0.698530         0.658537\n",
      "7     0.3      0.50          0.685150         0.658537\n",
      "8     0.3      0.75          0.538506         0.560976\n",
      "9     0.3      1.00          0.506282         0.536585\n",
      "10    0.5      0.00          0.729259         0.634146\n",
      "11    0.5      0.25          0.679652         0.634146\n",
      "12    0.5      0.50          0.502072         0.560976\n",
      "13    0.5      0.75          0.500000         0.560976\n",
      "14    0.5      1.00          0.500000         0.560976\n",
      "15    1.0      0.00          0.723823         0.634146\n",
      "16    1.0      0.25          0.503795         0.463415\n",
      "17    1.0      0.50          0.500000         0.414634\n",
      "18    1.0      0.75          0.500000         0.463415\n",
      "19    1.0      1.00          0.500000         0.463415\n",
      "20    1.5      0.00          0.724321         0.609756\n",
      "21    1.5      0.25          0.500000         0.560976\n",
      "22    1.5      0.50          0.500000         0.463415\n",
      "23    1.5      0.75          0.500000         0.463415\n",
      "24    1.5      1.00          0.500000         0.512195\n",
      "25    2.0      0.00          0.718734         0.609756\n",
      "26    2.0      0.25          0.500000         0.487805\n",
      "27    2.0      0.50          0.500000         0.487805\n",
      "28    2.0      0.75          0.500000         0.512195\n",
      "29    2.0      1.00          0.500000         0.487805\n",
      "\n",
      "est\n",
      "----------\n",
      "SGDClassifier(alpha=0.3, average=False, class_weight=None, early_stopping=False,\n",
      "              epsilon=0.1, eta0=0.0, fit_intercept=True, l1_ratio=0,\n",
      "              learning_rate='optimal', loss='log', max_iter=100,\n",
      "              n_iter_no_change=5, n_jobs=None, penalty='elasticnet',\n",
      "              power_t=0.5, random_state=None, shuffle=True, tol=0.001,\n",
      "              validation_fraction=0.1, verbose=0, warm_start=False)\n",
      "\n"
     ]
    },
    {
     "data": {
      "image/png": "[encoded data removed]",
      "text/plain": [
       "<Figure size 864x432 with 1 Axes>"
      ]
     },
     "metadata": {
      "needs_background": "light"
     },
     "output_type": "display_data"
    }
   ],
   "source": [
    "metrics = 'balanced_accuracy'\n",
    "params = {'alpha':[0.1, 0.3, 0.5, 1.0, 1.5, 2.0],\n",
    "          'l1_ratio': [0, 0.25, 0.5, 0.75, 1],\n",
    "          'penalty': ['elasticnet'],\n",
    "          'loss': ['log'],\n",
    "          'max_iter': [100]}\n",
    "\n",
    "sgd = SGDC(params, metrics)\n",
    "sgd.fit(X, y)\n",
    "res = sgd.quick_results(df=True)\n",
    "\n",
    "\n",
    "fig, ax = plt.subplots(figsize=(12, 6))\n",
    "\n",
    "feats = sgd.feat_importances()\n",
    "\n",
    "feats.plot(kind='bar', ax=ax)\n",
    "\n",
    "sns.despine();"
   ]
  },
  {
   "cell_type": "code",
   "execution_count": 22,
   "metadata": {},
   "outputs": [
    {
     "data": {
      "text/html": [
       "<div>\n",
       "<style scoped>\n",
       "    .dataframe tbody tr th:only-of-type {\n",
       "        vertical-align: middle;\n",
       "    }\n",
       "\n",
       "    .dataframe tbody tr th {\n",
       "        vertical-align: top;\n",
       "    }\n",
       "\n",
       "    .dataframe thead th {\n",
       "        text-align: right;\n",
       "    }\n",
       "</style>\n",
       "<table border=\"1\" class=\"dataframe\">\n",
       "  <thead>\n",
       "    <tr style=\"text-align: right;\">\n",
       "      <th></th>\n",
       "      <th>alpha</th>\n",
       "      <th>l1_ratio</th>\n",
       "      <th>mean_train_score</th>\n",
       "      <th>mean_test_score</th>\n",
       "    </tr>\n",
       "  </thead>\n",
       "  <tbody>\n",
       "    <tr>\n",
       "      <th>5</th>\n",
       "      <td>0.3</td>\n",
       "      <td>0.00</td>\n",
       "      <td>0.732968</td>\n",
       "      <td>0.731707</td>\n",
       "    </tr>\n",
       "    <tr>\n",
       "      <th>1</th>\n",
       "      <td>0.1</td>\n",
       "      <td>0.25</td>\n",
       "      <td>0.723228</td>\n",
       "      <td>0.707317</td>\n",
       "    </tr>\n",
       "    <tr>\n",
       "      <th>0</th>\n",
       "      <td>0.1</td>\n",
       "      <td>0.00</td>\n",
       "      <td>0.763150</td>\n",
       "      <td>0.682927</td>\n",
       "    </tr>\n",
       "    <tr>\n",
       "      <th>2</th>\n",
       "      <td>0.1</td>\n",
       "      <td>0.50</td>\n",
       "      <td>0.716646</td>\n",
       "      <td>0.682927</td>\n",
       "    </tr>\n",
       "    <tr>\n",
       "      <th>3</th>\n",
       "      <td>0.1</td>\n",
       "      <td>0.75</td>\n",
       "      <td>0.719700</td>\n",
       "      <td>0.658537</td>\n",
       "    </tr>\n",
       "    <tr>\n",
       "      <th>4</th>\n",
       "      <td>0.1</td>\n",
       "      <td>1.00</td>\n",
       "      <td>0.706342</td>\n",
       "      <td>0.658537</td>\n",
       "    </tr>\n",
       "    <tr>\n",
       "      <th>6</th>\n",
       "      <td>0.3</td>\n",
       "      <td>0.25</td>\n",
       "      <td>0.698530</td>\n",
       "      <td>0.658537</td>\n",
       "    </tr>\n",
       "    <tr>\n",
       "      <th>7</th>\n",
       "      <td>0.3</td>\n",
       "      <td>0.50</td>\n",
       "      <td>0.685150</td>\n",
       "      <td>0.658537</td>\n",
       "    </tr>\n",
       "    <tr>\n",
       "      <th>10</th>\n",
       "      <td>0.5</td>\n",
       "      <td>0.00</td>\n",
       "      <td>0.729259</td>\n",
       "      <td>0.634146</td>\n",
       "    </tr>\n",
       "    <tr>\n",
       "      <th>11</th>\n",
       "      <td>0.5</td>\n",
       "      <td>0.25</td>\n",
       "      <td>0.679652</td>\n",
       "      <td>0.634146</td>\n",
       "    </tr>\n",
       "    <tr>\n",
       "      <th>15</th>\n",
       "      <td>1.0</td>\n",
       "      <td>0.00</td>\n",
       "      <td>0.723823</td>\n",
       "      <td>0.634146</td>\n",
       "    </tr>\n",
       "    <tr>\n",
       "      <th>20</th>\n",
       "      <td>1.5</td>\n",
       "      <td>0.00</td>\n",
       "      <td>0.724321</td>\n",
       "      <td>0.609756</td>\n",
       "    </tr>\n",
       "    <tr>\n",
       "      <th>25</th>\n",
       "      <td>2.0</td>\n",
       "      <td>0.00</td>\n",
       "      <td>0.718734</td>\n",
       "      <td>0.609756</td>\n",
       "    </tr>\n",
       "    <tr>\n",
       "      <th>12</th>\n",
       "      <td>0.5</td>\n",
       "      <td>0.50</td>\n",
       "      <td>0.502072</td>\n",
       "      <td>0.560976</td>\n",
       "    </tr>\n",
       "    <tr>\n",
       "      <th>13</th>\n",
       "      <td>0.5</td>\n",
       "      <td>0.75</td>\n",
       "      <td>0.500000</td>\n",
       "      <td>0.560976</td>\n",
       "    </tr>\n",
       "    <tr>\n",
       "      <th>14</th>\n",
       "      <td>0.5</td>\n",
       "      <td>1.00</td>\n",
       "      <td>0.500000</td>\n",
       "      <td>0.560976</td>\n",
       "    </tr>\n",
       "    <tr>\n",
       "      <th>8</th>\n",
       "      <td>0.3</td>\n",
       "      <td>0.75</td>\n",
       "      <td>0.538506</td>\n",
       "      <td>0.560976</td>\n",
       "    </tr>\n",
       "    <tr>\n",
       "      <th>21</th>\n",
       "      <td>1.5</td>\n",
       "      <td>0.25</td>\n",
       "      <td>0.500000</td>\n",
       "      <td>0.560976</td>\n",
       "    </tr>\n",
       "    <tr>\n",
       "      <th>9</th>\n",
       "      <td>0.3</td>\n",
       "      <td>1.00</td>\n",
       "      <td>0.506282</td>\n",
       "      <td>0.536585</td>\n",
       "    </tr>\n",
       "    <tr>\n",
       "      <th>24</th>\n",
       "      <td>1.5</td>\n",
       "      <td>1.00</td>\n",
       "      <td>0.500000</td>\n",
       "      <td>0.512195</td>\n",
       "    </tr>\n",
       "    <tr>\n",
       "      <th>28</th>\n",
       "      <td>2.0</td>\n",
       "      <td>0.75</td>\n",
       "      <td>0.500000</td>\n",
       "      <td>0.512195</td>\n",
       "    </tr>\n",
       "    <tr>\n",
       "      <th>26</th>\n",
       "      <td>2.0</td>\n",
       "      <td>0.25</td>\n",
       "      <td>0.500000</td>\n",
       "      <td>0.487805</td>\n",
       "    </tr>\n",
       "    <tr>\n",
       "      <th>27</th>\n",
       "      <td>2.0</td>\n",
       "      <td>0.50</td>\n",
       "      <td>0.500000</td>\n",
       "      <td>0.487805</td>\n",
       "    </tr>\n",
       "    <tr>\n",
       "      <th>29</th>\n",
       "      <td>2.0</td>\n",
       "      <td>1.00</td>\n",
       "      <td>0.500000</td>\n",
       "      <td>0.487805</td>\n",
       "    </tr>\n",
       "    <tr>\n",
       "      <th>19</th>\n",
       "      <td>1.0</td>\n",
       "      <td>1.00</td>\n",
       "      <td>0.500000</td>\n",
       "      <td>0.463415</td>\n",
       "    </tr>\n",
       "    <tr>\n",
       "      <th>18</th>\n",
       "      <td>1.0</td>\n",
       "      <td>0.75</td>\n",
       "      <td>0.500000</td>\n",
       "      <td>0.463415</td>\n",
       "    </tr>\n",
       "    <tr>\n",
       "      <th>22</th>\n",
       "      <td>1.5</td>\n",
       "      <td>0.50</td>\n",
       "      <td>0.500000</td>\n",
       "      <td>0.463415</td>\n",
       "    </tr>\n",
       "    <tr>\n",
       "      <th>23</th>\n",
       "      <td>1.5</td>\n",
       "      <td>0.75</td>\n",
       "      <td>0.500000</td>\n",
       "      <td>0.463415</td>\n",
       "    </tr>\n",
       "    <tr>\n",
       "      <th>16</th>\n",
       "      <td>1.0</td>\n",
       "      <td>0.25</td>\n",
       "      <td>0.503795</td>\n",
       "      <td>0.463415</td>\n",
       "    </tr>\n",
       "    <tr>\n",
       "      <th>17</th>\n",
       "      <td>1.0</td>\n",
       "      <td>0.50</td>\n",
       "      <td>0.500000</td>\n",
       "      <td>0.414634</td>\n",
       "    </tr>\n",
       "  </tbody>\n",
       "</table>\n",
       "</div>"
      ],
      "text/plain": [
       "    alpha  l1_ratio  mean_train_score  mean_test_score\n",
       "5     0.3      0.00          0.732968         0.731707\n",
       "1     0.1      0.25          0.723228         0.707317\n",
       "0     0.1      0.00          0.763150         0.682927\n",
       "2     0.1      0.50          0.716646         0.682927\n",
       "3     0.1      0.75          0.719700         0.658537\n",
       "4     0.1      1.00          0.706342         0.658537\n",
       "6     0.3      0.25          0.698530         0.658537\n",
       "7     0.3      0.50          0.685150         0.658537\n",
       "10    0.5      0.00          0.729259         0.634146\n",
       "11    0.5      0.25          0.679652         0.634146\n",
       "15    1.0      0.00          0.723823         0.634146\n",
       "20    1.5      0.00          0.724321         0.609756\n",
       "25    2.0      0.00          0.718734         0.609756\n",
       "12    0.5      0.50          0.502072         0.560976\n",
       "13    0.5      0.75          0.500000         0.560976\n",
       "14    0.5      1.00          0.500000         0.560976\n",
       "8     0.3      0.75          0.538506         0.560976\n",
       "21    1.5      0.25          0.500000         0.560976\n",
       "9     0.3      1.00          0.506282         0.536585\n",
       "24    1.5      1.00          0.500000         0.512195\n",
       "28    2.0      0.75          0.500000         0.512195\n",
       "26    2.0      0.25          0.500000         0.487805\n",
       "27    2.0      0.50          0.500000         0.487805\n",
       "29    2.0      1.00          0.500000         0.487805\n",
       "19    1.0      1.00          0.500000         0.463415\n",
       "18    1.0      0.75          0.500000         0.463415\n",
       "22    1.5      0.50          0.500000         0.463415\n",
       "23    1.5      0.75          0.500000         0.463415\n",
       "16    1.0      0.25          0.503795         0.463415\n",
       "17    1.0      0.50          0.500000         0.414634"
      ]
     },
     "execution_count": 22,
     "metadata": {},
     "output_type": "execute_result"
    }
   ],
   "source": [
    "res.sort_values('mean_test_score', ascending=False)"
   ]
  },
  {
   "cell_type": "code",
   "execution_count": 36,
   "metadata": {},
   "outputs": [
    {
     "name": "stdout",
     "output_type": "stream",
     "text": [
      "   alpha  mean_train_score  mean_test_score\n",
      "0    0.1          0.713054         0.658537\n",
      "1    0.3          0.681261         0.609756\n",
      "2    0.5          0.501395         0.560976\n",
      "3    1.0          0.500000         0.487805\n",
      "4    1.5          0.500000         0.512195\n",
      "5    2.0          0.500000         0.487805\n",
      "\n",
      "est\n",
      "----------\n",
      "SGDClassifier(alpha=0.1, average=False, class_weight=None, early_stopping=False,\n",
      "              epsilon=0.1, eta0=0.0, fit_intercept=True, l1_ratio=0.5,\n",
      "              learning_rate='optimal', loss='log', max_iter=100,\n",
      "              n_iter_no_change=5, n_jobs=None, penalty='elasticnet',\n",
      "              power_t=0.5, random_state=None, shuffle=True, tol=0.001,\n",
      "              validation_fraction=0.1, verbose=0, warm_start=False)\n",
      "\n"
     ]
    },
    {
     "data": {
      "image/png": "[encoded data removed]",
      "text/plain": [
       "<Figure size 864x432 with 1 Axes>"
      ]
     },
     "metadata": {
      "needs_background": "light"
     },
     "output_type": "display_data"
    }
   ],
   "source": [
    "params = {'alpha':[0.1, 0.3, 0.5, 1.0, 1.5, 2.0],\n",
    "          'l1_ratio': [0.5],\n",
    "          'penalty': ['elasticnet'],\n",
    "          'loss': ['log'],\n",
    "          'max_iter': [100]}\n",
    "\n",
    "sgd = SGDC(params, metrics)\n",
    "sgd.fit(X, y)\n",
    "res = sgd.quick_results(df=True)\n",
    "\n",
    "\n",
    "fig, ax = plt.subplots(figsize=(12, 6))\n",
    "\n",
    "feats = sgd.feat_importances()\n",
    "sorted_idx = sorted(feats.index, key=lambda i: [i[-1], i[:-1]])\n",
    "feats[sorted_idx].plot(kind='bar', ax=ax)\n",
    "\n",
    "sns.despine();"
   ]
  },
  {
   "cell_type": "markdown",
   "metadata": {},
   "source": [
    "## PCA top 10"
   ]
  },
  {
   "cell_type": "code",
   "execution_count": 24,
   "metadata": {},
   "outputs": [
    {
     "name": "stdout",
     "output_type": "stream",
     "text": [
      "     C  mean_train_score  mean_test_score\n",
      "0  0.1          0.707295         0.682927\n",
      "1  0.3          0.766579         0.658537\n",
      "2  0.5          0.798437         0.780488\n",
      "3  1.0          0.826442         0.756098\n",
      "4  1.5          0.817395         0.756098\n",
      "5  2.0          0.812454         0.756098\n",
      "\n",
      "est\n",
      "----------\n",
      "LogisticRegression(C=0.5, class_weight='balanced', dual=False,\n",
      "                   fit_intercept=True, intercept_scaling=1, l1_ratio=None,\n",
      "                   max_iter=200, multi_class='auto', n_jobs=None, penalty='l1',\n",
      "                   random_state=None, solver='saga', tol=0.0001, verbose=0,\n",
      "                   warm_start=False)\n",
      "\n"
     ]
    },
    {
     "data": {
      "image/png": "[encoded data removed]",
      "text/plain": [
       "<Figure size 864x432 with 1 Axes>"
      ]
     },
     "metadata": {
      "needs_background": "light"
     },
     "output_type": "display_data"
    }
   ],
   "source": [
    "metrics = 'balanced_accuracy'\n",
    "params = {'C':[0.1, 0.3, 0.5, 1.0, 1.5, 2.0],\n",
    "          'class_weight': ['balanced'],\n",
    "          'penalty': ['l1'],\n",
    "          'solver': ['saga'],\n",
    "          'max_iter': [200]}\n",
    "n_components = 10\n",
    "Xpca = pd.DataFrame(PCA(n_components).fit_transform(X), \n",
    "                    columns=['pc_' + str(i) for i in range(1, n_components+1)])\n",
    "logit = Logit(params, metrics, pca=False)\n",
    "logit.fit(Xpca, y)\n",
    "logit.quick_results()\n",
    "\n",
    "fig, ax = plt.subplots(figsize=(12, 6))\n",
    "\n",
    "feats = logit.feat_importances()\n",
    "\n",
    "feats.plot(kind='bar', ax=ax)\n",
    "\n",
    "sns.despine();"
   ]
  }
 ],
 "metadata": {
  "kernelspec": {
   "display_name": "Python 3",
   "language": "python",
   "name": "python3"
  },
  "language_info": {
   "codemirror_mode": {
    "name": "ipython",
    "version": 3
   },
   "file_extension": ".py",
   "mimetype": "text/x-python",
   "name": "python",
   "nbconvert_exporter": "python",
   "pygments_lexer": "ipython3",
   "version": "3.5.2"
  }
 },
 "nbformat": 4,
 "nbformat_minor": 2
}
