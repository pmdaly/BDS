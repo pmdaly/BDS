{
 "cells": [
  {
   "cell_type": "code",
   "execution_count": 1,
   "metadata": {},
   "outputs": [],
   "source": [
    "%autoreload 2\n",
    "\n",
    "import matplotlib.pyplot as plt\n",
    "import seaborn as sns\n",
    "from paper_changes import *\n",
    "from collections import defaultdict\n",
    "from tqdm import tqdm\n",
    "from scipy.stats import zscore\n",
    "\n",
    "from sklearn.metrics import balanced_accuracy_score\n",
    "from sklearn.metrics import accuracy_score\n",
    "from sklearn.metrics import auc\n",
    "from sklearn.metrics import precision_score\n",
    "from sklearn.metrics import recall_score\n",
    "from sklearn.metrics import roc_auc_score\n",
    "\n",
    "import warnings\n",
    "warnings.filterwarnings(\"ignore\")\n",
    "\n",
    "%matplotlib inline"
   ]
  },
  {
   "cell_type": "code",
   "execution_count": 2,
   "metadata": {},
   "outputs": [],
   "source": [
    "plt.rcParams['pdf.fonttype'] = 42\n",
    "plt.rcParams['ps.fonttype'] = 42"
   ]
  },
  {
   "cell_type": "code",
   "execution_count": 3,
   "metadata": {},
   "outputs": [],
   "source": [
    "import pickle\n",
    "import pandas as pd\n",
    "\n",
    "def load_data(field='relative', zscore=True):\n",
    "    infile = '/userdata/pdaly/supereeg/results/samp100_2h_54pid_pos-1.18.power.pkl'\n",
    "    data = pickle.load(open(infile, 'rb'))\n",
    "    labels = pd.read_csv('/home/kscangos/Sandbox/full_patient_list_pd_feb.csv', index_col=0)\n",
    "    labels['pid'] = labels.index.map(lambda pid: pid[2:])\n",
    "    df = data[field]\n",
    "    df = df.reset_index().merge(labels[['pid', 'dep']], left_on='index',\n",
    "                           right_on='pid').set_index('index').drop('pid', axis=1)\n",
    "    df.rename(columns={'Dep': 'dep'}, inplace=True)\n",
    "    df.drop(['92','111','119','131','135','27','115','130',\n",
    "             '144','158','162','170','183'], axis=0, inplace=True)\n",
    "    X, y = df.drop('dep', axis=1), df.dep\n",
    "    if zscore:\n",
    "        X = pd.DataFrame(StandardScaler().fit_transform(X), columns=X.columns, index=X.index)\n",
    "    return X, y"
   ]
  },
  {
   "cell_type": "markdown",
   "metadata": {},
   "source": [
    "# Log Odds"
   ]
  },
  {
   "cell_type": "code",
   "execution_count": 4,
   "metadata": {},
   "outputs": [
    {
     "data": {
      "text/plain": [
       "Pipeline(memory=None,\n",
       "         steps=[('pca',\n",
       "                 PCA(copy=True, iterated_power='auto', n_components=None,\n",
       "                     random_state=None, svd_solver='auto', tol=0.0,\n",
       "                     whiten=False)),\n",
       "                ('clf',\n",
       "                 LogisticRegression(C=0.75, class_weight='balanced', dual=False,\n",
       "                                    fit_intercept=True, intercept_scaling=1,\n",
       "                                    l1_ratio=None, max_iter=100,\n",
       "                                    multi_class='auto', n_jobs=None,\n",
       "                                    penalty='l1', random_state=None,\n",
       "                                    solver='liblinear', tol=0.0001, verbose=0,\n",
       "                                    warm_start=False))],\n",
       "         verbose=False)"
      ]
     },
     "execution_count": 4,
     "metadata": {},
     "output_type": "execute_result"
    }
   ],
   "source": [
    "X, y = load_data()\n",
    "\n",
    "pipe = Pipeline([('pca', PCA()),\n",
    "                 ('clf', LogisticRegression(C=0.75, penalty='l1', class_weight='balanced', solver='liblinear',\n",
    "                                                max_iter=100))])\n",
    "             \n",
    "get_feats = lambda pipe: pd.Series(np.squeeze(pipe.steps[-1][1].coef_), \n",
    "                                   index=['pc_' + str(i+1) for i in range(X.shape[1])])\n",
    "\n",
    "pipe.fit(X, y)"
   ]
  },
  {
   "cell_type": "code",
   "execution_count": 5,
   "metadata": {
    "scrolled": false
   },
   "outputs": [
    {
     "data": {
      "image/png": "[encoded data removed]",
      "text/plain": [
       "<Figure size 576x432 with 1 Axes>"
      ]
     },
     "metadata": {
      "needs_background": "light"
     },
     "output_type": "display_data"
    }
   ],
   "source": [
    "fig, ax = plt.subplots(figsize=(8, 6))\n",
    "feats = get_feats(pipe)\n",
    "feats[feats != 0].abs().sort_values(ascending=False).plot(kind='bar')\n",
    "sns.despine()\n",
    "\n",
    "plt.savefig(\"/home/kscangos/paper_figs/logit_coefs.pdf\", transparent=True)"
   ]
  },
  {
   "cell_type": "code",
   "execution_count": 6,
   "metadata": {},
   "outputs": [],
   "source": [
    "pca = pipe.named_steps['pca']\n",
    "logit = pipe.named_steps['clf']"
   ]
  },
  {
   "cell_type": "code",
   "execution_count": 7,
   "metadata": {},
   "outputs": [],
   "source": [
    "U = pca.components_\n",
    "b = logit.coef_\n",
    "\n",
    "U_gt2 = np.copy(U)\n",
    "U_gt2[np.abs(U_gt2) <= 0.2] = 0\n",
    "Uhat_gt2 = U_gt2.T.dot(b.T)\n",
    "Uhat = U.T.dot(b.T)"
   ]
  },
  {
   "cell_type": "code",
   "execution_count": 8,
   "metadata": {},
   "outputs": [
    {
     "data": {
      "text/plain": [
       "False"
      ]
     },
     "execution_count": 8,
     "metadata": {},
     "output_type": "execute_result"
    }
   ],
   "source": [
    "np.allclose(Uhat, Uhat_gt2)"
   ]
  },
  {
   "cell_type": "code",
   "execution_count": 9,
   "metadata": {},
   "outputs": [
    {
     "data": {
      "text/plain": [
       "True"
      ]
     },
     "execution_count": 9,
     "metadata": {},
     "output_type": "execute_result"
    }
   ],
   "source": [
    "np.allclose(X.dot(U.T).values, pd.DataFrame(pca.transform(X), index=X.index))"
   ]
  },
  {
   "cell_type": "code",
   "execution_count": 10,
   "metadata": {},
   "outputs": [],
   "source": [
    "# log odds\n",
    "P = X * Uhat.squeeze()"
   ]
  },
  {
   "cell_type": "code",
   "execution_count": 112,
   "metadata": {},
   "outputs": [],
   "source": [
    "P.to_csv('../temp/P_pca_logit-norf.csv')"
   ]
  },
  {
   "cell_type": "code",
   "execution_count": 11,
   "metadata": {},
   "outputs": [],
   "source": [
    "P2 = X * Uhat_gt2.squeeze()"
   ]
  },
  {
   "cell_type": "code",
   "execution_count": 114,
   "metadata": {},
   "outputs": [],
   "source": [
    "P2.to_csv('../temp/P_pca_logit-norf_gt-02.csv')"
   ]
  },
  {
   "cell_type": "markdown",
   "metadata": {},
   "source": [
    "# Sandbox "
   ]
  },
  {
   "cell_type": "code",
   "execution_count": 12,
   "metadata": {},
   "outputs": [],
   "source": [
    "from sklearn.feature_selection import SelectFromModel\n",
    "from sklearn.ensemble import RandomForestClassifier"
   ]
  },
  {
   "cell_type": "code",
   "execution_count": 13,
   "metadata": {},
   "outputs": [
    {
     "ename": "NameError",
     "evalue": "name 'Xt' is not defined",
     "output_type": "error",
     "traceback": [
      "\u001b[0;31m---------------------------------------------------------------------------\u001b[0m",
      "\u001b[0;31mNameError\u001b[0m                                 Traceback (most recent call last)",
      "\u001b[0;32m<ipython-input-13-72c1b7ed557c>\u001b[0m in \u001b[0;36m<module>\u001b[0;34m\u001b[0m\n\u001b[1;32m      5\u001b[0m                                    index=Xt.columns[pipe.steps[-2][1].get_support()])\n\u001b[1;32m      6\u001b[0m \u001b[0;34m\u001b[0m\u001b[0m\n\u001b[0;32m----> 7\u001b[0;31m \u001b[0mXt\u001b[0m \u001b[0;34m=\u001b[0m \u001b[0mpd\u001b[0m\u001b[0;34m.\u001b[0m\u001b[0mDataFrame\u001b[0m\u001b[0;34m(\u001b[0m\u001b[0mPCA\u001b[0m\u001b[0;34m(\u001b[0m\u001b[0;34m)\u001b[0m\u001b[0;34m.\u001b[0m\u001b[0mfit_transform\u001b[0m\u001b[0;34m(\u001b[0m\u001b[0mX\u001b[0m\u001b[0;34m)\u001b[0m\u001b[0;34m,\u001b[0m \u001b[0mcolumns\u001b[0m\u001b[0;34m=\u001b[0m\u001b[0;34m[\u001b[0m\u001b[0;34m'pc_'\u001b[0m \u001b[0;34m+\u001b[0m \u001b[0mstr\u001b[0m\u001b[0;34m(\u001b[0m\u001b[0mi\u001b[0m\u001b[0;34m)\u001b[0m \u001b[0;32mfor\u001b[0m \u001b[0mi\u001b[0m \u001b[0;32min\u001b[0m \u001b[0mrange\u001b[0m\u001b[0;34m(\u001b[0m\u001b[0mXt\u001b[0m\u001b[0;34m.\u001b[0m\u001b[0mshape\u001b[0m\u001b[0;34m[\u001b[0m\u001b[0;36m1\u001b[0m\u001b[0;34m]\u001b[0m\u001b[0;34m)\u001b[0m\u001b[0;34m]\u001b[0m\u001b[0;34m)\u001b[0m\u001b[0;34m\u001b[0m\u001b[0m\n\u001b[0m\u001b[1;32m      8\u001b[0m \u001b[0;34m\u001b[0m\u001b[0m\n\u001b[1;32m      9\u001b[0m \u001b[0mpipe\u001b[0m\u001b[0;34m.\u001b[0m\u001b[0mfit\u001b[0m\u001b[0;34m(\u001b[0m\u001b[0mXt\u001b[0m\u001b[0;34m,\u001b[0m \u001b[0my\u001b[0m\u001b[0;34m)\u001b[0m\u001b[0;34m\u001b[0m\u001b[0m\n",
      "\u001b[0;31mNameError\u001b[0m: name 'Xt' is not defined"
     ]
    }
   ],
   "source": [
    "pipe = Pipeline([('rf_select', SelectFromModel(RandomForestClassifier(n_estimators=200), max_features=10)),\n",
    "                 ('clf', LogisticRegression(C=1, penalty='l1', class_weight='balanced', solver='liblinear',\n",
    "                                                max_iter=100, tol=1e-6))])\n",
    "get_feats = lambda pipe: pd.Series(np.squeeze(pipe.steps[-1][1].coef_), \n",
    "                                   index=Xt.columns[pipe.steps[-2][1].get_support()])\n",
    "\n",
    "Xt = pd.DataFrame(PCA().fit_transform(X), columns=['pc_' + str(i) for i in range(Xt.shape[1])])\n",
    "\n",
    "pipe.fit(Xt, y)"
   ]
  },
  {
   "cell_type": "code",
   "execution_count": 14,
   "metadata": {},
   "outputs": [
    {
     "ename": "AttributeError",
     "evalue": "'LogisticRegression' object has no attribute 'coef_'",
     "output_type": "error",
     "traceback": [
      "\u001b[0;31m---------------------------------------------------------------------------\u001b[0m",
      "\u001b[0;31mAttributeError\u001b[0m                            Traceback (most recent call last)",
      "\u001b[0;32m<ipython-input-14-8342a1cef051>\u001b[0m in \u001b[0;36m<module>\u001b[0;34m\u001b[0m\n\u001b[0;32m----> 1\u001b[0;31m \u001b[0mfeats\u001b[0m \u001b[0;34m=\u001b[0m \u001b[0mget_feats\u001b[0m\u001b[0;34m(\u001b[0m\u001b[0mpipe\u001b[0m\u001b[0;34m)\u001b[0m\u001b[0;34m\u001b[0m\u001b[0m\n\u001b[0m\u001b[1;32m      2\u001b[0m \u001b[0mfeats\u001b[0m\u001b[0;34m[\u001b[0m\u001b[0mfeats\u001b[0m \u001b[0;34m!=\u001b[0m \u001b[0;36m0\u001b[0m\u001b[0;34m]\u001b[0m\u001b[0;34m.\u001b[0m\u001b[0mabs\u001b[0m\u001b[0;34m(\u001b[0m\u001b[0;34m)\u001b[0m\u001b[0;34m.\u001b[0m\u001b[0msort_values\u001b[0m\u001b[0;34m(\u001b[0m\u001b[0mascending\u001b[0m\u001b[0;34m=\u001b[0m\u001b[0;32mFalse\u001b[0m\u001b[0;34m)\u001b[0m\u001b[0;34m.\u001b[0m\u001b[0mplot\u001b[0m\u001b[0;34m(\u001b[0m\u001b[0mkind\u001b[0m\u001b[0;34m=\u001b[0m\u001b[0;34m'bar'\u001b[0m\u001b[0;34m)\u001b[0m\u001b[0;34m\u001b[0m\u001b[0m\n\u001b[1;32m      3\u001b[0m \u001b[0msns\u001b[0m\u001b[0;34m.\u001b[0m\u001b[0mdespine\u001b[0m\u001b[0;34m(\u001b[0m\u001b[0;34m)\u001b[0m\u001b[0;34m\u001b[0m\u001b[0m\n",
      "\u001b[0;32m<ipython-input-13-72c1b7ed557c>\u001b[0m in \u001b[0;36m<lambda>\u001b[0;34m(pipe)\u001b[0m\n\u001b[1;32m      2\u001b[0m                  ('clf', LogisticRegression(C=1, penalty='l1', class_weight='balanced', solver='liblinear',\n\u001b[1;32m      3\u001b[0m                                                 max_iter=100, tol=1e-6))])\n\u001b[0;32m----> 4\u001b[0;31m get_feats = lambda pipe: pd.Series(np.squeeze(pipe.steps[-1][1].coef_), \n\u001b[0m\u001b[1;32m      5\u001b[0m                                    index=Xt.columns[pipe.steps[-2][1].get_support()])\n\u001b[1;32m      6\u001b[0m \u001b[0;34m\u001b[0m\u001b[0m\n",
      "\u001b[0;31mAttributeError\u001b[0m: 'LogisticRegression' object has no attribute 'coef_'"
     ]
    }
   ],
   "source": [
    "feats = get_feats(pipe)\n",
    "feats[feats != 0].abs().sort_values(ascending=False).plot(kind='bar')\n",
    "sns.despine()"
   ]
  },
  {
   "cell_type": "code",
   "execution_count": 67,
   "metadata": {},
   "outputs": [
    {
     "data": {
      "text/plain": [
       "pc_2     0.153522\n",
       "pc_3    -0.603747\n",
       "pc_4     0.235970\n",
       "pc_5     0.000000\n",
       "pc_6    -1.416538\n",
       "pc_13    0.000000\n",
       "pc_18    0.000000\n",
       "pc_19    0.000000\n",
       "pc_21    0.000000\n",
       "pc_24    0.000000\n",
       "dtype: float64"
      ]
     },
     "execution_count": 67,
     "metadata": {},
     "output_type": "execute_result"
    }
   ],
   "source": [
    "feats"
   ]
  },
  {
   "cell_type": "code",
   "execution_count": 117,
   "metadata": {},
   "outputs": [
    {
     "data": {
      "text/plain": [
       "array([[0.73813346, 0.26186654],\n",
       "       [0.28762409, 0.71237591],\n",
       "       [0.69453798, 0.30546202],\n",
       "       [0.12349071, 0.87650929],\n",
       "       [0.26657832, 0.73342168],\n",
       "       [0.89970904, 0.10029096],\n",
       "       [0.49667311, 0.50332689],\n",
       "       [0.6986968 , 0.3013032 ],\n",
       "       [0.22874081, 0.77125919],\n",
       "       [0.18698576, 0.81301424],\n",
       "       [0.83905808, 0.16094192],\n",
       "       [0.38976239, 0.61023761],\n",
       "       [0.15727986, 0.84272014],\n",
       "       [0.27950648, 0.72049352],\n",
       "       [0.34388628, 0.65611372],\n",
       "       [0.59492937, 0.40507063],\n",
       "       [0.12543549, 0.87456451],\n",
       "       [0.09497121, 0.90502879],\n",
       "       [0.67834406, 0.32165594],\n",
       "       [0.74768629, 0.25231371],\n",
       "       [0.75300324, 0.24699676],\n",
       "       [0.93479437, 0.06520563],\n",
       "       [0.38498286, 0.61501714],\n",
       "       [0.58386292, 0.41613708],\n",
       "       [0.36863347, 0.63136653],\n",
       "       [0.92784791, 0.07215209],\n",
       "       [0.08212525, 0.91787475],\n",
       "       [0.19239465, 0.80760535],\n",
       "       [0.7039574 , 0.2960426 ],\n",
       "       [0.71758738, 0.28241262],\n",
       "       [0.51463698, 0.48536302],\n",
       "       [0.48801951, 0.51198049],\n",
       "       [0.32537903, 0.67462097],\n",
       "       [0.98347224, 0.01652776],\n",
       "       [0.26621882, 0.73378118],\n",
       "       [0.17967743, 0.82032257],\n",
       "       [0.58809918, 0.41190082],\n",
       "       [0.26036204, 0.73963796],\n",
       "       [0.219651  , 0.780349  ],\n",
       "       [0.12752726, 0.87247274],\n",
       "       [0.99430252, 0.00569748]])"
      ]
     },
     "execution_count": 117,
     "metadata": {},
     "output_type": "execute_result"
    }
   ],
   "source": [
    "pipe.predict_proba(X)"
   ]
  },
  {
   "cell_type": "code",
   "execution_count": 127,
   "metadata": {},
   "outputs": [],
   "source": [
    "probas = pd.DataFrame(\n",
    "    pipe.predict_proba(X)[:, 1],\n",
    "    index = X.index,\n",
    "    columns=['proba']\n",
    ")\n",
    "probas['actual'] = y\n",
    "probas['pred'] = pipe.predict(X)\n",
    "probas['match'] = probas['actual'] == probas['pred']\n",
    "probas.sort_values('proba', inplace=True)"
   ]
  },
  {
   "cell_type": "code",
   "execution_count": 129,
   "metadata": {},
   "outputs": [
    {
     "data": {
      "text/plain": [
       "True     0.804878\n",
       "False    0.195122\n",
       "Name: match, dtype: float64"
      ]
     },
     "execution_count": 129,
     "metadata": {},
     "output_type": "execute_result"
    }
   ],
   "source": [
    "probas.match.value_counts(normalize=True)"
   ]
  },
  {
   "cell_type": "code",
   "execution_count": 130,
   "metadata": {},
   "outputs": [],
   "source": [
    "probas.to_csv('../temp/preds_pca-logit.csv')"
   ]
  },
  {
   "cell_type": "code",
   "execution_count": 15,
   "metadata": {},
   "outputs": [],
   "source": [
    "pcs = pd.DataFrame(\n",
    "    U_gt2.T,\n",
    "    columns=['pc_' + str(i) for i in range(U.shape[1])],\n",
    "    index=X.columns\n",
    ")"
   ]
  },
  {
   "cell_type": "code",
   "execution_count": 16,
   "metadata": {},
   "outputs": [
    {
     "data": {
      "image/png": "[encoded data removed]",
      "text/plain": [
       "<Figure size 864x864 with 4 Axes>"
      ]
     },
     "metadata": {
      "needs_background": "light"
     },
     "output_type": "display_data"
    }
   ],
   "source": [
    "fig, axs = plt.subplots(4, 1, figsize=(12, 12))\n",
    "\n",
    "pc5 = pcs['pc_5'].abs().sort_values(ascending=False)\n",
    "pc5 = pc5[pc5 > 0.2]\n",
    "pc2 = pcs['pc_2'].abs().sort_values(ascending=False)\n",
    "pc2 = pc2[pc2 > 0.2]\n",
    "pc3 = pcs['pc_3'].abs().sort_values(ascending=False)\n",
    "pc3 = pc3[pc3 > 0.2]\n",
    "pc1 = pcs['pc_1'].abs().sort_values(ascending=False)\n",
    "pc1 = pc1[pc1 > 0.2]\n",
    "\n",
    "width = 0.65\n",
    "max_bar = max((len(pc) for pc in (pc5, pc3, pc2, pc1)))\n",
    "\n",
    "\n",
    "pc5.plot(kind='bar', ax=axs[0], width=width*len(pc5)/max_bar)\n",
    "axs[0].set_title('PC5')\n",
    "\n",
    "pc2.plot(kind='bar', ax=axs[1], width=width*len(pc2)/max_bar)\n",
    "axs[1].set_title('PC2')\n",
    "\n",
    "pc3.plot(kind='bar', ax=axs[2], width=width*len(pc3)/max_bar)\n",
    "axs[2].set_title('PC3')\n",
    "\n",
    "pc1.plot(kind='bar', ax=axs[3], width=width*len(pc1)/max_bar)\n",
    "axs[2].set_title('PC1')\n",
    "\n",
    "sns.despine()\n",
    "\n",
    "plt.tight_layout()\n",
    "\n",
    "plt.savefig('../temp/pcs_bar_graph.pdf', transparent=True)"
   ]
  },
  {
   "cell_type": "code",
   "execution_count": 174,
   "metadata": {},
   "outputs": [
    {
     "data": {
      "text/plain": [
       "alpha_0    -0.325904\n",
       "alpha_1     0.307564\n",
       "alpha_2    -0.297581\n",
       "alpha_3     0.030775\n",
       "alpha_4     0.341649\n",
       "alpha_5     0.241278\n",
       "beta_0     -0.250734\n",
       "beta_1      0.319354\n",
       "beta_2     -0.012571\n",
       "beta_3     -0.012252\n",
       "beta_4     -0.012474\n",
       "beta_5     -0.012690\n",
       "delta_0     0.330460\n",
       "delta_1    -0.301292\n",
       "delta_2     0.250846\n",
       "delta_3     0.013023\n",
       "delta_4    -0.239676\n",
       "delta_5     0.012740\n",
       "gammaH_0   -0.145424\n",
       "gammaH_1   -0.207273\n",
       "gammaH_2    0.034752\n",
       "gammaH_3   -0.204077\n",
       "gammaH_4   -0.102476\n",
       "gammaH_5   -0.204511\n",
       "gammaL_0   -0.018078\n",
       "gammaL_1    0.029944\n",
       "gammaL_2   -0.051300\n",
       "gammaL_3   -0.011022\n",
       "gammaL_4   -0.029011\n",
       "gammaL_5    0.031727\n",
       "theta_0    -0.223068\n",
       "theta_1    -0.072609\n",
       "theta_2    -0.209000\n",
       "theta_3    -0.072032\n",
       "theta_4    -0.189475\n",
       "theta_5    -0.072213\n",
       "dtype: float64"
      ]
     },
     "execution_count": 174,
     "metadata": {},
     "output_type": "execute_result"
    }
   ],
   "source": [
    "pcs.dot(b.squeeze())"
   ]
  },
  {
   "cell_type": "code",
   "execution_count": 17,
   "metadata": {},
   "outputs": [],
   "source": [
    "tf = pcs.dot(b.squeeze()).to_frame()"
   ]
  },
  {
   "cell_type": "code",
   "execution_count": 18,
   "metadata": {},
   "outputs": [
    {
     "data": {
      "text/html": [
       "<div>\n",
       "<style scoped>\n",
       "    .dataframe tbody tr th:only-of-type {\n",
       "        vertical-align: middle;\n",
       "    }\n",
       "\n",
       "    .dataframe tbody tr th {\n",
       "        vertical-align: top;\n",
       "    }\n",
       "\n",
       "    .dataframe thead th {\n",
       "        text-align: right;\n",
       "    }\n",
       "</style>\n",
       "<table border=\"1\" class=\"dataframe\">\n",
       "  <thead>\n",
       "    <tr style=\"text-align: right;\">\n",
       "      <th></th>\n",
       "      <th>loading</th>\n",
       "      <th>band</th>\n",
       "      <th>cluster</th>\n",
       "    </tr>\n",
       "  </thead>\n",
       "  <tbody>\n",
       "    <tr>\n",
       "      <th>alpha_0</th>\n",
       "      <td>-0.325905</td>\n",
       "      <td>alpha</td>\n",
       "      <td>0</td>\n",
       "    </tr>\n",
       "    <tr>\n",
       "      <th>alpha_1</th>\n",
       "      <td>0.307565</td>\n",
       "      <td>alpha</td>\n",
       "      <td>1</td>\n",
       "    </tr>\n",
       "    <tr>\n",
       "      <th>alpha_2</th>\n",
       "      <td>-0.297581</td>\n",
       "      <td>alpha</td>\n",
       "      <td>2</td>\n",
       "    </tr>\n",
       "    <tr>\n",
       "      <th>alpha_3</th>\n",
       "      <td>0.030775</td>\n",
       "      <td>alpha</td>\n",
       "      <td>3</td>\n",
       "    </tr>\n",
       "    <tr>\n",
       "      <th>alpha_4</th>\n",
       "      <td>0.341649</td>\n",
       "      <td>alpha</td>\n",
       "      <td>4</td>\n",
       "    </tr>\n",
       "  </tbody>\n",
       "</table>\n",
       "</div>"
      ],
      "text/plain": [
       "          loading   band cluster\n",
       "alpha_0 -0.325905  alpha       0\n",
       "alpha_1  0.307565  alpha       1\n",
       "alpha_2 -0.297581  alpha       2\n",
       "alpha_3  0.030775  alpha       3\n",
       "alpha_4  0.341649  alpha       4"
      ]
     },
     "execution_count": 18,
     "metadata": {},
     "output_type": "execute_result"
    }
   ],
   "source": [
    "tf['band'] = tf.reset_index()['index'].apply(lambda i: i.split('_')[0]).values\n",
    "tf['cluster'] = tf.reset_index()['index'].apply(lambda i: i.split('_')[1]).values\n",
    "tf.rename(columns={0: 'loading'}, inplace=True)\n",
    "tf.head()"
   ]
  },
  {
   "cell_type": "code",
   "execution_count": 265,
   "metadata": {},
   "outputs": [],
   "source": [
    "order = {'delta': 0, 'theta': 1, 'alpha': 2, 'beta': 3, 'gammaL': 4, 'gammaH': 5}\n",
    "tf['band_val'] = tf.band.apply(lambda b: order[b])"
   ]
  },
  {
   "cell_type": "code",
   "execution_count": 38,
   "metadata": {},
   "outputs": [],
   "source": [
    "idxs = [(str(cluster), band) for cluster in range(6) for band in ['delta', 'theta', 'alpha', 'beta', 'gammaL', 'gammaH']]"
   ]
  },
  {
   "cell_type": "code",
   "execution_count": 42,
   "metadata": {},
   "outputs": [
    {
     "data": {
      "image/png": "[encoded data removed]",
      "text/plain": [
       "<Figure size 864x576 with 1 Axes>"
      ]
     },
     "metadata": {
      "needs_background": "light"
     },
     "output_type": "display_data"
    }
   ],
   "source": [
    "fig, ax = plt.subplots(figsize=(12, 8))\n",
    "tf.set_index(['cluster', 'band']).reindex(pd.MultiIndex.from_tuples(idxs, names=['cluster', 'band'])) \\\n",
    "  .plot(kind='bar', ax=ax)\n",
    "\n",
    "sns.despine()\n",
    "\n",
    "plt.savefig('../temp/pca_logodds_cluster_band_barchart.pdf', transparent=True)"
   ]
  },
  {
   "cell_type": "code",
   "execution_count": 160,
   "metadata": {},
   "outputs": [
    {
     "data": {
      "text/html": [
       "<div>\n",
       "<style scoped>\n",
       "    .dataframe tbody tr th:only-of-type {\n",
       "        vertical-align: middle;\n",
       "    }\n",
       "\n",
       "    .dataframe tbody tr th {\n",
       "        vertical-align: top;\n",
       "    }\n",
       "\n",
       "    .dataframe thead th {\n",
       "        text-align: right;\n",
       "    }\n",
       "</style>\n",
       "<table border=\"1\" class=\"dataframe\">\n",
       "  <thead>\n",
       "    <tr style=\"text-align: right;\">\n",
       "      <th></th>\n",
       "      <th>alpha_0</th>\n",
       "      <th>alpha_1</th>\n",
       "      <th>alpha_2</th>\n",
       "      <th>alpha_3</th>\n",
       "      <th>alpha_4</th>\n",
       "      <th>alpha_5</th>\n",
       "      <th>beta_0</th>\n",
       "      <th>beta_1</th>\n",
       "      <th>beta_2</th>\n",
       "      <th>beta_3</th>\n",
       "      <th>...</th>\n",
       "      <th>gammaL_2</th>\n",
       "      <th>gammaL_3</th>\n",
       "      <th>gammaL_4</th>\n",
       "      <th>gammaL_5</th>\n",
       "      <th>theta_0</th>\n",
       "      <th>theta_1</th>\n",
       "      <th>theta_2</th>\n",
       "      <th>theta_3</th>\n",
       "      <th>theta_4</th>\n",
       "      <th>theta_5</th>\n",
       "    </tr>\n",
       "    <tr>\n",
       "      <th>index</th>\n",
       "      <th></th>\n",
       "      <th></th>\n",
       "      <th></th>\n",
       "      <th></th>\n",
       "      <th></th>\n",
       "      <th></th>\n",
       "      <th></th>\n",
       "      <th></th>\n",
       "      <th></th>\n",
       "      <th></th>\n",
       "      <th></th>\n",
       "      <th></th>\n",
       "      <th></th>\n",
       "      <th></th>\n",
       "      <th></th>\n",
       "      <th></th>\n",
       "      <th></th>\n",
       "      <th></th>\n",
       "      <th></th>\n",
       "      <th></th>\n",
       "      <th></th>\n",
       "    </tr>\n",
       "  </thead>\n",
       "  <tbody>\n",
       "    <tr>\n",
       "      <th>06</th>\n",
       "      <td>-1.171545</td>\n",
       "      <td>-1.007934</td>\n",
       "      <td>-1.427948</td>\n",
       "      <td>-1.330325</td>\n",
       "      <td>-1.254318</td>\n",
       "      <td>-1.188191</td>\n",
       "      <td>-0.667907</td>\n",
       "      <td>-0.936418</td>\n",
       "      <td>-1.214666</td>\n",
       "      <td>-0.723659</td>\n",
       "      <td>...</td>\n",
       "      <td>-0.787012</td>\n",
       "      <td>0.104539</td>\n",
       "      <td>0.054161</td>\n",
       "      <td>-0.061987</td>\n",
       "      <td>0.724667</td>\n",
       "      <td>0.381175</td>\n",
       "      <td>1.141324</td>\n",
       "      <td>0.518739</td>\n",
       "      <td>0.285597</td>\n",
       "      <td>0.305651</td>\n",
       "    </tr>\n",
       "    <tr>\n",
       "      <th>09</th>\n",
       "      <td>-0.803048</td>\n",
       "      <td>-0.579526</td>\n",
       "      <td>-1.595245</td>\n",
       "      <td>-0.689572</td>\n",
       "      <td>-1.078105</td>\n",
       "      <td>-0.518234</td>\n",
       "      <td>-1.212330</td>\n",
       "      <td>-1.377795</td>\n",
       "      <td>-1.673247</td>\n",
       "      <td>-1.089104</td>\n",
       "      <td>...</td>\n",
       "      <td>-1.310952</td>\n",
       "      <td>-0.312551</td>\n",
       "      <td>-1.083716</td>\n",
       "      <td>-0.544938</td>\n",
       "      <td>-0.523015</td>\n",
       "      <td>-0.564403</td>\n",
       "      <td>-0.466070</td>\n",
       "      <td>-0.627590</td>\n",
       "      <td>-0.597132</td>\n",
       "      <td>-0.799044</td>\n",
       "    </tr>\n",
       "    <tr>\n",
       "      <th>100</th>\n",
       "      <td>-0.766488</td>\n",
       "      <td>-0.466758</td>\n",
       "      <td>-0.944603</td>\n",
       "      <td>-1.063571</td>\n",
       "      <td>-0.982729</td>\n",
       "      <td>-0.814833</td>\n",
       "      <td>-0.612789</td>\n",
       "      <td>-0.613129</td>\n",
       "      <td>-0.964590</td>\n",
       "      <td>-1.014141</td>\n",
       "      <td>...</td>\n",
       "      <td>-0.752380</td>\n",
       "      <td>-0.890631</td>\n",
       "      <td>-0.767007</td>\n",
       "      <td>-0.627034</td>\n",
       "      <td>0.678573</td>\n",
       "      <td>1.167342</td>\n",
       "      <td>0.516342</td>\n",
       "      <td>0.433904</td>\n",
       "      <td>0.758257</td>\n",
       "      <td>1.154174</td>\n",
       "    </tr>\n",
       "    <tr>\n",
       "      <th>107</th>\n",
       "      <td>-0.198560</td>\n",
       "      <td>-0.071947</td>\n",
       "      <td>-0.277018</td>\n",
       "      <td>-0.209148</td>\n",
       "      <td>-0.206680</td>\n",
       "      <td>-0.263718</td>\n",
       "      <td>0.161060</td>\n",
       "      <td>0.445352</td>\n",
       "      <td>0.189879</td>\n",
       "      <td>0.055081</td>\n",
       "      <td>...</td>\n",
       "      <td>1.094925</td>\n",
       "      <td>0.734339</td>\n",
       "      <td>0.851653</td>\n",
       "      <td>1.595057</td>\n",
       "      <td>-2.558494</td>\n",
       "      <td>-2.406823</td>\n",
       "      <td>-2.794658</td>\n",
       "      <td>-2.327962</td>\n",
       "      <td>-2.614792</td>\n",
       "      <td>-2.410005</td>\n",
       "    </tr>\n",
       "    <tr>\n",
       "      <th>108</th>\n",
       "      <td>-1.222735</td>\n",
       "      <td>-1.300830</td>\n",
       "      <td>-1.341565</td>\n",
       "      <td>-1.464312</td>\n",
       "      <td>-1.179208</td>\n",
       "      <td>-1.132890</td>\n",
       "      <td>-1.140384</td>\n",
       "      <td>-1.396495</td>\n",
       "      <td>-1.178733</td>\n",
       "      <td>-1.276592</td>\n",
       "      <td>...</td>\n",
       "      <td>-0.569849</td>\n",
       "      <td>0.424504</td>\n",
       "      <td>-0.385783</td>\n",
       "      <td>-0.685752</td>\n",
       "      <td>-0.998003</td>\n",
       "      <td>-0.792305</td>\n",
       "      <td>-1.011361</td>\n",
       "      <td>-1.031028</td>\n",
       "      <td>-0.868542</td>\n",
       "      <td>-0.657864</td>\n",
       "    </tr>\n",
       "  </tbody>\n",
       "</table>\n",
       "<p>5 rows × 36 columns</p>\n",
       "</div>"
      ],
      "text/plain": [
       "        alpha_0   alpha_1   alpha_2   alpha_3   alpha_4   alpha_5    beta_0  \\\n",
       "index                                                                         \n",
       "06    -1.171545 -1.007934 -1.427948 -1.330325 -1.254318 -1.188191 -0.667907   \n",
       "09    -0.803048 -0.579526 -1.595245 -0.689572 -1.078105 -0.518234 -1.212330   \n",
       "100   -0.766488 -0.466758 -0.944603 -1.063571 -0.982729 -0.814833 -0.612789   \n",
       "107   -0.198560 -0.071947 -0.277018 -0.209148 -0.206680 -0.263718  0.161060   \n",
       "108   -1.222735 -1.300830 -1.341565 -1.464312 -1.179208 -1.132890 -1.140384   \n",
       "\n",
       "         beta_1    beta_2    beta_3    ...     gammaL_2  gammaL_3  gammaL_4  \\\n",
       "index                                  ...                                    \n",
       "06    -0.936418 -1.214666 -0.723659    ...    -0.787012  0.104539  0.054161   \n",
       "09    -1.377795 -1.673247 -1.089104    ...    -1.310952 -0.312551 -1.083716   \n",
       "100   -0.613129 -0.964590 -1.014141    ...    -0.752380 -0.890631 -0.767007   \n",
       "107    0.445352  0.189879  0.055081    ...     1.094925  0.734339  0.851653   \n",
       "108   -1.396495 -1.178733 -1.276592    ...    -0.569849  0.424504 -0.385783   \n",
       "\n",
       "       gammaL_5   theta_0   theta_1   theta_2   theta_3   theta_4   theta_5  \n",
       "index                                                                        \n",
       "06    -0.061987  0.724667  0.381175  1.141324  0.518739  0.285597  0.305651  \n",
       "09    -0.544938 -0.523015 -0.564403 -0.466070 -0.627590 -0.597132 -0.799044  \n",
       "100   -0.627034  0.678573  1.167342  0.516342  0.433904  0.758257  1.154174  \n",
       "107    1.595057 -2.558494 -2.406823 -2.794658 -2.327962 -2.614792 -2.410005  \n",
       "108   -0.685752 -0.998003 -0.792305 -1.011361 -1.031028 -0.868542 -0.657864  \n",
       "\n",
       "[5 rows x 36 columns]"
      ]
     },
     "execution_count": 160,
     "metadata": {},
     "output_type": "execute_result"
    }
   ],
   "source": [
    "X.head() "
   ]
  },
  {
   "cell_type": "code",
   "execution_count": 158,
   "metadata": {},
   "outputs": [
    {
     "data": {
      "text/html": [
       "<div>\n",
       "<style scoped>\n",
       "    .dataframe tbody tr th:only-of-type {\n",
       "        vertical-align: middle;\n",
       "    }\n",
       "\n",
       "    .dataframe tbody tr th {\n",
       "        vertical-align: top;\n",
       "    }\n",
       "\n",
       "    .dataframe thead th {\n",
       "        text-align: right;\n",
       "    }\n",
       "</style>\n",
       "<table border=\"1\" class=\"dataframe\">\n",
       "  <thead>\n",
       "    <tr style=\"text-align: right;\">\n",
       "      <th></th>\n",
       "      <th>pc_0</th>\n",
       "      <th>pc_1</th>\n",
       "      <th>pc_2</th>\n",
       "      <th>pc_3</th>\n",
       "      <th>pc_4</th>\n",
       "      <th>pc_5</th>\n",
       "      <th>pc_6</th>\n",
       "      <th>pc_7</th>\n",
       "      <th>pc_8</th>\n",
       "      <th>pc_9</th>\n",
       "      <th>...</th>\n",
       "      <th>pc_26</th>\n",
       "      <th>pc_27</th>\n",
       "      <th>pc_28</th>\n",
       "      <th>pc_29</th>\n",
       "      <th>pc_30</th>\n",
       "      <th>pc_31</th>\n",
       "      <th>pc_32</th>\n",
       "      <th>pc_33</th>\n",
       "      <th>pc_34</th>\n",
       "      <th>pc_35</th>\n",
       "    </tr>\n",
       "  </thead>\n",
       "  <tbody>\n",
       "    <tr>\n",
       "      <th>alpha_0</th>\n",
       "      <td>-0.196578</td>\n",
       "      <td>-0.104400</td>\n",
       "      <td>-0.065911</td>\n",
       "      <td>0.235320</td>\n",
       "      <td>-0.231316</td>\n",
       "      <td>0.314810</td>\n",
       "      <td>0.015099</td>\n",
       "      <td>0.064669</td>\n",
       "      <td>0.220428</td>\n",
       "      <td>-0.108406</td>\n",
       "      <td>...</td>\n",
       "      <td>0.214572</td>\n",
       "      <td>0.087430</td>\n",
       "      <td>0.292125</td>\n",
       "      <td>-0.049308</td>\n",
       "      <td>4.111228e-01</td>\n",
       "      <td>0.000000</td>\n",
       "      <td>0.000000</td>\n",
       "      <td>0.000000</td>\n",
       "      <td>-0.000000</td>\n",
       "      <td>0.000000</td>\n",
       "    </tr>\n",
       "    <tr>\n",
       "      <th>alpha_1</th>\n",
       "      <td>-0.209418</td>\n",
       "      <td>-0.094966</td>\n",
       "      <td>-0.069408</td>\n",
       "      <td>0.175544</td>\n",
       "      <td>-0.253089</td>\n",
       "      <td>-0.270269</td>\n",
       "      <td>0.096541</td>\n",
       "      <td>0.056542</td>\n",
       "      <td>0.176276</td>\n",
       "      <td>0.096994</td>\n",
       "      <td>...</td>\n",
       "      <td>0.012308</td>\n",
       "      <td>-0.142840</td>\n",
       "      <td>-0.266525</td>\n",
       "      <td>0.046648</td>\n",
       "      <td>-1.197232e-16</td>\n",
       "      <td>-0.167167</td>\n",
       "      <td>0.163305</td>\n",
       "      <td>-0.072344</td>\n",
       "      <td>-0.292750</td>\n",
       "      <td>0.015495</td>\n",
       "    </tr>\n",
       "    <tr>\n",
       "      <th>alpha_2</th>\n",
       "      <td>-0.203038</td>\n",
       "      <td>-0.091099</td>\n",
       "      <td>-0.020089</td>\n",
       "      <td>0.236732</td>\n",
       "      <td>-0.120625</td>\n",
       "      <td>0.281352</td>\n",
       "      <td>-0.224569</td>\n",
       "      <td>0.208275</td>\n",
       "      <td>-0.298065</td>\n",
       "      <td>-0.114690</td>\n",
       "      <td>...</td>\n",
       "      <td>-0.187323</td>\n",
       "      <td>0.119261</td>\n",
       "      <td>-0.030333</td>\n",
       "      <td>0.033775</td>\n",
       "      <td>-2.184551e-15</td>\n",
       "      <td>0.045382</td>\n",
       "      <td>-0.040020</td>\n",
       "      <td>-0.289020</td>\n",
       "      <td>0.038005</td>\n",
       "      <td>0.280006</td>\n",
       "    </tr>\n",
       "    <tr>\n",
       "      <th>alpha_3</th>\n",
       "      <td>-0.203395</td>\n",
       "      <td>-0.098511</td>\n",
       "      <td>-0.078565</td>\n",
       "      <td>0.215604</td>\n",
       "      <td>-0.127938</td>\n",
       "      <td>0.183340</td>\n",
       "      <td>-0.197825</td>\n",
       "      <td>-0.241645</td>\n",
       "      <td>-0.046322</td>\n",
       "      <td>0.194894</td>\n",
       "      <td>...</td>\n",
       "      <td>-0.163322</td>\n",
       "      <td>-0.196425</td>\n",
       "      <td>-0.150487</td>\n",
       "      <td>0.001104</td>\n",
       "      <td>-8.181961e-16</td>\n",
       "      <td>-0.175289</td>\n",
       "      <td>-0.182320</td>\n",
       "      <td>0.204808</td>\n",
       "      <td>-0.040616</td>\n",
       "      <td>0.219266</td>\n",
       "    </tr>\n",
       "    <tr>\n",
       "      <th>alpha_4</th>\n",
       "      <td>-0.205591</td>\n",
       "      <td>-0.080751</td>\n",
       "      <td>-0.055404</td>\n",
       "      <td>0.245987</td>\n",
       "      <td>0.004079</td>\n",
       "      <td>-0.258100</td>\n",
       "      <td>-0.093060</td>\n",
       "      <td>0.029511</td>\n",
       "      <td>-0.198098</td>\n",
       "      <td>0.241913</td>\n",
       "      <td>...</td>\n",
       "      <td>0.149253</td>\n",
       "      <td>0.117061</td>\n",
       "      <td>0.119958</td>\n",
       "      <td>0.004539</td>\n",
       "      <td>2.453970e-15</td>\n",
       "      <td>0.187264</td>\n",
       "      <td>0.270190</td>\n",
       "      <td>0.187510</td>\n",
       "      <td>0.008074</td>\n",
       "      <td>0.200717</td>\n",
       "    </tr>\n",
       "  </tbody>\n",
       "</table>\n",
       "<p>5 rows × 36 columns</p>\n",
       "</div>"
      ],
      "text/plain": [
       "             pc_0      pc_1      pc_2      pc_3      pc_4      pc_5      pc_6  \\\n",
       "alpha_0 -0.196578 -0.104400 -0.065911  0.235320 -0.231316  0.314810  0.015099   \n",
       "alpha_1 -0.209418 -0.094966 -0.069408  0.175544 -0.253089 -0.270269  0.096541   \n",
       "alpha_2 -0.203038 -0.091099 -0.020089  0.236732 -0.120625  0.281352 -0.224569   \n",
       "alpha_3 -0.203395 -0.098511 -0.078565  0.215604 -0.127938  0.183340 -0.197825   \n",
       "alpha_4 -0.205591 -0.080751 -0.055404  0.245987  0.004079 -0.258100 -0.093060   \n",
       "\n",
       "             pc_7      pc_8      pc_9    ...        pc_26     pc_27     pc_28  \\\n",
       "alpha_0  0.064669  0.220428 -0.108406    ...     0.214572  0.087430  0.292125   \n",
       "alpha_1  0.056542  0.176276  0.096994    ...     0.012308 -0.142840 -0.266525   \n",
       "alpha_2  0.208275 -0.298065 -0.114690    ...    -0.187323  0.119261 -0.030333   \n",
       "alpha_3 -0.241645 -0.046322  0.194894    ...    -0.163322 -0.196425 -0.150487   \n",
       "alpha_4  0.029511 -0.198098  0.241913    ...     0.149253  0.117061  0.119958   \n",
       "\n",
       "            pc_29         pc_30     pc_31     pc_32     pc_33     pc_34  \\\n",
       "alpha_0 -0.049308  4.111228e-01  0.000000  0.000000  0.000000 -0.000000   \n",
       "alpha_1  0.046648 -1.197232e-16 -0.167167  0.163305 -0.072344 -0.292750   \n",
       "alpha_2  0.033775 -2.184551e-15  0.045382 -0.040020 -0.289020  0.038005   \n",
       "alpha_3  0.001104 -8.181961e-16 -0.175289 -0.182320  0.204808 -0.040616   \n",
       "alpha_4  0.004539  2.453970e-15  0.187264  0.270190  0.187510  0.008074   \n",
       "\n",
       "            pc_35  \n",
       "alpha_0  0.000000  \n",
       "alpha_1  0.015495  \n",
       "alpha_2  0.280006  \n",
       "alpha_3  0.219266  \n",
       "alpha_4  0.200717  \n",
       "\n",
       "[5 rows x 36 columns]"
      ]
     },
     "execution_count": 158,
     "metadata": {},
     "output_type": "execute_result"
    }
   ],
   "source": [
    "pcs.head() "
   ]
  },
  {
   "cell_type": "code",
   "execution_count": 159,
   "metadata": {},
   "outputs": [
    {
     "data": {
      "text/plain": [
       "array([[ 0.05662048,  0.12993527, -0.6243805 ,  0.19615148,  0.        ,\n",
       "        -1.18186391,  0.        ,  0.        ,  0.        ,  0.        ,\n",
       "         0.        ,  0.        ,  0.        ,  0.        ,  0.        ,\n",
       "         0.        ,  0.        ,  0.        ,  0.        ,  0.        ,\n",
       "         0.        ,  0.        ,  0.        ,  0.        ,  0.        ,\n",
       "         0.        ,  0.        ,  0.        ,  0.        ,  0.        ,\n",
       "         0.        ,  0.        ,  0.        ,  0.        ,  0.        ,\n",
       "         0.        ]])"
      ]
     },
     "execution_count": 159,
     "metadata": {},
     "output_type": "execute_result"
    }
   ],
   "source": [
    "b"
   ]
  },
  {
   "cell_type": "code",
   "execution_count": null,
   "metadata": {},
   "outputs": [],
   "source": []
  }
 ],
 "metadata": {
  "kernelspec": {
   "display_name": "Python 3",
   "language": "python",
   "name": "python3"
  },
  "language_info": {
   "codemirror_mode": {
    "name": "ipython",
    "version": 3
   },
   "file_extension": ".py",
   "mimetype": "text/x-python",
   "name": "python",
   "nbconvert_exporter": "python",
   "pygments_lexer": "ipython3",
   "version": "3.5.2"
  }
 },
 "nbformat": 4,
 "nbformat_minor": 2
}
